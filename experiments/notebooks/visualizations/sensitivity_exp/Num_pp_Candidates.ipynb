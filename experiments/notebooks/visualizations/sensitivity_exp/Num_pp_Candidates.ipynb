{
 "cells": [
  {
   "cell_type": "code",
   "id": "initial_id",
   "metadata": {
    "ExecuteTime": {
     "end_time": "2025-05-21T17:53:12.098821Z",
     "start_time": "2025-05-21T17:53:11.794588Z"
    }
   },
   "source": [
    "%matplotlib inline\n",
    "%load_ext autoreload\n",
    "%autoreload 2"
   ],
   "outputs": [],
   "execution_count": 1
  },
  {
   "cell_type": "code",
   "id": "4b8df197bfac13ea",
   "metadata": {
    "ExecuteTime": {
     "end_time": "2025-05-21T17:53:12.111647Z",
     "start_time": "2025-05-21T17:53:12.103309Z"
    }
   },
   "source": [
    "import os\n",
    "import warnings\n",
    "\n",
    "warnings.filterwarnings('ignore')\n",
    "os.environ[\"PYTHONWARNINGS\"] = \"ignore\""
   ],
   "outputs": [],
   "execution_count": 2
  },
  {
   "cell_type": "code",
   "id": "795bc03809b0bd76",
   "metadata": {
    "ExecuteTime": {
     "end_time": "2025-05-21T17:53:12.246675Z",
     "start_time": "2025-05-21T17:53:12.237493Z"
    }
   },
   "source": [
    "cur_folder_name = os.getcwd().split('/')[-1]\n",
    "if cur_folder_name != \"virny-flow-experiments\":\n",
    "    os.chdir(\"../../..\")\n",
    "\n",
    "print('Current location: ', os.getcwd())"
   ],
   "outputs": [
    {
     "name": "stdout",
     "output_type": "stream",
     "text": [
      "Current location:  /Users/denys_herasymuk/Research/NYU/VirnyFlow_Project/Code/virny-flow-experiments\n"
     ]
    }
   ],
   "execution_count": 3
  },
  {
   "cell_type": "markdown",
   "id": "f82a3d9884591691",
   "metadata": {},
   "source": [
    "# Case Studies Visualizations"
   ]
  },
  {
   "cell_type": "code",
   "id": "7355907a9d999068",
   "metadata": {
    "ExecuteTime": {
     "end_time": "2025-05-21T17:53:12.630946Z",
     "start_time": "2025-05-21T17:53:12.251529Z"
    }
   },
   "source": [
    "import pandas as pd\n",
    "from duckdb import query as sqldf\n",
    "from virny_flow.core.custom_classes.core_db_client import CoreDBClient\n",
    "from virny_flow.configs.constants import EXP_CONFIG_HISTORY_TABLE\n",
    "from source.visualizations.use_case_queries import get_best_lps_per_exp_config\n",
    "from source.visualizations.scalability_viz import create_performance_plot_v3"
   ],
   "outputs": [],
   "execution_count": 4
  },
  {
   "cell_type": "markdown",
   "id": "a41c1d9ce97655db",
   "metadata": {},
   "source": [
    "## Prepare data for visualizations"
   ]
  },
  {
   "metadata": {
    "ExecuteTime": {
     "end_time": "2025-05-21T17:53:12.652386Z",
     "start_time": "2025-05-21T17:53:12.640358Z"
    }
   },
   "cell_type": "code",
   "source": [
    "DATASET_NAME = 'heart'\n",
    "DISPARITY_METRIC = 'Equalized_Odds_TNR'\n",
    "GROUP = \"gender\"\n",
    "\n",
    "# DATASET_NAME = 'folk_pubcov'\n",
    "# DISPARITY_METRIC1 = 'Selection_Rate_Difference'\n",
    "# GROUP1 = \"SEX\"\n",
    "# DISPARITY_METRIC2 = 'Selection_Rate_Difference'\n",
    "# GROUP2 = \"RAC1P\""
   ],
   "id": "4aacf99207ba03a1",
   "outputs": [],
   "execution_count": 5
  },
  {
   "cell_type": "code",
   "id": "7010681237f5c94a",
   "metadata": {
    "ExecuteTime": {
     "end_time": "2025-05-21T17:53:12.961465Z",
     "start_time": "2025-05-21T17:53:12.658389Z"
    }
   },
   "source": [
    "SECRETS_PATH = os.path.join(os.getcwd(), \"scripts\", \"configs\", \"secrets.env\")\n",
    "EXP_NAME = 'scalability_exp'\n",
    "VIRNY_FLOW = 'virny_flow'\n",
    "ALPINE = 'alpine_meadow'\n",
    "AUTOSKLEARN = 'autosklearn'\n",
    "EXP_CONFIG_NAMES = {\n",
    "    VIRNY_FLOW: {\n",
    "        f'sensitivity_exp_{DATASET_NAME}_w32_vf_pp_cand_1': 1,\n",
    "        f'sensitivity_exp_{DATASET_NAME}_w32_vf_pp_cand_2': 2,\n",
    "        f'sensitivity_exp_{DATASET_NAME}_w32_vf_pp_cand_4': 4,\n",
    "        f'sensitivity_exp_{DATASET_NAME}_w32_vf_pp_cand_8': 8,\n",
    "        f'sensitivity_exp_{DATASET_NAME}_w32_vf_pp_cand_16': 16,\n",
    "        f'sensitivity_exp_{DATASET_NAME}_w32_vf_pp_cand_32': 32,\n",
    "    },\n",
    "}\n",
    "\n",
    "db_client = CoreDBClient(SECRETS_PATH)\n",
    "db_client.connect()"
   ],
   "outputs": [],
   "execution_count": 6
  },
  {
   "metadata": {
    "ExecuteTime": {
     "end_time": "2025-05-21T17:53:12.982849Z",
     "start_time": "2025-05-21T17:53:12.967753Z"
    }
   },
   "cell_type": "code",
   "source": [
    "def get_virny_flow_metrics(db_client):\n",
    "    exp_config_names = list(EXP_CONFIG_NAMES['virny_flow'].keys())\n",
    "    best_lp_metrics_per_exp_config_df = get_best_lps_per_exp_config(secrets_path=SECRETS_PATH,\n",
    "                                                                    exp_config_names=exp_config_names)\n",
    "    best_lp_metrics_per_exp_config_df['num_pp_candidates'] = best_lp_metrics_per_exp_config_df['exp_config_name'].map(EXP_CONFIG_NAMES['virny_flow'])\n",
    "\n",
    "    virny_flow_all_runtime_df = pd.DataFrame()\n",
    "    for exp_config_name in exp_config_names:\n",
    "        virny_flow_runtime_df = db_client.read_metric_df_from_db(collection_name=EXP_CONFIG_HISTORY_TABLE,\n",
    "                                                                 query={'exp_config_name': exp_config_name,\n",
    "                                                                        'deletion_flag': False})\n",
    "        virny_flow_all_runtime_df = pd.concat([virny_flow_all_runtime_df, virny_flow_runtime_df])\n",
    "    \n",
    "    new_column_names = []\n",
    "    for col in virny_flow_all_runtime_df.columns:\n",
    "        new_col_name = '_'.join([c.lower() for c in col.split('_')])\n",
    "        new_column_names.append(new_col_name)\n",
    "    virny_flow_all_runtime_df.columns = new_column_names\n",
    "\n",
    "    virny_flow_metrics_df = sqldf(\"\"\"\n",
    "        SELECT DISTINCT t1.*, t2.exp_config_execution_time\n",
    "        FROM best_lp_metrics_per_exp_config_df AS t1\n",
    "        JOIN virny_flow_all_runtime_df AS t2\n",
    "          ON t1.exp_config_name = t2.exp_config_name\n",
    "         AND t1.run_num = t2.run_num\n",
    "    \"\"\").to_df()\n",
    "    \n",
    "    return virny_flow_metrics_df"
   ],
   "id": "16366d61e373bc6",
   "outputs": [],
   "execution_count": 7
  },
  {
   "cell_type": "code",
   "id": "8219596d0fdfa897",
   "metadata": {
    "scrolled": true,
    "ExecuteTime": {
     "end_time": "2025-05-21T17:53:20.999144Z",
     "start_time": "2025-05-21T17:53:12.990116Z"
    }
   },
   "source": "virny_flow_metrics_df = get_virny_flow_metrics(db_client)",
   "outputs": [
    {
     "name": "stdout",
     "output_type": "stream",
     "text": [
      "Extracting metrics for sensitivity_exp_heart_w32_vf_pp_cand_1...\n",
      "best_pps_per_lp_and_run_num_df.shape: (162, 15)\n",
      "best_lp_per_run_all.shape: (81, 15)\n",
      "Extracted metrics for sensitivity_exp_heart_w32_vf_pp_cand_1\n",
      "\n",
      "Extracting metrics for sensitivity_exp_heart_w32_vf_pp_cand_2...\n",
      "best_pps_per_lp_and_run_num_df.shape: (189, 15)\n",
      "best_lp_per_run_all.shape: (90, 15)\n",
      "Extracted metrics for sensitivity_exp_heart_w32_vf_pp_cand_2\n",
      "\n",
      "Extracting metrics for sensitivity_exp_heart_w32_vf_pp_cand_4...\n",
      "best_pps_per_lp_and_run_num_df.shape: (180, 15)\n",
      "best_lp_per_run_all.shape: (81, 15)\n",
      "Extracted metrics for sensitivity_exp_heart_w32_vf_pp_cand_4\n",
      "\n",
      "Extracting metrics for sensitivity_exp_heart_w32_vf_pp_cand_8...\n",
      "best_pps_per_lp_and_run_num_df.shape: (144, 15)\n",
      "best_lp_per_run_all.shape: (72, 15)\n",
      "Extracted metrics for sensitivity_exp_heart_w32_vf_pp_cand_8\n",
      "\n",
      "Extracting metrics for sensitivity_exp_heart_w32_vf_pp_cand_16...\n",
      "best_pps_per_lp_and_run_num_df.shape: (144, 15)\n",
      "best_lp_per_run_all.shape: (72, 15)\n",
      "Extracted metrics for sensitivity_exp_heart_w32_vf_pp_cand_16\n",
      "\n",
      "Extracting metrics for sensitivity_exp_heart_w32_vf_pp_cand_32...\n",
      "best_pps_per_lp_and_run_num_df.shape: (135, 15)\n",
      "best_lp_per_run_all.shape: (81, 15)\n",
      "Extracted metrics for sensitivity_exp_heart_w32_vf_pp_cand_32\n",
      "\n"
     ]
    }
   ],
   "execution_count": 8
  },
  {
   "metadata": {},
   "cell_type": "markdown",
   "source": "## Display Results",
   "id": "a3c4124dc04b38ff"
  },
  {
   "metadata": {
    "ExecuteTime": {
     "end_time": "2025-05-21T17:53:21.034423Z",
     "start_time": "2025-05-21T17:53:21.010050Z"
    }
   },
   "cell_type": "code",
   "source": [
    "from virny_flow.visualizations.use_case_queries import get_models_disparity_metric_df\n",
    "\n",
    "\n",
    "def display_table_with_results(system_metrics_df, system_name: str, disparity_metric_name: str, group_name: str):\n",
    "    if system_name == VIRNY_FLOW:\n",
    "        system_metrics_df['system_name'] = system_name\n",
    "        common_cols = ['system_name', 'dataset_name', 'num_pp_candidates', 'run_num', 'exp_config_execution_time']\n",
    "    else:\n",
    "        common_cols = ['system_name', 'dataset_name', 'num_pp_candidates', 'run_num', 'optimization_time']\n",
    "\n",
    "    f1_metrics_df = system_metrics_df[system_metrics_df['metric'] == 'F1']\n",
    "    f1_metrics_df['F1'] = f1_metrics_df['overall']\n",
    "    f1_metrics_df = f1_metrics_df[common_cols + ['F1']]\n",
    "\n",
    "    disparity_metric_df = get_models_disparity_metric_df(system_metrics_df, disparity_metric_name, group_name)\n",
    "    disparity_metric_df[disparity_metric_name] = disparity_metric_df['disparity_metric_value']\n",
    "    disparity_metric_df = disparity_metric_df[common_cols + [disparity_metric_name]]\n",
    "\n",
    "    final_metrics_df = sqldf(f\"\"\"\n",
    "        SELECT t1.*, t2.{disparity_metric_name}\n",
    "        FROM f1_metrics_df AS t1\n",
    "        JOIN disparity_metric_df AS t2\n",
    "          ON t1.run_num = t2.run_num\n",
    "         AND t1.num_pp_candidates = t2.num_pp_candidates\n",
    "    \"\"\").to_df()\n",
    "    final_metrics_df[\"score\"] = final_metrics_df[\"F1\"] * 0.5 + (1 - abs(final_metrics_df[disparity_metric_name])) * 0.5\n",
    "\n",
    "    if system_name == VIRNY_FLOW:\n",
    "        final_metrics_df = final_metrics_df[~final_metrics_df['exp_config_execution_time'].isna()]\n",
    "        final_metrics_df = final_metrics_df.rename(columns={'exp_config_execution_time': 'optimization_time'})\n",
    "\n",
    "    return final_metrics_df\n",
    "\n",
    "\n",
    "def display_table_with_results_for_folk_pubcov(system_metrics_df, system_name: str,\n",
    "                                               disparity_metric_name1: str, group_name1: str,\n",
    "                                               disparity_metric_name2: str, group_name2: str):\n",
    "    if system_name == VIRNY_FLOW:\n",
    "        system_metrics_df['system_name'] = system_name\n",
    "        common_cols = ['system_name', 'dataset_name', 'num_pp_candidates', 'run_num', 'exp_config_execution_time']\n",
    "    else:\n",
    "        common_cols = ['system_name', 'dataset_name', 'num_pp_candidates', 'run_num', 'optimization_time']\n",
    "\n",
    "    f1_metrics_df = system_metrics_df[system_metrics_df['metric'] == 'F1']\n",
    "    f1_metrics_df['F1'] = f1_metrics_df['overall']\n",
    "    f1_metrics_df = f1_metrics_df[common_cols + ['F1']]\n",
    "\n",
    "    disparity_metric_df1 = get_models_disparity_metric_df(system_metrics_df, disparity_metric_name1, group_name1)\n",
    "    disparity_metric_df1[disparity_metric_name1] = disparity_metric_df1['disparity_metric_value']\n",
    "    disparity_metric_df1 = disparity_metric_df1[common_cols + [disparity_metric_name1]]\n",
    "\n",
    "    disparity_metric_df2 = get_models_disparity_metric_df(system_metrics_df, disparity_metric_name2, group_name2)\n",
    "    disparity_metric_df2[disparity_metric_name2] = disparity_metric_df2['disparity_metric_value']\n",
    "    disparity_metric_df2 = disparity_metric_df2[common_cols + [disparity_metric_name2]]\n",
    "\n",
    "    final_metrics_df = sqldf(f\"\"\"\n",
    "            SELECT t1.*, t2.{disparity_metric_name1} AS {disparity_metric_name1}_{group_name1}, t3.{disparity_metric_name2} AS {disparity_metric_name2}_{group_name2}\n",
    "            FROM f1_metrics_df AS t1\n",
    "            JOIN disparity_metric_df1 AS t2\n",
    "              ON t1.run_num = t2.run_num\n",
    "             AND t1.dataset_name = t2.dataset_name\n",
    "             AND t1.num_pp_candidates = t2.num_pp_candidates\n",
    "            JOIN disparity_metric_df2 AS t3\n",
    "              ON t1.run_num = t3.run_num\n",
    "             AND t1.dataset_name = t3.dataset_name\n",
    "             AND t1.num_pp_candidates = t3.num_pp_candidates\n",
    "        \"\"\").to_df()\n",
    "    \n",
    "    final_metrics_df[\"score\"] = (final_metrics_df[\"F1\"] * 0.33 + \n",
    "                                 (1 - abs(final_metrics_df[f\"{disparity_metric_name1}_{group_name1}\"])) * 0.33 + \n",
    "                                 (1 - abs(final_metrics_df[f\"{disparity_metric_name2}_{group_name2}\"])) * 0.33)\n",
    "\n",
    "    if system_name == VIRNY_FLOW:\n",
    "        final_metrics_df = final_metrics_df[~final_metrics_df['exp_config_execution_time'].isna()]        \n",
    "        final_metrics_df = final_metrics_df.rename(columns={'exp_config_execution_time': 'optimization_time'})\n",
    "\n",
    "    return final_metrics_df\n",
    "\n",
    "\n",
    "def create_latex_table(df):\n",
    "    # Compute mean and std for each system\n",
    "    summary = df.groupby('num_pp_candidates').agg(['mean', 'std']).round(4)\n",
    "\n",
    "    # Combine mean and std into \"mean ± std\" format\n",
    "    def format_metric(mean, std):\n",
    "        if pd.isna(std):\n",
    "            return f\"{mean:.4f} ± n/a\"\n",
    "        return f\"{mean:.4f} \\scriptsize{{$\\pm${std:.4f}}}\"\n",
    "\n",
    "    def format_runtime(mean, std):\n",
    "        if pd.isna(std):\n",
    "            return f\"{mean:.0f} ± n/a\"\n",
    "        return f\"{mean:.0f} \\scriptsize{{$\\pm${std:.0f}}}\"\n",
    "\n",
    "    # Create formatted DataFrame\n",
    "    latex_df = pd.DataFrame({\n",
    "        '# of PP Candidates': summary.index,\n",
    "        'Score': [format_metric(m, s) for m, s in zip(summary['score']['mean'], summary['score']['std'])],\n",
    "        'Runtime': [format_runtime(m, s) for m, s in zip(summary['optimization_time']['mean'], summary['optimization_time']['std'])],\n",
    "    })\n",
    "\n",
    "    # Reorder rows: virny_flow first\n",
    "    latex_df = latex_df.set_index('# of PP Candidates').loc[[1, 2, 4, 8, 16, 32]].reset_index()\n",
    "\n",
    "    # Generate LaTeX table\n",
    "    latex_table = latex_df.to_latex(index=False,\n",
    "                                    caption='Sensitivity to the Number of Physical Pipeline Candidates',\n",
    "                                    label='tab:sensitivity_pp',\n",
    "                                    column_format='lcc',\n",
    "                                    escape=False)\n",
    "\n",
    "    print(latex_table)"
   ],
   "id": "46042acbcce08dae",
   "outputs": [],
   "execution_count": 9
  },
  {
   "metadata": {
    "ExecuteTime": {
     "end_time": "2025-05-21T17:53:21.063348Z",
     "start_time": "2025-05-21T17:53:21.043426Z"
    }
   },
   "cell_type": "code",
   "source": [
    "if DATASET_NAME == 'folk_pubcov':\n",
    "    virny_flow_final_metrics_df = display_table_with_results_for_folk_pubcov(virny_flow_metrics_df, 'virny_flow',\n",
    "                                                                             DISPARITY_METRIC1, GROUP1,\n",
    "                                                                             DISPARITY_METRIC2, GROUP2)\n",
    "else:\n",
    "    virny_flow_final_metrics_df = display_table_with_results(virny_flow_metrics_df, 'virny_flow', DISPARITY_METRIC, GROUP)"
   ],
   "id": "bdb651a016484ea5",
   "outputs": [],
   "execution_count": 10
  },
  {
   "metadata": {
    "ExecuteTime": {
     "end_time": "2025-05-21T17:53:21.110125Z",
     "start_time": "2025-05-21T17:53:21.092495Z"
    }
   },
   "cell_type": "code",
   "source": "virny_flow_final_metrics_df[virny_flow_final_metrics_df['num_pp_candidates'] == 8]",
   "id": "81d186b6bd8114ec",
   "outputs": [
    {
     "data": {
      "text/plain": [
       "   system_name dataset_name  num_pp_candidates  run_num  optimization_time  \\\n",
       "2   virny_flow        heart                  8        2         590.595077   \n",
       "3   virny_flow        heart                  8        3        1159.774059   \n",
       "5   virny_flow        heart                  8        8         827.847077   \n",
       "50  virny_flow        heart                  8        1         565.025150   \n",
       "\n",
       "          F1  Equalized_Odds_TNR     score  \n",
       "2   0.728010           -0.001241  0.863385  \n",
       "3   0.723501            0.001325  0.861088  \n",
       "5   0.720805            0.000803  0.860001  \n",
       "50  0.728869           -0.004557  0.862156  "
      ],
      "text/html": [
       "<div>\n",
       "<style scoped>\n",
       "    .dataframe tbody tr th:only-of-type {\n",
       "        vertical-align: middle;\n",
       "    }\n",
       "\n",
       "    .dataframe tbody tr th {\n",
       "        vertical-align: top;\n",
       "    }\n",
       "\n",
       "    .dataframe thead th {\n",
       "        text-align: right;\n",
       "    }\n",
       "</style>\n",
       "<table border=\"1\" class=\"dataframe\">\n",
       "  <thead>\n",
       "    <tr style=\"text-align: right;\">\n",
       "      <th></th>\n",
       "      <th>system_name</th>\n",
       "      <th>dataset_name</th>\n",
       "      <th>num_pp_candidates</th>\n",
       "      <th>run_num</th>\n",
       "      <th>optimization_time</th>\n",
       "      <th>F1</th>\n",
       "      <th>Equalized_Odds_TNR</th>\n",
       "      <th>score</th>\n",
       "    </tr>\n",
       "  </thead>\n",
       "  <tbody>\n",
       "    <tr>\n",
       "      <th>2</th>\n",
       "      <td>virny_flow</td>\n",
       "      <td>heart</td>\n",
       "      <td>8</td>\n",
       "      <td>2</td>\n",
       "      <td>590.595077</td>\n",
       "      <td>0.728010</td>\n",
       "      <td>-0.001241</td>\n",
       "      <td>0.863385</td>\n",
       "    </tr>\n",
       "    <tr>\n",
       "      <th>3</th>\n",
       "      <td>virny_flow</td>\n",
       "      <td>heart</td>\n",
       "      <td>8</td>\n",
       "      <td>3</td>\n",
       "      <td>1159.774059</td>\n",
       "      <td>0.723501</td>\n",
       "      <td>0.001325</td>\n",
       "      <td>0.861088</td>\n",
       "    </tr>\n",
       "    <tr>\n",
       "      <th>5</th>\n",
       "      <td>virny_flow</td>\n",
       "      <td>heart</td>\n",
       "      <td>8</td>\n",
       "      <td>8</td>\n",
       "      <td>827.847077</td>\n",
       "      <td>0.720805</td>\n",
       "      <td>0.000803</td>\n",
       "      <td>0.860001</td>\n",
       "    </tr>\n",
       "    <tr>\n",
       "      <th>50</th>\n",
       "      <td>virny_flow</td>\n",
       "      <td>heart</td>\n",
       "      <td>8</td>\n",
       "      <td>1</td>\n",
       "      <td>565.025150</td>\n",
       "      <td>0.728869</td>\n",
       "      <td>-0.004557</td>\n",
       "      <td>0.862156</td>\n",
       "    </tr>\n",
       "  </tbody>\n",
       "</table>\n",
       "</div>"
      ]
     },
     "execution_count": 11,
     "metadata": {},
     "output_type": "execute_result"
    }
   ],
   "execution_count": 11
  },
  {
   "metadata": {
    "ExecuteTime": {
     "end_time": "2025-05-21T17:53:21.162417Z",
     "start_time": "2025-05-21T17:53:21.141429Z"
    }
   },
   "cell_type": "code",
   "source": "create_latex_table(virny_flow_final_metrics_df)",
   "id": "56dd6573480978f9",
   "outputs": [
    {
     "name": "stdout",
     "output_type": "stream",
     "text": [
      "\\begin{table}\n",
      "\\centering\n",
      "\\caption{Sensitivity to the Number of Physical Pipeline Candidates}\n",
      "\\label{tab:sensitivity_pp}\n",
      "\\begin{tabular}{lcc}\n",
      "\\toprule\n",
      " # of PP Candidates &                           Score &                    Runtime \\\\\n",
      "\\midrule\n",
      "                  1 & 0.8631 \\scriptsize{$\\pm$0.0020} & 1049 \\scriptsize{$\\pm$461} \\\\\n",
      "                  2 & 0.8630 \\scriptsize{$\\pm$0.0021} &  917 \\scriptsize{$\\pm$180} \\\\\n",
      "                  4 & 0.8628 \\scriptsize{$\\pm$0.0033} &  781 \\scriptsize{$\\pm$104} \\\\\n",
      "                  8 & 0.8617 \\scriptsize{$\\pm$0.0014} &  786 \\scriptsize{$\\pm$276} \\\\\n",
      "                 16 & 0.8608 \\scriptsize{$\\pm$0.0061} &  724 \\scriptsize{$\\pm$175} \\\\\n",
      "                 32 & 0.8595 \\scriptsize{$\\pm$0.0091} &  585 \\scriptsize{$\\pm$165} \\\\\n",
      "\\bottomrule\n",
      "\\end{tabular}\n",
      "\\end{table}\n",
      "\n"
     ]
    }
   ],
   "execution_count": 12
  },
  {
   "metadata": {
    "ExecuteTime": {
     "end_time": "2025-05-21T17:53:21.241429Z",
     "start_time": "2025-05-21T17:53:21.184657Z"
    }
   },
   "cell_type": "code",
   "source": "create_performance_plot_v3(virny_flow_final_metrics_df, metric_name=\"F1\")",
   "id": "c7dfda9c40d30f1",
   "outputs": [
    {
     "data": {
      "text/html": [
       "\n",
       "<div id=\"altair-viz-8d367b6f3928459484fe5c1f7189bee0\"></div>\n",
       "<script type=\"text/javascript\">\n",
       "  var VEGA_DEBUG = (typeof VEGA_DEBUG == \"undefined\") ? {} : VEGA_DEBUG;\n",
       "  (function(spec, embedOpt){\n",
       "    let outputDiv = document.currentScript.previousElementSibling;\n",
       "    if (outputDiv.id !== \"altair-viz-8d367b6f3928459484fe5c1f7189bee0\") {\n",
       "      outputDiv = document.getElementById(\"altair-viz-8d367b6f3928459484fe5c1f7189bee0\");\n",
       "    }\n",
       "    const paths = {\n",
       "      \"vega\": \"https://cdn.jsdelivr.net/npm//vega@5?noext\",\n",
       "      \"vega-lib\": \"https://cdn.jsdelivr.net/npm//vega-lib?noext\",\n",
       "      \"vega-lite\": \"https://cdn.jsdelivr.net/npm//vega-lite@4.17.0?noext\",\n",
       "      \"vega-embed\": \"https://cdn.jsdelivr.net/npm//vega-embed@6?noext\",\n",
       "    };\n",
       "\n",
       "    function maybeLoadScript(lib, version) {\n",
       "      var key = `${lib.replace(\"-\", \"\")}_version`;\n",
       "      return (VEGA_DEBUG[key] == version) ?\n",
       "        Promise.resolve(paths[lib]) :\n",
       "        new Promise(function(resolve, reject) {\n",
       "          var s = document.createElement('script');\n",
       "          document.getElementsByTagName(\"head\")[0].appendChild(s);\n",
       "          s.async = true;\n",
       "          s.onload = () => {\n",
       "            VEGA_DEBUG[key] = version;\n",
       "            return resolve(paths[lib]);\n",
       "          };\n",
       "          s.onerror = () => reject(`Error loading script: ${paths[lib]}`);\n",
       "          s.src = paths[lib];\n",
       "        });\n",
       "    }\n",
       "\n",
       "    function showError(err) {\n",
       "      outputDiv.innerHTML = `<div class=\"error\" style=\"color:red;\">${err}</div>`;\n",
       "      throw err;\n",
       "    }\n",
       "\n",
       "    function displayChart(vegaEmbed) {\n",
       "      vegaEmbed(outputDiv, spec, embedOpt)\n",
       "        .catch(err => showError(`Javascript Error: ${err.message}<br>This usually means there's a typo in your chart specification. See the javascript console for the full traceback.`));\n",
       "    }\n",
       "\n",
       "    if(typeof define === \"function\" && define.amd) {\n",
       "      requirejs.config({paths});\n",
       "      require([\"vega-embed\"], displayChart, err => showError(`Error loading script: ${err.message}`));\n",
       "    } else {\n",
       "      maybeLoadScript(\"vega\", \"5\")\n",
       "        .then(() => maybeLoadScript(\"vega-lite\", \"4.17.0\"))\n",
       "        .then(() => maybeLoadScript(\"vega-embed\", \"6\"))\n",
       "        .catch(showError)\n",
       "        .then(() => displayChart(vegaEmbed));\n",
       "    }\n",
       "  })({\"config\": {\"view\": {\"continuousWidth\": 400, \"continuousHeight\": 300, \"stroke\": null}, \"axis\": {\"labelFontSize\": 26, \"labelFontWeight\": \"normal\", \"titleFontSize\": 28, \"titleFontWeight\": \"normal\"}, \"facet\": {\"spacing\": 10}, \"header\": {\"labelFontSize\": 24, \"labelOrient\": \"top\", \"labelPadding\": 5, \"titleFontSize\": 24}, \"legend\": {\"columns\": 4, \"direction\": \"horizontal\", \"labelFontSize\": 24, \"labelLimit\": 400, \"orient\": \"top\", \"symbolOffset\": 120, \"symbolStrokeWidth\": 10, \"titleAnchor\": \"middle\", \"titleFontSize\": 26, \"titleLimit\": 300}, \"title\": {\"fontSize\": 24}}, \"data\": {\"name\": \"data-be8bdb9632974eb61843d9d6ca74f9ad\"}, \"mark\": {\"type\": \"boxplot\", \"median\": {\"stroke\": \"white\", \"strokeWidth\": 0.7}, \"ticks\": true}, \"encoding\": {\"color\": {\"field\": \"system_name\", \"legend\": null, \"sort\": [\"virny_flow\", \"alpine_meadow\", \"autosklearn\"], \"type\": \"nominal\"}, \"column\": {\"field\": \"system_name\", \"sort\": [\"virny_flow\", \"alpine_meadow\", \"autosklearn\"], \"title\": null, \"type\": \"nominal\"}, \"x\": {\"axis\": {\"labelAngle\": -45}, \"field\": \"num_pp_candidates\", \"title\": \"# of PP Candidates\", \"type\": \"ordinal\"}, \"y\": {\"field\": \"F1\", \"scale\": {\"zero\": false}, \"type\": \"quantitative\"}}, \"height\": 300, \"resolve\": {\"scale\": {\"x\": \"independent\"}}, \"width\": 240, \"$schema\": \"https://vega.github.io/schema/vega-lite/v4.17.0.json\", \"datasets\": {\"data-be8bdb9632974eb61843d9d6ca74f9ad\": [{\"system_name\": \"virny_flow\", \"dataset_name\": \"heart\", \"num_pp_candidates\": 2, \"run_num\": 8, \"optimization_time\": 1043.3241970539093, \"F1\": 0.7249256653854522, \"Equalized_Odds_TNR\": -0.002398479277092025, \"score\": 0.8612635930541801}, {\"system_name\": \"virny_flow\", \"dataset_name\": \"heart\", \"num_pp_candidates\": 8, \"run_num\": 2, \"optimization_time\": 590.5950770378113, \"F1\": 0.7280098457974372, \"Equalized_Odds_TNR\": -0.0012406528616623058, \"score\": 0.8633845964678875}, {\"system_name\": \"virny_flow\", \"dataset_name\": \"heart\", \"num_pp_candidates\": 8, \"run_num\": 3, \"optimization_time\": 1159.7740588188171, \"F1\": 0.7235009529394517, \"Equalized_Odds_TNR\": 0.001325353274049701, \"score\": 0.861087799832701}, {\"system_name\": \"virny_flow\", \"dataset_name\": \"heart\", \"num_pp_candidates\": 8, \"run_num\": 8, \"optimization_time\": 827.8470773696899, \"F1\": 0.7208054677739398, \"Equalized_Odds_TNR\": 0.0008034140982117188, \"score\": 0.8600010268378641}, {\"system_name\": \"virny_flow\", \"dataset_name\": \"heart\", \"num_pp_candidates\": 32, \"run_num\": 6, \"optimization_time\": 676.0661339759827, \"F1\": 0.7291483757682178, \"Equalized_Odds_TNR\": -0.0012269947480306742, \"score\": 0.8639606905100936}, {\"system_name\": \"virny_flow\", \"dataset_name\": \"heart\", \"num_pp_candidates\": 2, \"run_num\": 9, \"optimization_time\": 624.6860892772675, \"F1\": 0.7264863279818196, \"Equalized_Odds_TNR\": -9.151267532647722e-08, \"score\": 0.8632431182345721}, {\"system_name\": \"virny_flow\", \"dataset_name\": \"heart\", \"num_pp_candidates\": 4, \"run_num\": 4, \"optimization_time\": 912.030332326889, \"F1\": 0.7218445167011528, \"Equalized_Odds_TNR\": 0.002062159455198609, \"score\": 0.859891178622977}, {\"system_name\": \"virny_flow\", \"dataset_name\": \"heart\", \"num_pp_candidates\": 4, \"run_num\": 9, \"optimization_time\": 797.7392387390137, \"F1\": 0.7275105362592647, \"Equalized_Odds_TNR\": 0.00031160065918411917, \"score\": 0.8635994678000403}, {\"system_name\": \"virny_flow\", \"dataset_name\": \"heart\", \"num_pp_candidates\": 4, \"run_num\": 10, \"optimization_time\": 760.7772438526154, \"F1\": 0.7341227125941873, \"Equalized_Odds_TNR\": -0.0018304880865733786, \"score\": 0.866146112253807}, {\"system_name\": \"virny_flow\", \"dataset_name\": \"heart\", \"num_pp_candidates\": 32, \"run_num\": 1, \"optimization_time\": 719.6676738262177, \"F1\": 0.72514965634469, \"Equalized_Odds_TNR\": 0.0005709813543802733, \"score\": 0.8622893374951548}, {\"system_name\": \"virny_flow\", \"dataset_name\": \"heart\", \"num_pp_candidates\": 1, \"run_num\": 5, \"optimization_time\": 825.7661674022675, \"F1\": 0.7298938894987194, \"Equalized_Odds_TNR\": -0.0008911964725567545, \"score\": 0.8645013465130813}, {\"system_name\": \"virny_flow\", \"dataset_name\": \"heart\", \"num_pp_candidates\": 2, \"run_num\": 3, \"optimization_time\": 926.437962770462, \"F1\": 0.7266516461952177, \"Equalized_Odds_TNR\": -0.0026071064739614513, \"score\": 0.8620222698606281}, {\"system_name\": \"virny_flow\", \"dataset_name\": \"heart\", \"num_pp_candidates\": 4, \"run_num\": 2, \"optimization_time\": 763.7747843265533, \"F1\": 0.7250937431071245, \"Equalized_Odds_TNR\": 0.000594711676732862, \"score\": 0.8622495157151958}, {\"system_name\": \"virny_flow\", \"dataset_name\": \"heart\", \"num_pp_candidates\": 4, \"run_num\": 3, \"optimization_time\": 916.9314045906067, \"F1\": 0.7244897959183674, \"Equalized_Odds_TNR\": 0.00018365418983812276, \"score\": 0.8621530708642646}, {\"system_name\": \"virny_flow\", \"dataset_name\": \"heart\", \"num_pp_candidates\": 4, \"run_num\": 7, \"optimization_time\": 813.2355942726135, \"F1\": 0.7313432835820896, \"Equalized_Odds_TNR\": -0.00025257921893184765, \"score\": 0.8655453521815788}, {\"system_name\": \"virny_flow\", \"dataset_name\": \"heart\", \"num_pp_candidates\": 16, \"run_num\": 1, \"optimization_time\": 997.3642792701721, \"F1\": 0.7263520951053056, \"Equalized_Odds_TNR\": 0.0033566084646634575, \"score\": 0.861497743320321}, {\"system_name\": \"virny_flow\", \"dataset_name\": \"heart\", \"num_pp_candidates\": 16, \"run_num\": 4, \"optimization_time\": 952.4341969490051, \"F1\": 0.7196143863552095, \"Equalized_Odds_TNR\": 0.0028260859562123652, \"score\": 0.8583941501994985}, {\"system_name\": \"virny_flow\", \"dataset_name\": \"heart\", \"num_pp_candidates\": 16, \"run_num\": 8, \"optimization_time\": 657.1047739982605, \"F1\": 0.7004118307749906, \"Equalized_Odds_TNR\": -0.006224988883948512, \"score\": 0.847093420945521}, {\"system_name\": \"virny_flow\", \"dataset_name\": \"heart\", \"num_pp_candidates\": 2, \"run_num\": 1, \"optimization_time\": 967.5260198116302, \"F1\": 0.7313304721030043, \"Equalized_Odds_TNR\": 0.002449859952315836, \"score\": 0.8644403060753443}, {\"system_name\": \"virny_flow\", \"dataset_name\": \"heart\", \"num_pp_candidates\": 2, \"run_num\": 2, \"optimization_time\": 1144.1646316051483, \"F1\": 0.7270345028388412, \"Equalized_Odds_TNR\": 0.0014234613172274813, \"score\": 0.8628055207608069}, {\"system_name\": \"virny_flow\", \"dataset_name\": \"heart\", \"num_pp_candidates\": 2, \"run_num\": 7, \"optimization_time\": 891.5483634471893, \"F1\": 0.729154603358425, \"Equalized_Odds_TNR\": 0.0024582629564822156, \"score\": 0.8633481702009713}, {\"system_name\": \"virny_flow\", \"dataset_name\": \"heart\", \"num_pp_candidates\": 16, \"run_num\": 3, \"optimization_time\": 764.064489364624, \"F1\": 0.7265446224256293, \"Equalized_Odds_TNR\": 0.0026487489937502273, \"score\": 0.8619479367159395}, {\"system_name\": \"virny_flow\", \"dataset_name\": \"heart\", \"num_pp_candidates\": 32, \"run_num\": 4, \"optimization_time\": 834.7587037086487, \"F1\": 0.7242442031112416, \"Equalized_Odds_TNR\": -0.002122158406795971, \"score\": 0.8610610223522228}, {\"system_name\": \"virny_flow\", \"dataset_name\": \"heart\", \"num_pp_candidates\": 32, \"run_num\": 5, \"optimization_time\": 310.88029861450195, \"F1\": 0.7326560232220609, \"Equalized_Odds_TNR\": 0.0004679499608619686, \"score\": 0.8660940366305995}, {\"system_name\": \"virny_flow\", \"dataset_name\": \"heart\", \"num_pp_candidates\": 1, \"run_num\": 6, \"optimization_time\": 1841.217457294464, \"F1\": 0.7311082213552955, \"Equalized_Odds_TNR\": -0.0011097825664556638, \"score\": 0.8649992193944199}, {\"system_name\": \"virny_flow\", \"dataset_name\": \"heart\", \"num_pp_candidates\": 1, \"run_num\": 7, \"optimization_time\": 746.9241716861725, \"F1\": 0.7275383491599707, \"Equalized_Odds_TNR\": -0.0006378664884689744, \"score\": 0.8634502413357509}, {\"system_name\": \"virny_flow\", \"dataset_name\": \"heart\", \"num_pp_candidates\": 1, \"run_num\": 9, \"optimization_time\": 764.6804559230804, \"F1\": 0.7251393370489879, \"Equalized_Odds_TNR\": -0.0006504720955891052, \"score\": 0.8622444324766994}, {\"system_name\": \"virny_flow\", \"dataset_name\": \"heart\", \"num_pp_candidates\": 16, \"run_num\": 6, \"optimization_time\": 475.1403155326843, \"F1\": 0.7259643916913947, \"Equalized_Odds_TNR\": 0.00013808188696684542, \"score\": 0.862913154902214}, {\"system_name\": \"virny_flow\", \"dataset_name\": \"heart\", \"num_pp_candidates\": 32, \"run_num\": 3, \"optimization_time\": 499.1159436702728, \"F1\": 0.7128272050356951, \"Equalized_Odds_TNR\": 0.037299596485762754, \"score\": 0.8377638042749662}, {\"system_name\": \"virny_flow\", \"dataset_name\": \"heart\", \"num_pp_candidates\": 2, \"run_num\": 4, \"optimization_time\": 909.6818695068359, \"F1\": 0.7196143863552095, \"Equalized_Odds_TNR\": 0.0028260859562123652, \"score\": 0.8583941501994985}, {\"system_name\": \"virny_flow\", \"dataset_name\": \"heart\", \"num_pp_candidates\": 2, \"run_num\": 5, \"optimization_time\": 735.6665816307068, \"F1\": 0.7314302359452374, \"Equalized_Odds_TNR\": -0.0009937989673324266, \"score\": 0.8652182184889525}, {\"system_name\": \"virny_flow\", \"dataset_name\": \"heart\", \"num_pp_candidates\": 2, \"run_num\": 6, \"optimization_time\": 1183.026783466339, \"F1\": 0.7284204345273048, \"Equalized_Odds_TNR\": 0.0024376175720041138, \"score\": 0.8629914084776503}, {\"system_name\": \"virny_flow\", \"dataset_name\": \"heart\", \"num_pp_candidates\": 2, \"run_num\": 10, \"optimization_time\": 743.1321392059326, \"F1\": 0.734080231297434, \"Equalized_Odds_TNR\": 0.00229573714191067, \"score\": 0.8658922470777617}, {\"system_name\": \"virny_flow\", \"dataset_name\": \"heart\", \"num_pp_candidates\": 4, \"run_num\": 6, \"optimization_time\": 654.6355447769165, \"F1\": 0.7217810760667903, \"Equalized_Odds_TNR\": 0.008088989863080265, \"score\": 0.856846043101855}, {\"system_name\": \"virny_flow\", \"dataset_name\": \"heart\", \"num_pp_candidates\": 16, \"run_num\": 10, \"optimization_time\": 655.9654011726379, \"F1\": 0.7338014913487294, \"Equalized_Odds_TNR\": -0.00018704392154467175, \"score\": 0.8668072237135924}, {\"system_name\": \"virny_flow\", \"dataset_name\": \"heart\", \"num_pp_candidates\": 32, \"run_num\": 9, \"optimization_time\": 643.9585454463959, \"F1\": 0.7305449571665107, \"Equalized_Odds_TNR\": 0.0006381178844320212, \"score\": 0.8649534196410393}, {\"system_name\": \"virny_flow\", \"dataset_name\": \"heart\", \"num_pp_candidates\": 1, \"run_num\": 1, \"optimization_time\": 1067.8198573589325, \"F1\": 0.7233630952380953, \"Equalized_Odds_TNR\": 0.0031228117549335632, \"score\": 0.8601201417415809}, {\"system_name\": \"virny_flow\", \"dataset_name\": \"heart\", \"num_pp_candidates\": 16, \"run_num\": 9, \"optimization_time\": 604.6839535236359, \"F1\": 0.7262218320163887, \"Equalized_Odds_TNR\": -0.0002448879189358433, \"score\": 0.8629884720487264}, {\"system_name\": \"virny_flow\", \"dataset_name\": \"heart\", \"num_pp_candidates\": 32, \"run_num\": 8, \"optimization_time\": 476.8575839996338, \"F1\": 0.7193699383312282, \"Equalized_Odds_TNR\": 0.0027090229402367827, \"score\": 0.8583304576954958}, {\"system_name\": \"virny_flow\", \"dataset_name\": \"heart\", \"num_pp_candidates\": 4, \"run_num\": 5, \"optimization_time\": 632.7371690273285, \"F1\": 0.7327078332969671, \"Equalized_Odds_TNR\": -0.00017513339221986168, \"score\": 0.8662663499523736}, {\"system_name\": \"virny_flow\", \"dataset_name\": \"heart\", \"num_pp_candidates\": 8, \"run_num\": 1, \"optimization_time\": 565.0251495838165, \"F1\": 0.7288688964666619, \"Equalized_Odds_TNR\": -0.0045572196849210656, \"score\": 0.8621558383908704}, {\"system_name\": \"virny_flow\", \"dataset_name\": \"heart\", \"num_pp_candidates\": 16, \"run_num\": 5, \"optimization_time\": 683.4491658210754, \"F1\": 0.7304170905391658, \"Equalized_Odds_TNR\": 0.0002193880115761715, \"score\": 0.8650988512637948}, {\"system_name\": \"virny_flow\", \"dataset_name\": \"heart\", \"num_pp_candidates\": 32, \"run_num\": 2, \"optimization_time\": 518.606128692627, \"F1\": 0.7244463997653615, \"Equalized_Odds_TNR\": 0.00140189099798671, \"score\": 0.8615222543836873}]}}, {\"mode\": \"vega-lite\"});\n",
       "</script>"
      ],
      "text/plain": [
       "alt.Chart(...)"
      ]
     },
     "execution_count": 13,
     "metadata": {},
     "output_type": "execute_result"
    }
   ],
   "execution_count": 13
  },
  {
   "metadata": {
    "ExecuteTime": {
     "end_time": "2025-05-21T17:53:21.486530Z",
     "start_time": "2025-05-21T17:53:21.289327Z"
    }
   },
   "cell_type": "code",
   "source": "create_performance_plot_v3(virny_flow_final_metrics_df, metric_name=DISPARITY_METRIC1 + '_' + GROUP1)",
   "id": "f463c10dbe3c81b5",
   "outputs": [
    {
     "ename": "NameError",
     "evalue": "name 'DISPARITY_METRIC1' is not defined",
     "output_type": "error",
     "traceback": [
      "\u001B[0;31m---------------------------------------------------------------------------\u001B[0m",
      "\u001B[0;31mNameError\u001B[0m                                 Traceback (most recent call last)",
      "Cell \u001B[0;32mIn[14], line 1\u001B[0m\n\u001B[0;32m----> 1\u001B[0m create_performance_plot_v3(virny_flow_final_metrics_df, metric_name\u001B[38;5;241m=\u001B[39m\u001B[43mDISPARITY_METRIC1\u001B[49m \u001B[38;5;241m+\u001B[39m \u001B[38;5;124m'\u001B[39m\u001B[38;5;124m_\u001B[39m\u001B[38;5;124m'\u001B[39m \u001B[38;5;241m+\u001B[39m GROUP1)\n",
      "\u001B[0;31mNameError\u001B[0m: name 'DISPARITY_METRIC1' is not defined"
     ]
    }
   ],
   "execution_count": 14
  },
  {
   "metadata": {
    "ExecuteTime": {
     "end_time": "2025-05-21T17:53:21.491501Z",
     "start_time": "2025-05-21T17:42:45.837506Z"
    }
   },
   "cell_type": "code",
   "source": "create_performance_plot_v3(virny_flow_final_metrics_df, metric_name=\"score\")",
   "id": "1dc33a1e6219068f",
   "outputs": [
    {
     "data": {
      "text/html": [
       "\n",
       "<div id=\"altair-viz-2549c293e57c4f4b99885f8c0f08e7dc\"></div>\n",
       "<script type=\"text/javascript\">\n",
       "  var VEGA_DEBUG = (typeof VEGA_DEBUG == \"undefined\") ? {} : VEGA_DEBUG;\n",
       "  (function(spec, embedOpt){\n",
       "    let outputDiv = document.currentScript.previousElementSibling;\n",
       "    if (outputDiv.id !== \"altair-viz-2549c293e57c4f4b99885f8c0f08e7dc\") {\n",
       "      outputDiv = document.getElementById(\"altair-viz-2549c293e57c4f4b99885f8c0f08e7dc\");\n",
       "    }\n",
       "    const paths = {\n",
       "      \"vega\": \"https://cdn.jsdelivr.net/npm//vega@5?noext\",\n",
       "      \"vega-lib\": \"https://cdn.jsdelivr.net/npm//vega-lib?noext\",\n",
       "      \"vega-lite\": \"https://cdn.jsdelivr.net/npm//vega-lite@4.17.0?noext\",\n",
       "      \"vega-embed\": \"https://cdn.jsdelivr.net/npm//vega-embed@6?noext\",\n",
       "    };\n",
       "\n",
       "    function maybeLoadScript(lib, version) {\n",
       "      var key = `${lib.replace(\"-\", \"\")}_version`;\n",
       "      return (VEGA_DEBUG[key] == version) ?\n",
       "        Promise.resolve(paths[lib]) :\n",
       "        new Promise(function(resolve, reject) {\n",
       "          var s = document.createElement('script');\n",
       "          document.getElementsByTagName(\"head\")[0].appendChild(s);\n",
       "          s.async = true;\n",
       "          s.onload = () => {\n",
       "            VEGA_DEBUG[key] = version;\n",
       "            return resolve(paths[lib]);\n",
       "          };\n",
       "          s.onerror = () => reject(`Error loading script: ${paths[lib]}`);\n",
       "          s.src = paths[lib];\n",
       "        });\n",
       "    }\n",
       "\n",
       "    function showError(err) {\n",
       "      outputDiv.innerHTML = `<div class=\"error\" style=\"color:red;\">${err}</div>`;\n",
       "      throw err;\n",
       "    }\n",
       "\n",
       "    function displayChart(vegaEmbed) {\n",
       "      vegaEmbed(outputDiv, spec, embedOpt)\n",
       "        .catch(err => showError(`Javascript Error: ${err.message}<br>This usually means there's a typo in your chart specification. See the javascript console for the full traceback.`));\n",
       "    }\n",
       "\n",
       "    if(typeof define === \"function\" && define.amd) {\n",
       "      requirejs.config({paths});\n",
       "      require([\"vega-embed\"], displayChart, err => showError(`Error loading script: ${err.message}`));\n",
       "    } else {\n",
       "      maybeLoadScript(\"vega\", \"5\")\n",
       "        .then(() => maybeLoadScript(\"vega-lite\", \"4.17.0\"))\n",
       "        .then(() => maybeLoadScript(\"vega-embed\", \"6\"))\n",
       "        .catch(showError)\n",
       "        .then(() => displayChart(vegaEmbed));\n",
       "    }\n",
       "  })({\"config\": {\"view\": {\"continuousWidth\": 400, \"continuousHeight\": 300, \"stroke\": null}, \"axis\": {\"labelFontSize\": 26, \"labelFontWeight\": \"normal\", \"titleFontSize\": 28, \"titleFontWeight\": \"normal\"}, \"facet\": {\"spacing\": 10}, \"header\": {\"labelFontSize\": 24, \"labelOrient\": \"top\", \"labelPadding\": 5, \"titleFontSize\": 24}, \"legend\": {\"columns\": 4, \"direction\": \"horizontal\", \"labelFontSize\": 24, \"labelLimit\": 400, \"orient\": \"top\", \"symbolOffset\": 120, \"symbolStrokeWidth\": 10, \"titleAnchor\": \"middle\", \"titleFontSize\": 26, \"titleLimit\": 300}, \"title\": {\"fontSize\": 24}}, \"data\": {\"name\": \"data-699805cfcc3319e1464fea3c8aa139b6\"}, \"mark\": {\"type\": \"boxplot\", \"median\": {\"stroke\": \"white\", \"strokeWidth\": 0.7}, \"ticks\": true}, \"encoding\": {\"color\": {\"field\": \"system_name\", \"legend\": null, \"sort\": [\"virny_flow\", \"alpine_meadow\", \"autosklearn\"], \"type\": \"nominal\"}, \"column\": {\"field\": \"system_name\", \"sort\": [\"virny_flow\", \"alpine_meadow\", \"autosklearn\"], \"title\": null, \"type\": \"nominal\"}, \"x\": {\"axis\": {\"labelAngle\": -45}, \"field\": \"num_pp_candidates\", \"title\": \"# of PP Candidates\", \"type\": \"ordinal\"}, \"y\": {\"field\": \"score\", \"scale\": {\"zero\": false}, \"type\": \"quantitative\"}}, \"height\": 300, \"resolve\": {\"scale\": {\"x\": \"independent\"}}, \"width\": 240, \"$schema\": \"https://vega.github.io/schema/vega-lite/v4.17.0.json\", \"datasets\": {\"data-699805cfcc3319e1464fea3c8aa139b6\": [{\"system_name\": \"virny_flow\", \"dataset_name\": \"folk_pubcov\", \"num_pp_candidates\": 1, \"run_num\": 1, \"optimization_time\": 1062.7122645378113, \"F1\": 0.6195210754796246, \"Selection_Rate_Difference_SEX\": -0.01981374255249918, \"Selection_Rate_Difference_RAC1P\": 0.0894780951250807, \"score\": 0.8283756484746749}, {\"system_name\": \"virny_flow\", \"dataset_name\": \"folk_pubcov\", \"num_pp_candidates\": 4, \"run_num\": 5, \"optimization_time\": 1343.0700595378876, \"F1\": 0.6219861054352268, \"Selection_Rate_Difference_SEX\": -0.02115344957562182, \"Selection_Rate_Difference_RAC1P\": 0.09575707463523664, \"score\": 0.8266749418040417}, {\"system_name\": \"virny_flow\", \"dataset_name\": \"folk_pubcov\", \"num_pp_candidates\": 4, \"run_num\": 8, \"optimization_time\": 682.1163020133972, \"F1\": 0.5434782608695652, \"Selection_Rate_Difference_SEX\": -0.0056785229856288755, \"Selection_Rate_Difference_RAC1P\": 0.02780606685060974, \"score\": 0.8282979114409978}, {\"system_name\": \"virny_flow\", \"dataset_name\": \"folk_pubcov\", \"num_pp_candidates\": 2, \"run_num\": 5, \"optimization_time\": 886.1587617397308, \"F1\": 0.6035574314139283, \"Selection_Rate_Difference_SEX\": -0.020597700947095232, \"Selection_Rate_Difference_RAC1P\": 0.08447704197355721, \"score\": 0.824499287202781}, {\"system_name\": \"virny_flow\", \"dataset_name\": \"folk_pubcov\", \"num_pp_candidates\": 2, \"run_num\": 7, \"optimization_time\": 971.2553277015686, \"F1\": 0.6272444984474146, \"Selection_Rate_Difference_SEX\": -0.013754452022786301, \"Selection_Rate_Difference_RAC1P\": 0.10786808632164763, \"score\": 0.8268552468339836}, {\"system_name\": \"virny_flow\", \"dataset_name\": \"folk_pubcov\", \"num_pp_candidates\": 8, \"run_num\": 5, \"optimization_time\": 944.9178283214569, \"F1\": 0.6283687943262412, \"Selection_Rate_Difference_SEX\": -0.015774557486326002, \"Selection_Rate_Difference_RAC1P\": 0.09288783682356916, \"score\": 0.8315031120053942}, {\"system_name\": \"virny_flow\", \"dataset_name\": \"folk_pubcov\", \"num_pp_candidates\": 8, \"run_num\": 6, \"optimization_time\": 1268.1982414722443, \"F1\": 0.6083357966302099, \"Selection_Rate_Difference_SEX\": -0.014907048615876939, \"Selection_Rate_Difference_RAC1P\": 0.07805066133975042, \"score\": 0.8300747686026122}, {\"system_name\": \"virny_flow\", \"dataset_name\": \"folk_pubcov\", \"num_pp_candidates\": 16, \"run_num\": 6, \"optimization_time\": 758.9984729290009, \"F1\": 0.566449462039703, \"Selection_Rate_Difference_SEX\": 0.0003526676966647546, \"Selection_Rate_Difference_RAC1P\": 0.044336225319261124, \"score\": 0.8321809877778465}, {\"system_name\": \"virny_flow\", \"dataset_name\": \"folk_pubcov\", \"num_pp_candidates\": 16, \"run_num\": 7, \"optimization_time\": 917.781658411026, \"F1\": 0.6192029499361793, \"Selection_Rate_Difference_SEX\": -0.02585431004962968, \"Selection_Rate_Difference_RAC1P\": 0.09219879841047901, \"score\": 0.8253794476871033}, {\"system_name\": \"virny_flow\", \"dataset_name\": \"folk_pubcov\", \"num_pp_candidates\": 1, \"run_num\": 3, \"optimization_time\": 2439.1915712356567, \"F1\": 0.5578231292517006, \"Selection_Rate_Difference_SEX\": -0.0039850147164680605, \"Selection_Rate_Difference_RAC1P\": 0.019813808851242593, \"score\": 0.8362280208757168}, {\"system_name\": \"virny_flow\", \"dataset_name\": \"folk_pubcov\", \"num_pp_candidates\": 2, \"run_num\": 10, \"optimization_time\": 1084.8675484657288, \"F1\": 0.6216640502354788, \"Selection_Rate_Difference_SEX\": -0.0005502384040494968, \"Selection_Rate_Difference_RAC1P\": 0.09222212216166287, \"score\": 0.8345342575910231}, {\"system_name\": \"virny_flow\", \"dataset_name\": \"folk_pubcov\", \"num_pp_candidates\": 4, \"run_num\": 1, \"optimization_time\": 1525.6000583171844, \"F1\": 0.6227594831179658, \"Selection_Rate_Difference_SEX\": -0.017910998863765404, \"Selection_Rate_Difference_RAC1P\": 0.09568090050019545, \"score\": 0.8280253026388217}, {\"system_name\": \"virny_flow\", \"dataset_name\": \"folk_pubcov\", \"num_pp_candidates\": 8, \"run_num\": 1, \"optimization_time\": 963.0577285289764, \"F1\": 0.5815067498911308, \"Selection_Rate_Difference_SEX\": -0.02756475379075146, \"Selection_Rate_Difference_RAC1P\": 0.047579916319764826, \"score\": 0.8270994863276029}, {\"system_name\": \"virny_flow\", \"dataset_name\": \"folk_pubcov\", \"num_pp_candidates\": 2, \"run_num\": 6, \"optimization_time\": 747.1738629341125, \"F1\": 0.6114874815905744, \"Selection_Rate_Difference_SEX\": -0.014735762181485756, \"Selection_Rate_Difference_RAC1P\": 0.08133470097893708, \"score\": 0.8300876160819499}, {\"system_name\": \"virny_flow\", \"dataset_name\": \"folk_pubcov\", \"num_pp_candidates\": 2, \"run_num\": 9, \"optimization_time\": 1341.730431318283, \"F1\": 0.6216400600354756, \"Selection_Rate_Difference_SEX\": -0.014153838168292576, \"Selection_Rate_Difference_RAC1P\": 0.10099007363619278, \"score\": 0.8271437289162267}, {\"system_name\": \"virny_flow\", \"dataset_name\": \"folk_pubcov\", \"num_pp_candidates\": 8, \"run_num\": 3, \"optimization_time\": 1866.0403513908386, \"F1\": 0.5554707767434762, \"Selection_Rate_Difference_SEX\": -0.006394910643677143, \"Selection_Rate_Difference_RAC1P\": 0.0273780378940624, \"score\": 0.8321602833078932}, {\"system_name\": \"virny_flow\", \"dataset_name\": \"folk_pubcov\", \"num_pp_candidates\": 16, \"run_num\": 9, \"optimization_time\": 1049.7726464271545, \"F1\": 0.6289169873556899, \"Selection_Rate_Difference_SEX\": -0.016101989933726246, \"Selection_Rate_Difference_RAC1P\": 0.10646665869368371, \"score\": 0.8270949517803323}, {\"system_name\": \"virny_flow\", \"dataset_name\": \"folk_pubcov\", \"num_pp_candidates\": 32, \"run_num\": 2, \"optimization_time\": 682.0911231040955, \"F1\": 0.6126357918810749, \"Selection_Rate_Difference_SEX\": -0.04516816875796309, \"Selection_Rate_Difference_RAC1P\": 0.06731886530092274, \"score\": 0.8250490900813224}, {\"system_name\": \"virny_flow\", \"dataset_name\": \"folk_pubcov\", \"num_pp_candidates\": 8, \"run_num\": 10, \"optimization_time\": 921.633029460907, \"F1\": 0.6091908356509071, \"Selection_Rate_Difference_SEX\": 0.002437817682623633, \"Selection_Rate_Difference_RAC1P\": 0.08653981944072059, \"score\": 0.8316703555140958}, {\"system_name\": \"virny_flow\", \"dataset_name\": \"folk_pubcov\", \"num_pp_candidates\": 1, \"run_num\": 9, \"optimization_time\": 1776.5993971824646, \"F1\": 0.6044483209768862, \"Selection_Rate_Difference_SEX\": -0.026136720091997856, \"Selection_Rate_Difference_RAC1P\": 0.05797867796552253, \"score\": 0.8317098645633908}, {\"system_name\": \"virny_flow\", \"dataset_name\": \"folk_pubcov\", \"num_pp_candidates\": 4, \"run_num\": 4, \"optimization_time\": 853.5827529430389, \"F1\": 0.554887693767795, \"Selection_Rate_Difference_SEX\": -0.009545522996677186, \"Selection_Rate_Difference_RAC1P\": 0.02704000000000001, \"score\": 0.8310397163544689}, {\"system_name\": \"virny_flow\", \"dataset_name\": \"folk_pubcov\", \"num_pp_candidates\": 4, \"run_num\": 7, \"optimization_time\": 1137.8259365558624, \"F1\": 0.6235310382966956, \"Selection_Rate_Difference_SEX\": -0.021953767644590283, \"Selection_Rate_Difference_RAC1P\": 0.09641614618666788, \"score\": 0.8267031710735944}, {\"system_name\": \"virny_flow\", \"dataset_name\": \"folk_pubcov\", \"num_pp_candidates\": 32, \"run_num\": 10, \"optimization_time\": 1451.990173816681, \"F1\": 0.5750074560095437, \"Selection_Rate_Difference_SEX\": 0.00302977414722011, \"Selection_Rate_Difference_RAC1P\": 0.0419312870494119, \"score\": 0.8349153102882609}, {\"system_name\": \"virny_flow\", \"dataset_name\": \"folk_pubcov\", \"num_pp_candidates\": 1, \"run_num\": 6, \"optimization_time\": 1747.160876274109, \"F1\": 0.6079929473993535, \"Selection_Rate_Difference_SEX\": -0.020862997066475597, \"Selection_Rate_Difference_RAC1P\": 0.07324207010275302, \"score\": 0.8295830004759412}, {\"system_name\": \"virny_flow\", \"dataset_name\": \"folk_pubcov\", \"num_pp_candidates\": 2, \"run_num\": 1, \"optimization_time\": 1342.7152049541473, \"F1\": 0.5930535455861071, \"Selection_Rate_Difference_SEX\": -0.031516403233512125, \"Selection_Rate_Difference_RAC1P\": 0.05138928473423743, \"score\": 0.8283487930140581}, {\"system_name\": \"virny_flow\", \"dataset_name\": \"folk_pubcov\", \"num_pp_candidates\": 2, \"run_num\": 8, \"optimization_time\": 818.6367509365082, \"F1\": 0.6202031602708804, \"Selection_Rate_Difference_SEX\": -0.017006829720717764, \"Selection_Rate_Difference_RAC1P\": 0.09697809057983936, \"score\": 0.8270520191902067}, {\"system_name\": \"virny_flow\", \"dataset_name\": \"folk_pubcov\", \"num_pp_candidates\": 4, \"run_num\": 6, \"optimization_time\": 808.1679782867432, \"F1\": 0.6083357966302099, \"Selection_Rate_Difference_SEX\": -0.014907048615876939, \"Selection_Rate_Difference_RAC1P\": 0.07805066133975042, \"score\": 0.8300747686026122}, {\"system_name\": \"virny_flow\", \"dataset_name\": \"folk_pubcov\", \"num_pp_candidates\": 4, \"run_num\": 10, \"optimization_time\": 941.2703518867493, \"F1\": 0.6244960378145419, \"Selection_Rate_Difference_SEX\": -0.030916586530509327, \"Selection_Rate_Difference_RAC1P\": 0.05689039752923192, \"score\": 0.8371073877390842}, {\"system_name\": \"virny_flow\", \"dataset_name\": \"folk_pubcov\", \"num_pp_candidates\": 1, \"run_num\": 2, \"optimization_time\": 1012.7735366821289, \"F1\": 0.6238956096234879, \"Selection_Rate_Difference_SEX\": -0.012136212137235591, \"Selection_Rate_Difference_RAC1P\": 0.09375150236274704, \"score\": 0.8309426053907568}, {\"system_name\": \"virny_flow\", \"dataset_name\": \"folk_pubcov\", \"num_pp_candidates\": 1, \"run_num\": 5, \"optimization_time\": 915.9076075553894, \"F1\": 0.6202197190933111, \"Selection_Rate_Difference_SEX\": -0.015385708658550601, \"Selection_Rate_Difference_RAC1P\": 0.09116918090116538, \"score\": 0.8295093937460865}, {\"system_name\": \"virny_flow\", \"dataset_name\": \"folk_pubcov\", \"num_pp_candidates\": 1, \"run_num\": 8, \"optimization_time\": 925.0092439651489, \"F1\": 0.6251574087029523, \"Selection_Rate_Difference_SEX\": -0.017978956773054333, \"Selection_Rate_Difference_RAC1P\": 0.10042767598444441, \"score\": 0.8272277560619996}, {\"system_name\": \"virny_flow\", \"dataset_name\": \"folk_pubcov\", \"num_pp_candidates\": 2, \"run_num\": 2, \"optimization_time\": 1720.7177579402924, \"F1\": 0.5926143887008974, \"Selection_Rate_Difference_SEX\": -0.04609470071157845, \"Selection_Rate_Difference_RAC1P\": 0.028365250813614407, \"score\": 0.8309909642679826}, {\"system_name\": \"virny_flow\", \"dataset_name\": \"folk_pubcov\", \"num_pp_candidates\": 32, \"run_num\": 5, \"optimization_time\": 823.4288096427917, \"F1\": 0.5419749115471213, \"Selection_Rate_Difference_SEX\": 0.0031020707595664776, \"Selection_Rate_Difference_RAC1P\": 0.03783379933961825, \"score\": 0.8253428836778192}, {\"system_name\": \"virny_flow\", \"dataset_name\": \"folk_pubcov\", \"num_pp_candidates\": 2, \"run_num\": 4, \"optimization_time\": 945.1771080493927, \"F1\": 0.554887693767795, \"Selection_Rate_Difference_SEX\": -0.009545522996677186, \"Selection_Rate_Difference_RAC1P\": 0.02704000000000001, \"score\": 0.8310397163544689}, {\"system_name\": \"virny_flow\", \"dataset_name\": \"folk_pubcov\", \"num_pp_candidates\": 32, \"run_num\": 4, \"optimization_time\": 515.9094598293304, \"F1\": 0.554887693767795, \"Selection_Rate_Difference_SEX\": -0.009545522996677186, \"Selection_Rate_Difference_RAC1P\": 0.02704000000000001, \"score\": 0.8310397163544689}, {\"system_name\": \"virny_flow\", \"dataset_name\": \"folk_pubcov\", \"num_pp_candidates\": 4, \"run_num\": 9, \"optimization_time\": 994.8639786243439, \"F1\": 0.6143408274577624, \"Selection_Rate_Difference_SEX\": -0.01056954252160236, \"Selection_Rate_Difference_RAC1P\": 0.08847021236609659, \"score\": 0.8300493539481211}]}}, {\"mode\": \"vega-lite\"});\n",
       "</script>"
      ],
      "text/plain": [
       "alt.Chart(...)"
      ]
     },
     "execution_count": 15,
     "metadata": {},
     "output_type": "execute_result"
    }
   ],
   "execution_count": 15
  },
  {
   "metadata": {
    "ExecuteTime": {
     "end_time": "2025-05-21T17:53:21.492158Z",
     "start_time": "2025-05-21T17:42:45.901202Z"
    }
   },
   "cell_type": "code",
   "source": "",
   "id": "4f25cc4a7c4de297",
   "outputs": [],
   "execution_count": null
  }
 ],
 "metadata": {
  "kernelspec": {
   "display_name": "Python 3 (ipykernel)",
   "language": "python",
   "name": "python3"
  },
  "language_info": {
   "codemirror_mode": {
    "name": "ipython",
    "version": 3
   },
   "file_extension": ".py",
   "mimetype": "text/x-python",
   "name": "python",
   "nbconvert_exporter": "python",
   "pygments_lexer": "ipython3",
   "version": "3.9.6"
  }
 },
 "nbformat": 4,
 "nbformat_minor": 5
}
