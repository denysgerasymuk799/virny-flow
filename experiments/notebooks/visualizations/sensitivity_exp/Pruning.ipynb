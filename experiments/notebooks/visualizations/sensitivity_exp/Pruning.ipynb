{
 "cells": [
  {
   "cell_type": "code",
   "id": "initial_id",
   "metadata": {
    "ExecuteTime": {
     "end_time": "2025-05-21T18:25:50.279324Z",
     "start_time": "2025-05-21T18:25:50.007335Z"
    }
   },
   "source": [
    "%matplotlib inline\n",
    "%load_ext autoreload\n",
    "%autoreload 2"
   ],
   "outputs": [],
   "execution_count": 1
  },
  {
   "cell_type": "code",
   "id": "4b8df197bfac13ea",
   "metadata": {
    "ExecuteTime": {
     "end_time": "2025-05-21T18:25:50.296434Z",
     "start_time": "2025-05-21T18:25:50.285802Z"
    }
   },
   "source": [
    "import os\n",
    "import warnings\n",
    "\n",
    "warnings.filterwarnings('ignore')\n",
    "os.environ[\"PYTHONWARNINGS\"] = \"ignore\""
   ],
   "outputs": [],
   "execution_count": 2
  },
  {
   "cell_type": "code",
   "id": "795bc03809b0bd76",
   "metadata": {
    "ExecuteTime": {
     "end_time": "2025-05-21T18:25:50.392407Z",
     "start_time": "2025-05-21T18:25:50.384205Z"
    }
   },
   "source": [
    "cur_folder_name = os.getcwd().split('/')[-1]\n",
    "if cur_folder_name != \"virny-flow-experiments\":\n",
    "    os.chdir(\"../../..\")\n",
    "\n",
    "print('Current location: ', os.getcwd())"
   ],
   "outputs": [
    {
     "name": "stdout",
     "output_type": "stream",
     "text": [
      "Current location:  /Users/denys_herasymuk/Research/NYU/VirnyFlow_Project/Code/virny-flow-experiments\n"
     ]
    }
   ],
   "execution_count": 3
  },
  {
   "cell_type": "markdown",
   "id": "f82a3d9884591691",
   "metadata": {},
   "source": [
    "# Case Studies Visualizations"
   ]
  },
  {
   "cell_type": "code",
   "id": "7355907a9d999068",
   "metadata": {
    "ExecuteTime": {
     "end_time": "2025-05-21T18:25:50.730041Z",
     "start_time": "2025-05-21T18:25:50.399904Z"
    }
   },
   "source": [
    "import pandas as pd\n",
    "from duckdb import query as sqldf\n",
    "from virny_flow.core.custom_classes.core_db_client import CoreDBClient\n",
    "from virny_flow.configs.constants import EXP_CONFIG_HISTORY_TABLE\n",
    "from source.visualizations.use_case_queries import get_best_lps_per_exp_config\n",
    "from source.visualizations.scalability_viz import create_performance_plot_v3"
   ],
   "outputs": [],
   "execution_count": 4
  },
  {
   "cell_type": "markdown",
   "id": "a41c1d9ce97655db",
   "metadata": {},
   "source": [
    "## Prepare data for visualizations"
   ]
  },
  {
   "metadata": {
    "ExecuteTime": {
     "end_time": "2025-05-21T18:25:50.754745Z",
     "start_time": "2025-05-21T18:25:50.742429Z"
    }
   },
   "cell_type": "code",
   "source": [
    "# DATASET_NAME = 'heart'\n",
    "# DISPARITY_METRIC = 'Equalized_Odds_TNR'\n",
    "# GROUP = \"gender\"\n",
    "\n",
    "DATASET_NAME = 'folk_pubcov'\n",
    "DISPARITY_METRIC1 = 'Selection_Rate_Difference'\n",
    "GROUP1 = \"SEX\"\n",
    "DISPARITY_METRIC2 = 'Selection_Rate_Difference'\n",
    "GROUP2 = \"RAC1P\""
   ],
   "id": "4aacf99207ba03a1",
   "outputs": [],
   "execution_count": 5
  },
  {
   "cell_type": "code",
   "id": "7010681237f5c94a",
   "metadata": {
    "ExecuteTime": {
     "end_time": "2025-05-21T18:25:51.169073Z",
     "start_time": "2025-05-21T18:25:50.766697Z"
    }
   },
   "source": [
    "SECRETS_PATH = os.path.join(os.getcwd(), \"scripts\", \"configs\", \"secrets.env\")\n",
    "VIRNY_FLOW = 'virny_flow'\n",
    "ALPINE = 'alpine_meadow'\n",
    "AUTOSKLEARN = 'autosklearn'\n",
    "EXP_CONFIG_NAMES = {\n",
    "    VIRNY_FLOW: {\n",
    "        f'sensitivity_exp2_{DATASET_NAME}_w32_vf_halting_1': '[1.0]',\n",
    "        f'sensitivity_exp2_{DATASET_NAME}_w32_vf_halting_2': '[0.25,1.0]',\n",
    "        f'sensitivity_exp2_{DATASET_NAME}_w32_vf_halting_3': '[0.5,1.0]',\n",
    "        f'sensitivity_exp2_{DATASET_NAME}_w32_vf_halting_4': '[0.75,1.0]',\n",
    "        f'sensitivity_exp2_{DATASET_NAME}_w32_vf_halting_5': '[0.25,0.5,1.0]',\n",
    "        f'sensitivity_exp2_{DATASET_NAME}_w32_vf_halting_6': '[0.5,0.75,1.0]',\n",
    "        f'sensitivity_exp2_{DATASET_NAME}_w32_vf_halting_7': '[0.1,0.25,0.5,1.0]',\n",
    "        f'sensitivity_exp2_{DATASET_NAME}_w32_vf_halting_8': '[0.1,0.5,0.75,1.0]',\n",
    "    },\n",
    "}\n",
    "\n",
    "db_client = CoreDBClient(SECRETS_PATH)\n",
    "db_client.connect()"
   ],
   "outputs": [],
   "execution_count": 6
  },
  {
   "metadata": {
    "ExecuteTime": {
     "end_time": "2025-05-21T18:25:51.187346Z",
     "start_time": "2025-05-21T18:25:51.174475Z"
    }
   },
   "cell_type": "code",
   "source": [
    "def get_virny_flow_metrics(db_client):\n",
    "    exp_config_names = list(EXP_CONFIG_NAMES['virny_flow'].keys())\n",
    "    best_lp_metrics_per_exp_config_df = get_best_lps_per_exp_config(secrets_path=SECRETS_PATH,\n",
    "                                                                    exp_config_names=exp_config_names)\n",
    "    best_lp_metrics_per_exp_config_df['halting'] = best_lp_metrics_per_exp_config_df['exp_config_name'].map(EXP_CONFIG_NAMES['virny_flow'])\n",
    "\n",
    "    virny_flow_all_runtime_df = pd.DataFrame()\n",
    "    for exp_config_name in exp_config_names:\n",
    "        virny_flow_runtime_df = db_client.read_metric_df_from_db(collection_name=EXP_CONFIG_HISTORY_TABLE,\n",
    "                                                                 query={'exp_config_name': exp_config_name,\n",
    "                                                                        'deletion_flag': False})\n",
    "        virny_flow_all_runtime_df = pd.concat([virny_flow_all_runtime_df, virny_flow_runtime_df])\n",
    "    \n",
    "    new_column_names = []\n",
    "    for col in virny_flow_all_runtime_df.columns:\n",
    "        new_col_name = '_'.join([c.lower() for c in col.split('_')])\n",
    "        new_column_names.append(new_col_name)\n",
    "    virny_flow_all_runtime_df.columns = new_column_names\n",
    "\n",
    "    virny_flow_metrics_df = sqldf(\"\"\"\n",
    "        SELECT DISTINCT t1.*, t2.exp_config_execution_time\n",
    "        FROM best_lp_metrics_per_exp_config_df AS t1\n",
    "        JOIN virny_flow_all_runtime_df AS t2\n",
    "          ON t1.exp_config_name = t2.exp_config_name\n",
    "         AND t1.run_num = t2.run_num\n",
    "    \"\"\").to_df()\n",
    "    \n",
    "    return virny_flow_metrics_df"
   ],
   "id": "16366d61e373bc6",
   "outputs": [],
   "execution_count": 7
  },
  {
   "cell_type": "code",
   "id": "8219596d0fdfa897",
   "metadata": {
    "scrolled": true,
    "ExecuteTime": {
     "end_time": "2025-05-21T18:26:09.041815Z",
     "start_time": "2025-05-21T18:25:51.192650Z"
    }
   },
   "source": "virny_flow_metrics_df = get_virny_flow_metrics(db_client)",
   "outputs": [
    {
     "name": "stdout",
     "output_type": "stream",
     "text": [
      "Extracting metrics for sensitivity_exp2_folk_pubcov_w32_vf_halting_1...\n",
      "best_pps_per_lp_and_run_num_df.shape: (252, 19)\n",
      "best_lp_per_run_all.shape: (90, 19)\n",
      "Extracted metrics for sensitivity_exp2_folk_pubcov_w32_vf_halting_1\n",
      "\n",
      "Extracting metrics for sensitivity_exp2_folk_pubcov_w32_vf_halting_2...\n",
      "best_pps_per_lp_and_run_num_df.shape: (144, 19)\n",
      "best_lp_per_run_all.shape: (81, 19)\n",
      "Extracted metrics for sensitivity_exp2_folk_pubcov_w32_vf_halting_2\n",
      "\n",
      "Extracting metrics for sensitivity_exp2_folk_pubcov_w32_vf_halting_3...\n",
      "best_pps_per_lp_and_run_num_df.shape: (198, 19)\n",
      "best_lp_per_run_all.shape: (108, 19)\n",
      "Extracted metrics for sensitivity_exp2_folk_pubcov_w32_vf_halting_3\n",
      "\n",
      "Extracting metrics for sensitivity_exp2_folk_pubcov_w32_vf_halting_4...\n",
      "best_pps_per_lp_and_run_num_df.shape: (207, 19)\n",
      "best_lp_per_run_all.shape: (99, 19)\n",
      "Extracted metrics for sensitivity_exp2_folk_pubcov_w32_vf_halting_4\n",
      "\n",
      "Extracting metrics for sensitivity_exp2_folk_pubcov_w32_vf_halting_5...\n",
      "best_pps_per_lp_and_run_num_df.shape: (153, 19)\n",
      "best_lp_per_run_all.shape: (90, 19)\n",
      "Extracted metrics for sensitivity_exp2_folk_pubcov_w32_vf_halting_5\n",
      "\n",
      "Extracting metrics for sensitivity_exp2_folk_pubcov_w32_vf_halting_6...\n",
      "best_pps_per_lp_and_run_num_df.shape: (135, 19)\n",
      "best_lp_per_run_all.shape: (72, 19)\n",
      "Extracted metrics for sensitivity_exp2_folk_pubcov_w32_vf_halting_6\n",
      "\n",
      "Extracting metrics for sensitivity_exp2_folk_pubcov_w32_vf_halting_7...\n",
      "best_pps_per_lp_and_run_num_df.shape: (153, 19)\n",
      "best_lp_per_run_all.shape: (90, 19)\n",
      "Extracted metrics for sensitivity_exp2_folk_pubcov_w32_vf_halting_7\n",
      "\n",
      "Extracting metrics for sensitivity_exp2_folk_pubcov_w32_vf_halting_8...\n",
      "best_pps_per_lp_and_run_num_df.shape: (180, 19)\n",
      "best_lp_per_run_all.shape: (99, 19)\n",
      "Extracted metrics for sensitivity_exp2_folk_pubcov_w32_vf_halting_8\n",
      "\n"
     ]
    }
   ],
   "execution_count": 8
  },
  {
   "metadata": {},
   "cell_type": "markdown",
   "source": "## Display Results",
   "id": "a3c4124dc04b38ff"
  },
  {
   "metadata": {
    "ExecuteTime": {
     "end_time": "2025-05-21T18:26:09.091457Z",
     "start_time": "2025-05-21T18:26:09.064400Z"
    }
   },
   "cell_type": "code",
   "source": [
    "from virny_flow.visualizations.use_case_queries import get_models_disparity_metric_df\n",
    "\n",
    "\n",
    "def display_table_with_results(system_metrics_df, system_name: str, disparity_metric_name: str, group_name: str):\n",
    "    if system_name == VIRNY_FLOW:\n",
    "        system_metrics_df['system_name'] = system_name\n",
    "        common_cols = ['system_name', 'dataset_name', 'halting', 'run_num', 'exp_config_execution_time']\n",
    "    else:\n",
    "        common_cols = ['system_name', 'dataset_name', 'halting', 'run_num', 'optimization_time']\n",
    "\n",
    "    f1_metrics_df = system_metrics_df[system_metrics_df['metric'] == 'F1']\n",
    "    f1_metrics_df['F1'] = f1_metrics_df['overall']\n",
    "    f1_metrics_df = f1_metrics_df[common_cols + ['F1']]\n",
    "\n",
    "    disparity_metric_df = get_models_disparity_metric_df(system_metrics_df, disparity_metric_name, group_name)\n",
    "    disparity_metric_df[disparity_metric_name] = disparity_metric_df['disparity_metric_value']\n",
    "    disparity_metric_df = disparity_metric_df[common_cols + [disparity_metric_name]]\n",
    "\n",
    "    final_metrics_df = sqldf(f\"\"\"\n",
    "        SELECT t1.*, t2.{disparity_metric_name}\n",
    "        FROM f1_metrics_df AS t1\n",
    "        JOIN disparity_metric_df AS t2\n",
    "          ON t1.run_num = t2.run_num\n",
    "         AND t1.halting = t2.halting\n",
    "    \"\"\").to_df()\n",
    "    final_metrics_df[\"score\"] = final_metrics_df[\"F1\"] * 0.5 + (1 - abs(final_metrics_df[disparity_metric_name])) * 0.5\n",
    "\n",
    "    if system_name == VIRNY_FLOW:\n",
    "        final_metrics_df = final_metrics_df[~final_metrics_df['exp_config_execution_time'].isna()]\n",
    "        final_metrics_df = final_metrics_df.rename(columns={'exp_config_execution_time': 'optimization_time'})\n",
    "\n",
    "    return final_metrics_df\n",
    "\n",
    "\n",
    "def display_table_with_results_for_folk_pubcov(system_metrics_df, system_name: str,\n",
    "                                               disparity_metric_name1: str, group_name1: str,\n",
    "                                               disparity_metric_name2: str, group_name2: str):\n",
    "    if system_name == VIRNY_FLOW:\n",
    "        system_metrics_df['system_name'] = system_name\n",
    "        common_cols = ['system_name', 'dataset_name', 'halting', 'run_num', 'exp_config_execution_time']\n",
    "    else:\n",
    "        common_cols = ['system_name', 'dataset_name', 'halting', 'run_num', 'optimization_time']\n",
    "\n",
    "    f1_metrics_df = system_metrics_df[system_metrics_df['metric'] == 'F1']\n",
    "    f1_metrics_df['F1'] = f1_metrics_df['overall']\n",
    "    f1_metrics_df = f1_metrics_df[common_cols + ['F1']]\n",
    "\n",
    "    disparity_metric_df1 = get_models_disparity_metric_df(system_metrics_df, disparity_metric_name1, group_name1)\n",
    "    disparity_metric_df1[disparity_metric_name1] = disparity_metric_df1['disparity_metric_value']\n",
    "    disparity_metric_df1 = disparity_metric_df1[common_cols + [disparity_metric_name1]]\n",
    "\n",
    "    disparity_metric_df2 = get_models_disparity_metric_df(system_metrics_df, disparity_metric_name2, group_name2)\n",
    "    disparity_metric_df2[disparity_metric_name2] = disparity_metric_df2['disparity_metric_value']\n",
    "    disparity_metric_df2 = disparity_metric_df2[common_cols + [disparity_metric_name2]]\n",
    "\n",
    "    final_metrics_df = sqldf(f\"\"\"\n",
    "            SELECT t1.*, t2.{disparity_metric_name1} AS {disparity_metric_name1}_{group_name1}, t3.{disparity_metric_name2} AS {disparity_metric_name2}_{group_name2}\n",
    "            FROM f1_metrics_df AS t1\n",
    "            JOIN disparity_metric_df1 AS t2\n",
    "              ON t1.run_num = t2.run_num\n",
    "             AND t1.dataset_name = t2.dataset_name\n",
    "             AND t1.halting = t2.halting\n",
    "            JOIN disparity_metric_df2 AS t3\n",
    "              ON t1.run_num = t3.run_num\n",
    "             AND t1.dataset_name = t3.dataset_name\n",
    "             AND t1.halting = t3.halting\n",
    "        \"\"\").to_df()\n",
    "\n",
    "    final_metrics_df[\"score\"] = (final_metrics_df[\"F1\"] * 0.33 +\n",
    "                                 (1 - abs(final_metrics_df[f\"{disparity_metric_name1}_{group_name1}\"])) * 0.33 +\n",
    "                                 (1 - abs(final_metrics_df[f\"{disparity_metric_name2}_{group_name2}\"])) * 0.33)\n",
    "\n",
    "    if system_name == VIRNY_FLOW:\n",
    "        final_metrics_df = final_metrics_df[~final_metrics_df['exp_config_execution_time'].isna()]\n",
    "        final_metrics_df = final_metrics_df.rename(columns={'exp_config_execution_time': 'optimization_time'})\n",
    "\n",
    "    return final_metrics_df\n",
    "\n",
    "\n",
    "def create_latex_table(df):\n",
    "    # Compute mean and std for each system\n",
    "    summary = df.groupby('halting').agg(['mean', 'std']).round(4)\n",
    "\n",
    "    # Combine mean and std into \"mean ± std\" format\n",
    "    def format_metric(mean, std):\n",
    "        if pd.isna(std):\n",
    "            return f\"{mean:.4f} ± n/a\"\n",
    "        return f\"{mean:.4f} \\scriptsize{{$\\pm${std:.4f}}}\"\n",
    "\n",
    "    def format_runtime(mean, std):\n",
    "        if pd.isna(std):\n",
    "            return f\"{mean:.0f} ± n/a\"\n",
    "        return f\"{mean:.0f} \\scriptsize{{$\\pm${std:.0f}}}\"\n",
    "\n",
    "    # Create formatted DataFrame\n",
    "    latex_df = pd.DataFrame({\n",
    "        'Halting': summary.index,\n",
    "        'Score': [format_metric(m, s) for m, s in zip(summary['score']['mean'], summary['score']['std'])],\n",
    "        'Runtime': [format_runtime(m, s) for m, s in zip(summary['optimization_time']['mean'], summary['optimization_time']['std'])],\n",
    "    })\n",
    "\n",
    "    # Reorder rows: virny_flow first\n",
    "    latex_df = latex_df.set_index('Halting').loc[['[1.0]','[0.25,1.0]','[0.5,1.0]','[0.75,1.0]','[0.25,0.5,1.0]','[0.5,0.75,1.0]','[0.1,0.25,0.5,1.0]','[0.1,0.5,0.75,1.0]']].reset_index()\n",
    "    \n",
    "    # Generate LaTeX table\n",
    "    latex_table = latex_df.to_latex(index=False,\n",
    "                                    caption='Sensitivity to the Dataset Fraction for Halting',\n",
    "                                    label='tab:sensitivity_halting',\n",
    "                                    column_format='lcc',\n",
    "                                    escape=False)\n",
    "\n",
    "    print(latex_table)"
   ],
   "id": "46042acbcce08dae",
   "outputs": [],
   "execution_count": 9
  },
  {
   "metadata": {
    "ExecuteTime": {
     "end_time": "2025-05-21T18:26:09.116777Z",
     "start_time": "2025-05-21T18:26:09.094998Z"
    }
   },
   "cell_type": "code",
   "source": [
    "if DATASET_NAME == 'folk_pubcov':\n",
    "    virny_flow_final_metrics_df = display_table_with_results_for_folk_pubcov(virny_flow_metrics_df, 'virny_flow',\n",
    "                                                                             DISPARITY_METRIC1, GROUP1,\n",
    "                                                                             DISPARITY_METRIC2, GROUP2)\n",
    "else:\n",
    "    virny_flow_final_metrics_df = display_table_with_results(virny_flow_metrics_df, 'virny_flow', DISPARITY_METRIC, GROUP)"
   ],
   "id": "bdb651a016484ea5",
   "outputs": [],
   "execution_count": 10
  },
  {
   "metadata": {
    "ExecuteTime": {
     "end_time": "2025-05-21T18:26:09.158399Z",
     "start_time": "2025-05-21T18:26:09.142084Z"
    }
   },
   "cell_type": "code",
   "source": "virny_flow_final_metrics_df[virny_flow_final_metrics_df['halting'] == '[0.5,0.75,1.0]']",
   "id": "81d186b6bd8114ec",
   "outputs": [
    {
     "data": {
      "text/plain": [
       "   system_name dataset_name         halting  run_num  optimization_time  \\\n",
       "9   virny_flow  folk_pubcov  [0.5,0.75,1.0]       10         753.698984   \n",
       "19  virny_flow  folk_pubcov  [0.5,0.75,1.0]        6         931.276600   \n",
       "20  virny_flow  folk_pubcov  [0.5,0.75,1.0]        8         646.357094   \n",
       "26  virny_flow  folk_pubcov  [0.5,0.75,1.0]        5         867.018093   \n",
       "27  virny_flow  folk_pubcov  [0.5,0.75,1.0]       11        1273.977963   \n",
       "28  virny_flow  folk_pubcov  [0.5,0.75,1.0]       12         903.285316   \n",
       "47  virny_flow  folk_pubcov  [0.5,0.75,1.0]        9         724.449237   \n",
       "\n",
       "          F1  Selection_Rate_Difference_SEX  Selection_Rate_Difference_RAC1P  \\\n",
       "9   0.639837                      -0.013441                         0.113500   \n",
       "19  0.614160                      -0.015979                         0.102539   \n",
       "20  0.632572                      -0.028131                         0.107819   \n",
       "26  0.626223                      -0.018969                         0.104553   \n",
       "27  0.627462                      -0.023862                         0.096978   \n",
       "28  0.630746                      -0.028188                         0.079344   \n",
       "47  0.635802                      -0.022513                         0.100435   \n",
       "\n",
       "       score  \n",
       "9   0.829256  \n",
       "19  0.823562  \n",
       "20  0.823885  \n",
       "26  0.825891  \n",
       "27  0.827185  \n",
       "28  0.832661  \n",
       "47  0.829242  "
      ],
      "text/html": [
       "<div>\n",
       "<style scoped>\n",
       "    .dataframe tbody tr th:only-of-type {\n",
       "        vertical-align: middle;\n",
       "    }\n",
       "\n",
       "    .dataframe tbody tr th {\n",
       "        vertical-align: top;\n",
       "    }\n",
       "\n",
       "    .dataframe thead th {\n",
       "        text-align: right;\n",
       "    }\n",
       "</style>\n",
       "<table border=\"1\" class=\"dataframe\">\n",
       "  <thead>\n",
       "    <tr style=\"text-align: right;\">\n",
       "      <th></th>\n",
       "      <th>system_name</th>\n",
       "      <th>dataset_name</th>\n",
       "      <th>halting</th>\n",
       "      <th>run_num</th>\n",
       "      <th>optimization_time</th>\n",
       "      <th>F1</th>\n",
       "      <th>Selection_Rate_Difference_SEX</th>\n",
       "      <th>Selection_Rate_Difference_RAC1P</th>\n",
       "      <th>score</th>\n",
       "    </tr>\n",
       "  </thead>\n",
       "  <tbody>\n",
       "    <tr>\n",
       "      <th>9</th>\n",
       "      <td>virny_flow</td>\n",
       "      <td>folk_pubcov</td>\n",
       "      <td>[0.5,0.75,1.0]</td>\n",
       "      <td>10</td>\n",
       "      <td>753.698984</td>\n",
       "      <td>0.639837</td>\n",
       "      <td>-0.013441</td>\n",
       "      <td>0.113500</td>\n",
       "      <td>0.829256</td>\n",
       "    </tr>\n",
       "    <tr>\n",
       "      <th>19</th>\n",
       "      <td>virny_flow</td>\n",
       "      <td>folk_pubcov</td>\n",
       "      <td>[0.5,0.75,1.0]</td>\n",
       "      <td>6</td>\n",
       "      <td>931.276600</td>\n",
       "      <td>0.614160</td>\n",
       "      <td>-0.015979</td>\n",
       "      <td>0.102539</td>\n",
       "      <td>0.823562</td>\n",
       "    </tr>\n",
       "    <tr>\n",
       "      <th>20</th>\n",
       "      <td>virny_flow</td>\n",
       "      <td>folk_pubcov</td>\n",
       "      <td>[0.5,0.75,1.0]</td>\n",
       "      <td>8</td>\n",
       "      <td>646.357094</td>\n",
       "      <td>0.632572</td>\n",
       "      <td>-0.028131</td>\n",
       "      <td>0.107819</td>\n",
       "      <td>0.823885</td>\n",
       "    </tr>\n",
       "    <tr>\n",
       "      <th>26</th>\n",
       "      <td>virny_flow</td>\n",
       "      <td>folk_pubcov</td>\n",
       "      <td>[0.5,0.75,1.0]</td>\n",
       "      <td>5</td>\n",
       "      <td>867.018093</td>\n",
       "      <td>0.626223</td>\n",
       "      <td>-0.018969</td>\n",
       "      <td>0.104553</td>\n",
       "      <td>0.825891</td>\n",
       "    </tr>\n",
       "    <tr>\n",
       "      <th>27</th>\n",
       "      <td>virny_flow</td>\n",
       "      <td>folk_pubcov</td>\n",
       "      <td>[0.5,0.75,1.0]</td>\n",
       "      <td>11</td>\n",
       "      <td>1273.977963</td>\n",
       "      <td>0.627462</td>\n",
       "      <td>-0.023862</td>\n",
       "      <td>0.096978</td>\n",
       "      <td>0.827185</td>\n",
       "    </tr>\n",
       "    <tr>\n",
       "      <th>28</th>\n",
       "      <td>virny_flow</td>\n",
       "      <td>folk_pubcov</td>\n",
       "      <td>[0.5,0.75,1.0]</td>\n",
       "      <td>12</td>\n",
       "      <td>903.285316</td>\n",
       "      <td>0.630746</td>\n",
       "      <td>-0.028188</td>\n",
       "      <td>0.079344</td>\n",
       "      <td>0.832661</td>\n",
       "    </tr>\n",
       "    <tr>\n",
       "      <th>47</th>\n",
       "      <td>virny_flow</td>\n",
       "      <td>folk_pubcov</td>\n",
       "      <td>[0.5,0.75,1.0]</td>\n",
       "      <td>9</td>\n",
       "      <td>724.449237</td>\n",
       "      <td>0.635802</td>\n",
       "      <td>-0.022513</td>\n",
       "      <td>0.100435</td>\n",
       "      <td>0.829242</td>\n",
       "    </tr>\n",
       "  </tbody>\n",
       "</table>\n",
       "</div>"
      ]
     },
     "execution_count": 11,
     "metadata": {},
     "output_type": "execute_result"
    }
   ],
   "execution_count": 11
  },
  {
   "metadata": {
    "ExecuteTime": {
     "end_time": "2025-05-21T18:26:09.207342Z",
     "start_time": "2025-05-21T18:26:09.187047Z"
    }
   },
   "cell_type": "code",
   "source": "create_latex_table(virny_flow_final_metrics_df)",
   "id": "56dd6573480978f9",
   "outputs": [
    {
     "name": "stdout",
     "output_type": "stream",
     "text": [
      "\\begin{table}\n",
      "\\centering\n",
      "\\caption{Sensitivity to the Dataset Fraction for Halting}\n",
      "\\label{tab:sensitivity_halting}\n",
      "\\begin{tabular}{lcc}\n",
      "\\toprule\n",
      "           Halting &                           Score &                    Runtime \\\\\n",
      "\\midrule\n",
      "             [1.0] & 0.8277 \\scriptsize{$\\pm$0.0029} &  782 \\scriptsize{$\\pm$492} \\\\\n",
      "        [0.25,1.0] & 0.8264 \\scriptsize{$\\pm$0.0031} &  765 \\scriptsize{$\\pm$146} \\\\\n",
      "         [0.5,1.0] & 0.8267 \\scriptsize{$\\pm$0.0027} &   682 \\scriptsize{$\\pm$70} \\\\\n",
      "        [0.75,1.0] & 0.8278 \\scriptsize{$\\pm$0.0044} &  789 \\scriptsize{$\\pm$120} \\\\\n",
      "    [0.25,0.5,1.0] & 0.8291 \\scriptsize{$\\pm$0.0043} &  970 \\scriptsize{$\\pm$205} \\\\\n",
      "    [0.5,0.75,1.0] & 0.8274 \\scriptsize{$\\pm$0.0033} &  871 \\scriptsize{$\\pm$205} \\\\\n",
      "[0.1,0.25,0.5,1.0] & 0.8284 \\scriptsize{$\\pm$0.0044} & 1104 \\scriptsize{$\\pm$166} \\\\\n",
      "[0.1,0.5,0.75,1.0] & 0.8249 \\scriptsize{$\\pm$0.0043} &  1007 \\scriptsize{$\\pm$81} \\\\\n",
      "\\bottomrule\n",
      "\\end{tabular}\n",
      "\\end{table}\n",
      "\n"
     ]
    }
   ],
   "execution_count": 12
  },
  {
   "metadata": {
    "ExecuteTime": {
     "end_time": "2025-05-21T18:26:09.271568Z",
     "start_time": "2025-05-21T18:26:09.270101Z"
    }
   },
   "cell_type": "code",
   "source": "",
   "id": "fc3b3ed9cfd21f1c",
   "outputs": [],
   "execution_count": null
  }
 ],
 "metadata": {
  "kernelspec": {
   "display_name": "Python 3 (ipykernel)",
   "language": "python",
   "name": "python3"
  },
  "language_info": {
   "codemirror_mode": {
    "name": "ipython",
    "version": 3
   },
   "file_extension": ".py",
   "mimetype": "text/x-python",
   "name": "python",
   "nbconvert_exporter": "python",
   "pygments_lexer": "ipython3",
   "version": "3.9.6"
  }
 },
 "nbformat": 4,
 "nbformat_minor": 5
}
