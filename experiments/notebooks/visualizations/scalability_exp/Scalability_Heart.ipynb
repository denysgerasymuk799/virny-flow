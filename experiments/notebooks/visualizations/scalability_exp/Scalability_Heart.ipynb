{
 "cells": [
  {
   "cell_type": "code",
   "id": "initial_id",
   "metadata": {
    "ExecuteTime": {
     "end_time": "2025-04-28T16:09:39.619149Z",
     "start_time": "2025-04-28T16:09:38.803533Z"
    }
   },
   "source": [
    "%matplotlib inline\n",
    "%load_ext autoreload\n",
    "%autoreload 2"
   ],
   "outputs": [],
   "execution_count": 1
  },
  {
   "cell_type": "code",
   "id": "4b8df197bfac13ea",
   "metadata": {
    "ExecuteTime": {
     "end_time": "2025-04-28T16:09:39.634902Z",
     "start_time": "2025-04-28T16:09:39.626147Z"
    }
   },
   "source": [
    "import os\n",
    "import warnings\n",
    "\n",
    "warnings.filterwarnings('ignore')\n",
    "os.environ[\"PYTHONWARNINGS\"] = \"ignore\""
   ],
   "outputs": [],
   "execution_count": 2
  },
  {
   "cell_type": "code",
   "id": "795bc03809b0bd76",
   "metadata": {
    "ExecuteTime": {
     "end_time": "2025-04-28T16:09:39.653553Z",
     "start_time": "2025-04-28T16:09:39.643602Z"
    }
   },
   "source": [
    "cur_folder_name = os.getcwd().split('/')[-1]\n",
    "if cur_folder_name != \"virny-flow-experiments\":\n",
    "    os.chdir(\"../../..\")\n",
    "\n",
    "print('Current location: ', os.getcwd())"
   ],
   "outputs": [
    {
     "name": "stdout",
     "output_type": "stream",
     "text": [
      "Current location:  /Users/denys_herasymuk/Research/NYU/VirnyFlow_Project/Code/virny-flow-experiments\n"
     ]
    }
   ],
   "execution_count": 3
  },
  {
   "cell_type": "markdown",
   "id": "f82a3d9884591691",
   "metadata": {},
   "source": [
    "# Case Studies Visualizations"
   ]
  },
  {
   "cell_type": "code",
   "id": "7355907a9d999068",
   "metadata": {
    "ExecuteTime": {
     "end_time": "2025-04-28T16:09:40.237327Z",
     "start_time": "2025-04-28T16:09:39.740567Z"
    }
   },
   "source": [
    "import pandas as pd\n",
    "from duckdb import query as sqldf\n",
    "from virny_flow.core.custom_classes.core_db_client import CoreDBClient\n",
    "from virny_flow.configs.constants import EXP_CONFIG_HISTORY_TABLE, ALL_EXPERIMENT_METRICS_TABLE\n",
    "from source.visualizations.use_case_queries import get_best_lps_per_exp_config\n",
    "from source.visualizations.scalability_viz import create_speedup_plot, create_performance_plot_v2, display_table_with_results_heart"
   ],
   "outputs": [],
   "execution_count": 4
  },
  {
   "cell_type": "markdown",
   "id": "a41c1d9ce97655db",
   "metadata": {},
   "source": [
    "## Prepare data for visualizations"
   ]
  },
  {
   "cell_type": "code",
   "id": "7010681237f5c94a",
   "metadata": {
    "ExecuteTime": {
     "end_time": "2025-04-28T16:09:40.435007Z",
     "start_time": "2025-04-28T16:09:40.242151Z"
    }
   },
   "source": [
    "SECRETS_PATH = os.path.join(os.getcwd(), \"scripts\", \"configs\", \"secrets.env\")\n",
    "EXP_NAME = 'scalability_exp'\n",
    "DATASET_NAME = 'heart'\n",
    "GROUP = \"gender\"\n",
    "VIRNY_FLOW = 'virny_flow'\n",
    "ALPINE = 'alpine_meadow'\n",
    "AUTOSKLEARN = 'autosklearn'\n",
    "EXP_CONFIG_NAMES = {\n",
    "    VIRNY_FLOW: {\n",
    "        'scalability_exp_heart_w1_vf': 1,\n",
    "        'scalability_exp_heart_w2_vf': 2,\n",
    "        'scalability_exp_heart_w4_vf': 4,\n",
    "        'scalability_exp_heart_w8_vf': 8,\n",
    "        'scalability_exp_heart_w16_vf': 16,\n",
    "        'scalability_exp_heart_w32_vf': 32,\n",
    "        'scalability_exp_heart_n2_w32_vf': 64,\n",
    "        'scalability_exp_heart_n4_w32_vf': 128,\n",
    "    },\n",
    "    ALPINE: {\n",
    "        'scalability_exp_heart_w2_am': 2,\n",
    "        'scalability_exp_heart_w4_am': 4,\n",
    "        'scalability_exp_heart_w8_am': 8,\n",
    "        'scalability_exp_heart_w16_am': 16,\n",
    "        'scalability_exp_heart_w32_am': 32,\n",
    "    },\n",
    "    AUTOSKLEARN: {\n",
    "        'scalability_exp_heart_w2_askl': 2,\n",
    "        'scalability_exp_heart_w4_askl': 4,\n",
    "        'scalability_exp_heart_w8_askl': 8,\n",
    "        'scalability_exp_heart_w16_askl': 16,\n",
    "        'scalability_exp_heart_w32_askl': 32,\n",
    "    },\n",
    "}\n",
    "\n",
    "db_client = CoreDBClient(SECRETS_PATH)\n",
    "db_client.connect()"
   ],
   "outputs": [],
   "execution_count": 5
  },
  {
   "metadata": {
    "ExecuteTime": {
     "end_time": "2025-04-28T16:09:40.461195Z",
     "start_time": "2025-04-28T16:09:40.444715Z"
    }
   },
   "cell_type": "code",
   "source": [
    "def get_virny_flow_metrics(db_client):\n",
    "    exp_config_names = list(EXP_CONFIG_NAMES['virny_flow'].keys())\n",
    "    best_lp_metrics_per_exp_config_df = get_best_lps_per_exp_config(secrets_path=SECRETS_PATH,\n",
    "                                                                    exp_config_names=exp_config_names)\n",
    "    best_lp_metrics_per_exp_config_df['num_workers'] = best_lp_metrics_per_exp_config_df['exp_config_name'].map(EXP_CONFIG_NAMES['virny_flow'])\n",
    "\n",
    "    virny_flow_all_runtime_df = pd.DataFrame()\n",
    "    for exp_config_name in exp_config_names:\n",
    "        virny_flow_runtime_df = db_client.read_metric_df_from_db(collection_name=EXP_CONFIG_HISTORY_TABLE,\n",
    "                                                                 query={'exp_config_name': exp_config_name,\n",
    "                                                                        'deletion_flag': False})\n",
    "        virny_flow_all_runtime_df = pd.concat([virny_flow_all_runtime_df, virny_flow_runtime_df])\n",
    "    \n",
    "    new_column_names = []\n",
    "    for col in virny_flow_all_runtime_df.columns:\n",
    "        new_col_name = '_'.join([c.lower() for c in col.split('_')])\n",
    "        new_column_names.append(new_col_name)\n",
    "    virny_flow_all_runtime_df.columns = new_column_names\n",
    "\n",
    "    virny_flow_metrics_df = sqldf(\"\"\"\n",
    "        SELECT DISTINCT t1.*, t2.exp_config_execution_time\n",
    "        FROM best_lp_metrics_per_exp_config_df AS t1\n",
    "        JOIN virny_flow_all_runtime_df AS t2\n",
    "          ON t1.exp_config_name = t2.exp_config_name\n",
    "         AND t1.run_num = t2.run_num\n",
    "    \"\"\").to_df()\n",
    "    \n",
    "    return virny_flow_metrics_df\n",
    "\n",
    "\n",
    "def get_system_metrics(db_client, system_name: str):\n",
    "    exp_config_names = list(EXP_CONFIG_NAMES[system_name].keys())\n",
    "    system_all_runtime_df = pd.DataFrame()\n",
    "    for exp_config_name in exp_config_names:\n",
    "        system_runtime_df = db_client.read_metric_df_from_db(collection_name=ALL_EXPERIMENT_METRICS_TABLE,\n",
    "                                                                 query={'exp_config_name': exp_config_name,\n",
    "                                                                        'system_name': system_name,\n",
    "                                                                        'tag': 'OK'})\n",
    "        \n",
    "        new_column_names = []\n",
    "        for col in system_runtime_df.columns:\n",
    "            new_col_name = '_'.join([c.lower() for c in col.split('_')])\n",
    "            new_column_names.append(new_col_name)\n",
    "        system_runtime_df.columns = new_column_names\n",
    "        system_runtime_df['num_workers'] = system_runtime_df['exp_config_name'].map(EXP_CONFIG_NAMES[system_name])\n",
    "    \n",
    "        # Create columns based on values in the Subgroup column\n",
    "        pivoted_all_metrics_df = pd.DataFrame()\n",
    "        for run_num in system_runtime_df['run_num'].unique():\n",
    "            subset_df = system_runtime_df[system_runtime_df['run_num'] == run_num]\n",
    "            pivoted_metrics_df = subset_df.pivot(columns='subgroup', values='metric_value',\n",
    "                                                 index=[col for col in subset_df.columns\n",
    "                                                        if col not in ('subgroup', 'metric_value')]).reset_index()\n",
    "            pivoted_all_metrics_df = pd.concat([pivoted_all_metrics_df, pivoted_metrics_df])\n",
    "        \n",
    "        system_all_runtime_df = pd.concat([system_all_runtime_df, pivoted_all_metrics_df])\n",
    "\n",
    "    return system_all_runtime_df"
   ],
   "id": "16366d61e373bc6",
   "outputs": [],
   "execution_count": 6
  },
  {
   "cell_type": "code",
   "id": "8219596d0fdfa897",
   "metadata": {
    "scrolled": true,
    "ExecuteTime": {
     "end_time": "2025-04-28T16:09:54.825746Z",
     "start_time": "2025-04-28T16:09:40.468540Z"
    }
   },
   "source": "virny_flow_metrics_df = get_virny_flow_metrics(db_client)",
   "outputs": [
    {
     "name": "stdout",
     "output_type": "stream",
     "text": [
      "Extracting metrics for scalability_exp_heart_w1_vf...\n",
      "best_pps_per_lp_and_run_num_df.shape: (216, 15)\n",
      "best_lp_per_run_all.shape: (171, 15)\n",
      "Extracted metrics for scalability_exp_heart_w1_vf\n",
      "\n",
      "Extracting metrics for scalability_exp_heart_w2_vf...\n",
      "best_pps_per_lp_and_run_num_df.shape: (171, 15)\n",
      "best_lp_per_run_all.shape: (135, 15)\n",
      "Extracted metrics for scalability_exp_heart_w2_vf\n",
      "\n",
      "Extracting metrics for scalability_exp_heart_w4_vf...\n",
      "best_pps_per_lp_and_run_num_df.shape: (153, 15)\n",
      "best_lp_per_run_all.shape: (108, 15)\n",
      "Extracted metrics for scalability_exp_heart_w4_vf\n",
      "\n",
      "Extracting metrics for scalability_exp_heart_w8_vf...\n",
      "best_pps_per_lp_and_run_num_df.shape: (207, 15)\n",
      "best_lp_per_run_all.shape: (153, 15)\n",
      "Extracted metrics for scalability_exp_heart_w8_vf\n",
      "\n",
      "Extracting metrics for scalability_exp_heart_w16_vf...\n",
      "best_pps_per_lp_and_run_num_df.shape: (297, 15)\n",
      "best_lp_per_run_all.shape: (198, 15)\n",
      "Extracted metrics for scalability_exp_heart_w16_vf\n",
      "\n",
      "Extracting metrics for scalability_exp_heart_w32_vf...\n",
      "best_pps_per_lp_and_run_num_df.shape: (315, 15)\n",
      "best_lp_per_run_all.shape: (216, 15)\n",
      "Extracted metrics for scalability_exp_heart_w32_vf\n",
      "\n",
      "Extracting metrics for scalability_exp_heart_n2_w32_vf...\n",
      "best_pps_per_lp_and_run_num_df.shape: (108, 15)\n",
      "best_lp_per_run_all.shape: (90, 15)\n",
      "Extracted metrics for scalability_exp_heart_n2_w32_vf\n",
      "\n",
      "Extracting metrics for scalability_exp_heart_n4_w32_vf...\n",
      "best_pps_per_lp_and_run_num_df.shape: (117, 15)\n",
      "best_lp_per_run_all.shape: (99, 15)\n",
      "Extracted metrics for scalability_exp_heart_n4_w32_vf\n",
      "\n"
     ]
    }
   ],
   "execution_count": 7
  },
  {
   "metadata": {
    "ExecuteTime": {
     "end_time": "2025-04-28T16:10:04.742027Z",
     "start_time": "2025-04-28T16:09:54.839073Z"
    }
   },
   "cell_type": "code",
   "source": "alpine_meadow_metrics_df = get_system_metrics(db_client, system_name=ALPINE)",
   "id": "f2a97de7f4293fae",
   "outputs": [],
   "execution_count": 8
  },
  {
   "metadata": {
    "ExecuteTime": {
     "end_time": "2025-04-28T16:11:00.597349Z",
     "start_time": "2025-04-28T16:10:04.755863Z"
    }
   },
   "cell_type": "code",
   "source": "autosklearn_metrics_df = get_system_metrics(db_client, system_name=AUTOSKLEARN)",
   "id": "a40ec171a60f3aee",
   "outputs": [],
   "execution_count": 9
  },
  {
   "metadata": {},
   "cell_type": "markdown",
   "source": "## Display Results",
   "id": "a3c4124dc04b38ff"
  },
  {
   "metadata": {
    "ExecuteTime": {
     "end_time": "2025-04-28T16:11:00.659080Z",
     "start_time": "2025-04-28T16:11:00.614299Z"
    }
   },
   "cell_type": "code",
   "source": [
    "virny_flow_final_metrics_df = display_table_with_results_heart(virny_flow_metrics_df, 'virny_flow', 'Equalized_Odds_TNR', GROUP)\n",
    "alpine_meadow_final_metrics_df = display_table_with_results_heart(alpine_meadow_metrics_df, 'alpine_meadow', 'Equalized_Odds_TNR', GROUP)\n",
    "autosklearn_final_metrics_df = display_table_with_results_heart(autosklearn_metrics_df, AUTOSKLEARN, 'Equalized_Odds_TNR', GROUP)"
   ],
   "id": "bdb651a016484ea5",
   "outputs": [],
   "execution_count": 10
  },
  {
   "metadata": {
    "ExecuteTime": {
     "end_time": "2025-04-28T16:11:00.691127Z",
     "start_time": "2025-04-28T16:11:00.678318Z"
    }
   },
   "cell_type": "code",
   "source": [
    "one_worker_metrics_df, virny_flow_final_metrics_df = (virny_flow_final_metrics_df[virny_flow_final_metrics_df['num_workers'] == 1],\n",
    "                                                      virny_flow_final_metrics_df[virny_flow_final_metrics_df['num_workers'] != 1])\n",
    "final_metrics_df = pd.concat([virny_flow_final_metrics_df, alpine_meadow_final_metrics_df, autosklearn_final_metrics_df])"
   ],
   "id": "da4bc29f24c7404b",
   "outputs": [],
   "execution_count": 11
  },
  {
   "metadata": {
    "ExecuteTime": {
     "end_time": "2025-04-28T16:11:00.831312Z",
     "start_time": "2025-04-28T16:11:00.715502Z"
    }
   },
   "cell_type": "code",
   "source": "create_speedup_plot(one_worker_metrics_df, final_metrics_df, dataset='heart')",
   "id": "90c9bf78d48f392e",
   "outputs": [
    {
     "data": {
      "text/html": [
       "\n",
       "<div id=\"altair-viz-09f3e8167d2b49fb8977e5222a895d87\"></div>\n",
       "<script type=\"text/javascript\">\n",
       "  var VEGA_DEBUG = (typeof VEGA_DEBUG == \"undefined\") ? {} : VEGA_DEBUG;\n",
       "  (function(spec, embedOpt){\n",
       "    let outputDiv = document.currentScript.previousElementSibling;\n",
       "    if (outputDiv.id !== \"altair-viz-09f3e8167d2b49fb8977e5222a895d87\") {\n",
       "      outputDiv = document.getElementById(\"altair-viz-09f3e8167d2b49fb8977e5222a895d87\");\n",
       "    }\n",
       "    const paths = {\n",
       "      \"vega\": \"https://cdn.jsdelivr.net/npm//vega@5?noext\",\n",
       "      \"vega-lib\": \"https://cdn.jsdelivr.net/npm//vega-lib?noext\",\n",
       "      \"vega-lite\": \"https://cdn.jsdelivr.net/npm//vega-lite@4.17.0?noext\",\n",
       "      \"vega-embed\": \"https://cdn.jsdelivr.net/npm//vega-embed@6?noext\",\n",
       "    };\n",
       "\n",
       "    function maybeLoadScript(lib, version) {\n",
       "      var key = `${lib.replace(\"-\", \"\")}_version`;\n",
       "      return (VEGA_DEBUG[key] == version) ?\n",
       "        Promise.resolve(paths[lib]) :\n",
       "        new Promise(function(resolve, reject) {\n",
       "          var s = document.createElement('script');\n",
       "          document.getElementsByTagName(\"head\")[0].appendChild(s);\n",
       "          s.async = true;\n",
       "          s.onload = () => {\n",
       "            VEGA_DEBUG[key] = version;\n",
       "            return resolve(paths[lib]);\n",
       "          };\n",
       "          s.onerror = () => reject(`Error loading script: ${paths[lib]}`);\n",
       "          s.src = paths[lib];\n",
       "        });\n",
       "    }\n",
       "\n",
       "    function showError(err) {\n",
       "      outputDiv.innerHTML = `<div class=\"error\" style=\"color:red;\">${err}</div>`;\n",
       "      throw err;\n",
       "    }\n",
       "\n",
       "    function displayChart(vegaEmbed) {\n",
       "      vegaEmbed(outputDiv, spec, embedOpt)\n",
       "        .catch(err => showError(`Javascript Error: ${err.message}<br>This usually means there's a typo in your chart specification. See the javascript console for the full traceback.`));\n",
       "    }\n",
       "\n",
       "    if(typeof define === \"function\" && define.amd) {\n",
       "      requirejs.config({paths});\n",
       "      require([\"vega-embed\"], displayChart, err => showError(`Error loading script: ${err.message}`));\n",
       "    } else {\n",
       "      maybeLoadScript(\"vega\", \"5\")\n",
       "        .then(() => maybeLoadScript(\"vega-lite\", \"4.17.0\"))\n",
       "        .then(() => maybeLoadScript(\"vega-embed\", \"6\"))\n",
       "        .catch(showError)\n",
       "        .then(() => displayChart(vegaEmbed));\n",
       "    }\n",
       "  })({\"config\": {\"view\": {\"continuousWidth\": 400, \"continuousHeight\": 300, \"stroke\": null}, \"axis\": {\"labelFontSize\": 24, \"labelFontWeight\": \"normal\", \"titleFontSize\": 28, \"titleFontWeight\": \"normal\"}, \"legend\": {\"labelFontSize\": 22, \"labelLimit\": 500, \"offset\": 20, \"orient\": \"top-left\", \"symbolStrokeWidth\": 10, \"titleFontSize\": 22}, \"title\": {\"fontSize\": 28}}, \"layer\": [{\"data\": {\"name\": \"data-7cc00a04aca5517e5e7f910225d5bf02\"}, \"mark\": {\"type\": \"line\", \"point\": {\"filled\": true, \"size\": 100}}, \"encoding\": {\"color\": {\"field\": \"system_name\", \"sort\": [\"virny_flow\", \"alpine_meadow\", \"autosklearn\"], \"title\": null, \"type\": \"nominal\"}, \"x\": {\"field\": \"num_workers\", \"scale\": {\"type\": \"linear\"}, \"title\": \"# of Workers\", \"type\": \"quantitative\"}, \"y\": {\"field\": \"speedup\", \"title\": \"Speedup\", \"type\": \"quantitative\"}}}, {\"data\": {\"name\": \"data-2f62e4000ae402f66a2f26c637ba17e8\"}, \"mark\": {\"type\": \"rule\", \"strokeDash\": [8, 4], \"strokeWidth\": 3}, \"encoding\": {\"color\": {\"field\": \"system_name\", \"sort\": [\"virny_flow\", \"alpine_meadow\", \"autosklearn\"], \"title\": null, \"type\": \"nominal\"}, \"y\": {\"field\": \"speedup\", \"type\": \"quantitative\"}}}, {\"data\": {\"name\": \"data-9f7151acc9bdb98d77d58a8eeafc73da\"}, \"mark\": {\"type\": \"rule\", \"color\": \"black\", \"opacity\": 0.5, \"strokeWidth\": 2}, \"encoding\": {\"x\": {\"field\": \"x\", \"type\": \"quantitative\"}, \"y\": {\"field\": \"y_start\", \"type\": \"quantitative\"}, \"y2\": {\"field\": \"y_end\"}}}, {\"data\": {\"name\": \"data-16fa8704fc344fe350f0c5522c8808a6\"}, \"mark\": {\"type\": \"point\", \"color\": \"black\", \"point\": {\"filled\": true, \"size\": 100}, \"shape\": \"triangle-up\"}, \"encoding\": {\"x\": {\"field\": \"x\", \"type\": \"quantitative\"}, \"y\": {\"field\": \"y\", \"type\": \"quantitative\"}}}, {\"data\": {\"name\": \"data-bd437b78366f85805ca4070e38c35b78\"}, \"mark\": {\"type\": \"point\", \"color\": \"black\", \"point\": {\"filled\": true, \"size\": 100}, \"shape\": \"triangle-down\"}, \"encoding\": {\"x\": {\"field\": \"x\", \"type\": \"quantitative\"}, \"y\": {\"field\": \"y\", \"type\": \"quantitative\"}}}, {\"data\": {\"name\": \"data-c6bb5ef4ebe86d7501b7e8fe1e0c0f04\"}, \"mark\": {\"type\": \"text\", \"align\": \"right\", \"baseline\": \"middle\", \"color\": \"black\", \"dx\": -5, \"dy\": 5, \"fontSize\": 20, \"fontWeight\": \"bold\"}, \"encoding\": {\"text\": {\"field\": \"label\", \"type\": \"nominal\"}, \"x\": {\"field\": \"x\", \"type\": \"quantitative\"}, \"y\": {\"field\": \"y\", \"type\": \"quantitative\"}}}], \"height\": 300, \"width\": 500, \"$schema\": \"https://vega.github.io/schema/vega-lite/v4.17.0.json\", \"datasets\": {\"data-7cc00a04aca5517e5e7f910225d5bf02\": [{\"system_name\": \"alpine_meadow\", \"dataset_name\": \"heart\", \"num_workers\": 2, \"optimization_time\": 10798.993300771714, \"baseline_time\": 8239.037933588028, \"speedup\": 0.7629449990490551}, {\"system_name\": \"alpine_meadow\", \"dataset_name\": \"heart\", \"num_workers\": 4, \"optimization_time\": 3637.853522192348, \"baseline_time\": 8239.037933588028, \"speedup\": 2.2648074979728103}, {\"system_name\": \"alpine_meadow\", \"dataset_name\": \"heart\", \"num_workers\": 8, \"optimization_time\": 2492.330482157794, \"baseline_time\": 8239.037933588028, \"speedup\": 3.3057565971166416}, {\"system_name\": \"alpine_meadow\", \"dataset_name\": \"heart\", \"num_workers\": 16, \"optimization_time\": 1798.7888021270435, \"baseline_time\": 8239.037933588028, \"speedup\": 4.580325341054757}, {\"system_name\": \"alpine_meadow\", \"dataset_name\": \"heart\", \"num_workers\": 32, \"optimization_time\": 1386.4458805799484, \"baseline_time\": 8239.037933588028, \"speedup\": 5.942560073200729}, {\"system_name\": \"autosklearn\", \"dataset_name\": \"heart\", \"num_workers\": 2, \"optimization_time\": 5463.538237929344, \"baseline_time\": 8239.037933588028, \"speedup\": 1.5080040762578402}, {\"system_name\": \"autosklearn\", \"dataset_name\": \"heart\", \"num_workers\": 4, \"optimization_time\": 8228.487159848213, \"baseline_time\": 8239.037933588028, \"speedup\": 1.0012822252176923}, {\"system_name\": \"autosklearn\", \"dataset_name\": \"heart\", \"num_workers\": 8, \"optimization_time\": 7359.272792379062, \"baseline_time\": 8239.037933588028, \"speedup\": 1.1195451189307744}, {\"system_name\": \"autosklearn\", \"dataset_name\": \"heart\", \"num_workers\": 16, \"optimization_time\": 6002.761951446533, \"baseline_time\": 8239.037933588028, \"speedup\": 1.3725411735847033}, {\"system_name\": \"autosklearn\", \"dataset_name\": \"heart\", \"num_workers\": 32, \"optimization_time\": 9549.863517594338, \"baseline_time\": 8239.037933588028, \"speedup\": 0.862738814896015}, {\"system_name\": \"virny_flow\", \"dataset_name\": \"heart\", \"num_workers\": 2, \"optimization_time\": 7259.381152677536, \"baseline_time\": 8239.037933588028, \"speedup\": 1.1349504538068176}, {\"system_name\": \"virny_flow\", \"dataset_name\": \"heart\", \"num_workers\": 4, \"optimization_time\": 5714.330258893967, \"baseline_time\": 8239.037933588028, \"speedup\": 1.4418203989460576}, {\"system_name\": \"virny_flow\", \"dataset_name\": \"heart\", \"num_workers\": 8, \"optimization_time\": 8208.24864512682, \"baseline_time\": 8239.037933588028, \"speedup\": 1.0037510180054654}, {\"system_name\": \"virny_flow\", \"dataset_name\": \"heart\", \"num_workers\": 16, \"optimization_time\": 5009.476702153683, \"baseline_time\": 8239.037933588028, \"speedup\": 1.644690338622772}, {\"system_name\": \"virny_flow\", \"dataset_name\": \"heart\", \"num_workers\": 32, \"optimization_time\": 1683.1324198961258, \"baseline_time\": 8239.037933588028, \"speedup\": 4.895062228137997}, {\"system_name\": \"virny_flow\", \"dataset_name\": \"heart\", \"num_workers\": 64, \"optimization_time\": 562.8920419931412, \"baseline_time\": 8239.037933588028, \"speedup\": 14.63697710917082}, {\"system_name\": \"virny_flow\", \"dataset_name\": \"heart\", \"num_workers\": 128, \"optimization_time\": 196.0367111076008, \"baseline_time\": 8239.037933588028, \"speedup\": 42.02803590734481}, {\"system_name\": \"virny_flow\", \"dataset_name\": \"heart\", \"num_workers\": 1, \"optimization_time\": 8239.037933588028, \"baseline_time\": 8239.037933588028, \"speedup\": 1.0}, {\"system_name\": \"alpine_meadow\", \"dataset_name\": \"heart\", \"num_workers\": 1, \"optimization_time\": 8239.037933588028, \"baseline_time\": 8239.037933588028, \"speedup\": 1.0}, {\"system_name\": \"autosklearn\", \"dataset_name\": \"heart\", \"num_workers\": 1, \"optimization_time\": 8239.037933588028, \"baseline_time\": 8239.037933588028, \"speedup\": 1.0}], \"data-2f62e4000ae402f66a2f26c637ba17e8\": [{\"speedup\": 5.942560073200729, \"system_name\": \"alpine_meadow\"}, {\"speedup\": 1.3725411735847033, \"system_name\": \"autosklearn\"}, {\"speedup\": null, \"system_name\": \"virny_flow\"}], \"data-9f7151acc9bdb98d77d58a8eeafc73da\": [{\"x\": 128, \"y_start\": 5.942560073200729, \"y_end\": 41.02803590734481}], \"data-16fa8704fc344fe350f0c5522c8808a6\": [{\"x\": 128, \"y\": 41.02803590734481}], \"data-bd437b78366f85805ca4070e38c35b78\": [{\"x\": 128, \"y\": 6.442560073200729}], \"data-c6bb5ef4ebe86d7501b7e8fe1e0c0f04\": [{\"x\": 128, \"y\": 23.23529799027277, \"label\": \"7.07x\"}]}}, {\"mode\": \"vega-lite\"});\n",
       "</script>"
      ],
      "text/plain": [
       "alt.LayerChart(...)"
      ]
     },
     "execution_count": 12,
     "metadata": {},
     "output_type": "execute_result"
    }
   ],
   "execution_count": 12
  },
  {
   "metadata": {
    "ExecuteTime": {
     "end_time": "2025-04-28T16:11:00.903752Z",
     "start_time": "2025-04-28T16:11:00.853533Z"
    }
   },
   "cell_type": "code",
   "source": "create_performance_plot_v2(final_metrics_df, metric_name=\"F1\")",
   "id": "2e221e51ab84741",
   "outputs": [
    {
     "data": {
      "text/html": [
       "\n",
       "<div id=\"altair-viz-a55fbcf1b64d4d4199b99b81a31ca295\"></div>\n",
       "<script type=\"text/javascript\">\n",
       "  var VEGA_DEBUG = (typeof VEGA_DEBUG == \"undefined\") ? {} : VEGA_DEBUG;\n",
       "  (function(spec, embedOpt){\n",
       "    let outputDiv = document.currentScript.previousElementSibling;\n",
       "    if (outputDiv.id !== \"altair-viz-a55fbcf1b64d4d4199b99b81a31ca295\") {\n",
       "      outputDiv = document.getElementById(\"altair-viz-a55fbcf1b64d4d4199b99b81a31ca295\");\n",
       "    }\n",
       "    const paths = {\n",
       "      \"vega\": \"https://cdn.jsdelivr.net/npm//vega@5?noext\",\n",
       "      \"vega-lib\": \"https://cdn.jsdelivr.net/npm//vega-lib?noext\",\n",
       "      \"vega-lite\": \"https://cdn.jsdelivr.net/npm//vega-lite@4.17.0?noext\",\n",
       "      \"vega-embed\": \"https://cdn.jsdelivr.net/npm//vega-embed@6?noext\",\n",
       "    };\n",
       "\n",
       "    function maybeLoadScript(lib, version) {\n",
       "      var key = `${lib.replace(\"-\", \"\")}_version`;\n",
       "      return (VEGA_DEBUG[key] == version) ?\n",
       "        Promise.resolve(paths[lib]) :\n",
       "        new Promise(function(resolve, reject) {\n",
       "          var s = document.createElement('script');\n",
       "          document.getElementsByTagName(\"head\")[0].appendChild(s);\n",
       "          s.async = true;\n",
       "          s.onload = () => {\n",
       "            VEGA_DEBUG[key] = version;\n",
       "            return resolve(paths[lib]);\n",
       "          };\n",
       "          s.onerror = () => reject(`Error loading script: ${paths[lib]}`);\n",
       "          s.src = paths[lib];\n",
       "        });\n",
       "    }\n",
       "\n",
       "    function showError(err) {\n",
       "      outputDiv.innerHTML = `<div class=\"error\" style=\"color:red;\">${err}</div>`;\n",
       "      throw err;\n",
       "    }\n",
       "\n",
       "    function displayChart(vegaEmbed) {\n",
       "      vegaEmbed(outputDiv, spec, embedOpt)\n",
       "        .catch(err => showError(`Javascript Error: ${err.message}<br>This usually means there's a typo in your chart specification. See the javascript console for the full traceback.`));\n",
       "    }\n",
       "\n",
       "    if(typeof define === \"function\" && define.amd) {\n",
       "      requirejs.config({paths});\n",
       "      require([\"vega-embed\"], displayChart, err => showError(`Error loading script: ${err.message}`));\n",
       "    } else {\n",
       "      maybeLoadScript(\"vega\", \"5\")\n",
       "        .then(() => maybeLoadScript(\"vega-lite\", \"4.17.0\"))\n",
       "        .then(() => maybeLoadScript(\"vega-embed\", \"6\"))\n",
       "        .catch(showError)\n",
       "        .then(() => displayChart(vegaEmbed));\n",
       "    }\n",
       "  })({\"config\": {\"view\": {\"continuousWidth\": 400, \"continuousHeight\": 300, \"stroke\": null}, \"axis\": {\"labelFontSize\": 26, \"labelFontWeight\": \"normal\", \"titleFontSize\": 28, \"titleFontWeight\": \"normal\"}, \"facet\": {\"spacing\": 20}, \"header\": {\"labelFontSize\": 24, \"labelFontWeight\": \"normal\", \"labelOrient\": \"bottom\", \"labelPadding\": 5, \"titleFontSize\": 24, \"titleFontWeight\": \"normal\", \"titleOrient\": \"bottom\", \"titlePadding\": 5}, \"legend\": {\"columns\": 3, \"direction\": \"horizontal\", \"labelFontSize\": 24, \"labelLimit\": 400, \"orient\": \"top\", \"symbolOffset\": 10, \"symbolStrokeWidth\": 10, \"titleAnchor\": \"middle\", \"titleFontSize\": 26, \"titleLimit\": 300}, \"title\": {\"fontSize\": 24}}, \"data\": {\"name\": \"data-5e38df17d8ee3955b7d8f6176d2b1a8a\"}, \"mark\": {\"type\": \"boxplot\", \"median\": {\"stroke\": \"white\", \"strokeWidth\": 0.7}, \"ticks\": true}, \"encoding\": {\"color\": {\"field\": \"system_name\", \"legend\": {\"title\": null}, \"sort\": [\"virny_flow\", \"alpine_meadow\", \"autosklearn\"], \"type\": \"nominal\"}, \"column\": {\"field\": \"num_workers\", \"title\": \"# of Workers\", \"type\": \"ordinal\"}, \"x\": {\"axis\": {\"labelAngle\": -45, \"labels\": false}, \"field\": \"system_name\", \"sort\": [\"virny_flow\", \"alpine_meadow\", \"autosklearn\"], \"title\": null, \"type\": \"nominal\"}, \"y\": {\"field\": \"F1\", \"scale\": {\"zero\": false}, \"title\": \"F1\", \"type\": \"quantitative\"}}, \"resolve\": {\"scale\": {\"x\": \"shared\"}}, \"$schema\": \"https://vega.github.io/schema/vega-lite/v4.17.0.json\", \"datasets\": {\"data-5e38df17d8ee3955b7d8f6176d2b1a8a\": [{\"system_name\": \"virny_flow\", \"dataset_name\": \"heart\", \"num_workers\": 8, \"run_num\": 16, \"optimization_time\": 9642.671578645706, \"F1\": 0.7236233398000298, \"Equalized_Odds_TNR\": 0.0010544602456367125}, {\"system_name\": \"virny_flow\", \"dataset_name\": \"heart\", \"num_workers\": 32, \"run_num\": 8, \"optimization_time\": 1053.2106947898865, \"F1\": 0.7202500558160304, \"Equalized_Odds_TNR\": 0.000862229185928598}, {\"system_name\": \"virny_flow\", \"dataset_name\": \"heart\", \"num_workers\": 32, \"run_num\": 12, \"optimization_time\": 1483.4162709712982, \"F1\": 0.7295339820030726, \"Equalized_Odds_TNR\": 0.014623537449519386}, {\"system_name\": \"virny_flow\", \"dataset_name\": \"heart\", \"num_workers\": 32, \"run_num\": 13, \"optimization_time\": 629.6818895339966, \"F1\": 0.7269614411195474, \"Equalized_Odds_TNR\": 0.013788375796325858}, {\"system_name\": \"virny_flow\", \"dataset_name\": \"heart\", \"num_workers\": 32, \"run_num\": 26, \"optimization_time\": 278.28211998939514, \"F1\": 0.7304142361367496, \"Equalized_Odds_TNR\": 0.00012626143518612576}, {\"system_name\": \"virny_flow\", \"dataset_name\": \"heart\", \"num_workers\": 128, \"run_num\": 4, \"optimization_time\": 179.60909032821655, \"F1\": 0.7196143863552095, \"Equalized_Odds_TNR\": 0.0028260859562123652}, {\"system_name\": \"virny_flow\", \"dataset_name\": \"heart\", \"num_workers\": 64, \"run_num\": 9, \"optimization_time\": 340.29055643081665, \"F1\": 0.7262627758850541, \"Equalized_Odds_TNR\": 0.024482111468295265}, {\"system_name\": \"virny_flow\", \"dataset_name\": \"heart\", \"num_workers\": 128, \"run_num\": 2, \"optimization_time\": 290.30528497695923, \"F1\": 0.7230949933930406, \"Equalized_Odds_TNR\": 0.014215739142939277}, {\"system_name\": \"virny_flow\", \"dataset_name\": \"heart\", \"num_workers\": 128, \"run_num\": 3, \"optimization_time\": 176.47548508644104, \"F1\": 0.7242431004984007, \"Equalized_Odds_TNR\": 0.01795264195539026}, {\"system_name\": \"virny_flow\", \"dataset_name\": \"heart\", \"num_workers\": 32, \"run_num\": 2, \"optimization_time\": 1906.3902740478516, \"F1\": 0.7237084530916059, \"Equalized_Odds_TNR\": 0.01181577149841817}, {\"system_name\": \"virny_flow\", \"dataset_name\": \"heart\", \"num_workers\": 32, \"run_num\": 11, \"optimization_time\": 3575.730427980423, \"F1\": 0.7206944343132249, \"Equalized_Odds_TNR\": 0.0064050932110142345}, {\"system_name\": \"virny_flow\", \"dataset_name\": \"heart\", \"num_workers\": 64, \"run_num\": 10, \"optimization_time\": 333.01617455482483, \"F1\": 0.7294342114918911, \"Equalized_Odds_TNR\": -0.00017396900664057302}, {\"system_name\": \"virny_flow\", \"dataset_name\": \"heart\", \"num_workers\": 64, \"run_num\": 12, \"optimization_time\": 428.31307220458984, \"F1\": 0.727086083003373, \"Equalized_Odds_TNR\": 0.012765995500119809}, {\"system_name\": \"virny_flow\", \"dataset_name\": \"heart\", \"num_workers\": 128, \"run_num\": 9, \"optimization_time\": 376.01394963264465, \"F1\": 0.7262627758850541, \"Equalized_Odds_TNR\": 0.024482111468295265}, {\"system_name\": \"virny_flow\", \"dataset_name\": \"heart\", \"num_workers\": 128, \"run_num\": 6, \"optimization_time\": 172.90873074531555, \"F1\": 0.7252714339198802, \"Equalized_Odds_TNR\": 0.0035438019133920973}, {\"system_name\": \"virny_flow\", \"dataset_name\": \"heart\", \"num_workers\": 2, \"run_num\": 9, \"optimization_time\": 3538.817573785782, \"F1\": 0.7227941176470588, \"Equalized_Odds_TNR\": 0.016867982350499355}, {\"system_name\": \"virny_flow\", \"dataset_name\": \"heart\", \"num_workers\": 2, \"run_num\": 13, \"optimization_time\": 4306.88667678833, \"F1\": 0.7255487531730626, \"Equalized_Odds_TNR\": 0.008856505253874825}, {\"system_name\": \"virny_flow\", \"dataset_name\": \"heart\", \"num_workers\": 16, \"run_num\": 2, \"optimization_time\": 11259.365856647491, \"F1\": 0.7230949933930406, \"Equalized_Odds_TNR\": 0.014215739142939277}, {\"system_name\": \"virny_flow\", \"dataset_name\": \"heart\", \"num_workers\": 16, \"run_num\": 12, \"optimization_time\": 1401.192190170288, \"F1\": 0.726605504587156, \"Equalized_Odds_TNR\": 0.012600916430285825}, {\"system_name\": \"virny_flow\", \"dataset_name\": \"heart\", \"num_workers\": 32, \"run_num\": 29, \"optimization_time\": 878.8747208118439, \"F1\": 0.7357520673470909, \"Equalized_Odds_TNR\": 1.544401544406604e-05}, {\"system_name\": \"virny_flow\", \"dataset_name\": \"heart\", \"num_workers\": 128, \"run_num\": 8, \"optimization_time\": 146.8178539276123, \"F1\": 0.7193740685543965, \"Equalized_Odds_TNR\": 8.587002806648147e-05}, {\"system_name\": \"virny_flow\", \"dataset_name\": \"heart\", \"num_workers\": 128, \"run_num\": 11, \"optimization_time\": 139.7276725769043, \"F1\": 0.7189141856392294, \"Equalized_Odds_TNR\": 0.0044081994901356}, {\"system_name\": \"virny_flow\", \"dataset_name\": \"heart\", \"num_workers\": 2, \"run_num\": 23, \"optimization_time\": 7556.16384100914, \"F1\": 0.7281762219090707, \"Equalized_Odds_TNR\": 0.007552008008212319}, {\"system_name\": \"virny_flow\", \"dataset_name\": \"heart\", \"num_workers\": 4, \"run_num\": 12, \"optimization_time\": 3902.3696336746216, \"F1\": 0.7247616903099903, \"Equalized_Odds_TNR\": 0.012938407443044975}, {\"system_name\": \"virny_flow\", \"dataset_name\": \"heart\", \"num_workers\": 16, \"run_num\": 8, \"optimization_time\": 2620.8176579475403, \"F1\": 0.72053671263511, \"Equalized_Odds_TNR\": 0.0006434370596219985}, {\"system_name\": \"virny_flow\", \"dataset_name\": \"heart\", \"num_workers\": 16, \"run_num\": 22, \"optimization_time\": 2006.5813019275665, \"F1\": 0.7277061759666245, \"Equalized_Odds_TNR\": -3.063118254376107e-06}, {\"system_name\": \"virny_flow\", \"dataset_name\": \"heart\", \"num_workers\": 32, \"run_num\": 15, \"optimization_time\": 545.212593793869, \"F1\": 0.7295914584414621, \"Equalized_Odds_TNR\": 0.008000025907518804}, {\"system_name\": \"virny_flow\", \"dataset_name\": \"heart\", \"num_workers\": 32, \"run_num\": 22, \"optimization_time\": 2711.7718238830566, \"F1\": 0.7277061759666245, \"Equalized_Odds_TNR\": -3.063118254376107e-06}, {\"system_name\": \"virny_flow\", \"dataset_name\": \"heart\", \"num_workers\": 32, \"run_num\": 24, \"optimization_time\": 644.0496153831482, \"F1\": 0.7313911247239832, \"Equalized_Odds_TNR\": 0.0014347221010936329}, {\"system_name\": \"virny_flow\", \"dataset_name\": \"heart\", \"num_workers\": 32, \"run_num\": 21, \"optimization_time\": 2361.600043773651, \"F1\": 0.7269225070380797, \"Equalized_Odds_TNR\": 0.008239372829274672}, {\"system_name\": \"virny_flow\", \"dataset_name\": \"heart\", \"num_workers\": 128, \"run_num\": 1, \"optimization_time\": 227.1408290863037, \"F1\": 0.7222264009025949, \"Equalized_Odds_TNR\": 0.024174260851569374}, {\"system_name\": \"virny_flow\", \"dataset_name\": \"heart\", \"num_workers\": 32, \"run_num\": 1, \"optimization_time\": 5410.069730520248, \"F1\": 0.7245322245322245, \"Equalized_Odds_TNR\": 0.02840191488275967}, {\"system_name\": \"virny_flow\", \"dataset_name\": \"heart\", \"num_workers\": 32, \"run_num\": 3, \"optimization_time\": 743.6785924434662, \"F1\": 0.7218056388722256, \"Equalized_Odds_TNR\": 0.015392160866833482}, {\"system_name\": \"virny_flow\", \"dataset_name\": \"heart\", \"num_workers\": 32, \"run_num\": 5, \"optimization_time\": 3787.1559357643127, \"F1\": 0.7151005703992795, \"Equalized_Odds_TNR\": -0.0026737689495945904}, {\"system_name\": \"virny_flow\", \"dataset_name\": \"heart\", \"num_workers\": 32, \"run_num\": 25, \"optimization_time\": 703.6378221511841, \"F1\": 0.7235585818962327, \"Equalized_Odds_TNR\": 0.0021474334888881286}, {\"system_name\": \"virny_flow\", \"dataset_name\": \"heart\", \"num_workers\": 16, \"run_num\": 4, \"optimization_time\": 739.4439566135406, \"F1\": 0.7204619484749778, \"Equalized_Odds_TNR\": 0.002115391607743655}, {\"system_name\": \"virny_flow\", \"dataset_name\": \"heart\", \"num_workers\": 16, \"run_num\": 9, \"optimization_time\": 9206.299271583557, \"F1\": 0.7242859257066746, \"Equalized_Odds_TNR\": 0.019323541965150515}, {\"system_name\": \"virny_flow\", \"dataset_name\": \"heart\", \"num_workers\": 16, \"run_num\": 24, \"optimization_time\": 11288.725455284119, \"F1\": 0.7315958586219208, \"Equalized_Odds_TNR\": 0.0026730294607204552}, {\"system_name\": \"virny_flow\", \"dataset_name\": \"heart\", \"num_workers\": 64, \"run_num\": 3, \"optimization_time\": 315.60211992263794, \"F1\": 0.7183899446356427, \"Equalized_Odds_TNR\": 0.009445466673393521}, {\"system_name\": \"virny_flow\", \"dataset_name\": \"heart\", \"num_workers\": 64, \"run_num\": 8, \"optimization_time\": 552.0983617305756, \"F1\": 0.7199403652627656, \"Equalized_Odds_TNR\": -0.00024584706665631284}, {\"system_name\": \"virny_flow\", \"dataset_name\": \"heart\", \"num_workers\": 2, \"run_num\": 24, \"optimization_time\": 4263.546166181564, \"F1\": 0.7315958586219208, \"Equalized_Odds_TNR\": 0.0026730294607204552}, {\"system_name\": \"virny_flow\", \"dataset_name\": \"heart\", \"num_workers\": 2, \"run_num\": 27, \"optimization_time\": 16631.491505622864, \"F1\": 0.7229325253122459, \"Equalized_Odds_TNR\": 0.024518222542996515}, {\"system_name\": \"virny_flow\", \"dataset_name\": \"heart\", \"num_workers\": 4, \"run_num\": 14, \"optimization_time\": 1761.7850942611694, \"F1\": 0.7196833930704899, \"Equalized_Odds_TNR\": 0.0024676282989748444}, {\"system_name\": \"virny_flow\", \"dataset_name\": \"heart\", \"num_workers\": 4, \"run_num\": 22, \"optimization_time\": 13323.756148338318, \"F1\": 0.7277061759666245, \"Equalized_Odds_TNR\": -3.063118254376107e-06}, {\"system_name\": \"virny_flow\", \"dataset_name\": \"heart\", \"num_workers\": 8, \"run_num\": 3, \"optimization_time\": 6050.416503667831, \"F1\": 0.7216602981943507, \"Equalized_Odds_TNR\": 0.014917009038473372}, {\"system_name\": \"virny_flow\", \"dataset_name\": \"heart\", \"num_workers\": 8, \"run_num\": 10, \"optimization_time\": 4027.120198249817, \"F1\": 0.7297674077335095, \"Equalized_Odds_TNR\": 0.0006784428066903825}, {\"system_name\": \"virny_flow\", \"dataset_name\": \"heart\", \"num_workers\": 32, \"run_num\": 23, \"optimization_time\": 2596.2834260463715, \"F1\": 0.7284807764091079, \"Equalized_Odds_TNR\": 0.009618043149065003}, {\"system_name\": \"virny_flow\", \"dataset_name\": \"heart\", \"num_workers\": 32, \"run_num\": 28, \"optimization_time\": 693.5880441665649, \"F1\": 0.7229941730165845, \"Equalized_Odds_TNR\": -0.00010363798901091847}, {\"system_name\": \"virny_flow\", \"dataset_name\": \"heart\", \"num_workers\": 64, \"run_num\": 11, \"optimization_time\": 339.2920660972595, \"F1\": 0.7189141856392294, \"Equalized_Odds_TNR\": 0.0044081994901356}, {\"system_name\": \"virny_flow\", \"dataset_name\": \"heart\", \"num_workers\": 128, \"run_num\": 5, \"optimization_time\": 167.18950366973877, \"F1\": 0.7251025736665423, \"Equalized_Odds_TNR\": 0.010045170232170664}, {\"system_name\": \"virny_flow\", \"dataset_name\": \"heart\", \"num_workers\": 64, \"run_num\": 5, \"optimization_time\": 386.41573452949524, \"F1\": 0.726242826265186, \"Equalized_Odds_TNR\": 0.007530646099489391}, {\"system_name\": \"virny_flow\", \"dataset_name\": \"heart\", \"num_workers\": 4, \"run_num\": 8, \"optimization_time\": 1781.8124856948853, \"F1\": 0.7198269431597792, \"Equalized_Odds_TNR\": 0.0014950795297616892}, {\"system_name\": \"virny_flow\", \"dataset_name\": \"heart\", \"num_workers\": 4, \"run_num\": 25, \"optimization_time\": 7801.927932500839, \"F1\": 0.7282188522152839, \"Equalized_Odds_TNR\": 0.0029537322915389463}, {\"system_name\": \"virny_flow\", \"dataset_name\": \"heart\", \"num_workers\": 32, \"run_num\": 27, \"optimization_time\": 1245.5308630466461, \"F1\": 0.7220860262981947, \"Equalized_Odds_TNR\": 0.021131613615711364}, {\"system_name\": \"virny_flow\", \"dataset_name\": \"heart\", \"num_workers\": 32, \"run_num\": 30, \"optimization_time\": 411.57442474365234, \"F1\": 0.7268532301280143, \"Equalized_Odds_TNR\": -0.00015490874878720806}, {\"system_name\": \"virny_flow\", \"dataset_name\": \"heart\", \"num_workers\": 64, \"run_num\": 1, \"optimization_time\": 742.7617564201355, \"F1\": 0.7237614201886652, \"Equalized_Odds_TNR\": 0.025468780564556592}, {\"system_name\": \"virny_flow\", \"dataset_name\": \"heart\", \"num_workers\": 64, \"run_num\": 2, \"optimization_time\": 1800.2845571041107, \"F1\": 0.7228986790642757, \"Equalized_Odds_TNR\": 0.012497483462755254}, {\"system_name\": \"virny_flow\", \"dataset_name\": \"heart\", \"num_workers\": 8, \"run_num\": 7, \"optimization_time\": 13112.786299943924, \"F1\": 0.726750184229919, \"Equalized_Odds_TNR\": 0.01373600644230688}, {\"system_name\": \"virny_flow\", \"dataset_name\": \"heart\", \"num_workers\": 32, \"run_num\": 4, \"optimization_time\": 2002.9090840816498, \"F1\": 0.7175572519083969, \"Equalized_Odds_TNR\": -0.00019055306131343652}, {\"system_name\": \"virny_flow\", \"dataset_name\": \"heart\", \"num_workers\": 128, \"run_num\": 12, \"optimization_time\": 152.7480821609497, \"F1\": 0.714696533979113, \"Equalized_Odds_TNR\": 0.0004042916981145117}, {\"system_name\": \"virny_flow\", \"dataset_name\": \"heart\", \"num_workers\": 64, \"run_num\": 4, \"optimization_time\": 390.84602093696594, \"F1\": 0.7196143863552095, \"Equalized_Odds_TNR\": 0.0028260859562123652}, {\"system_name\": \"virny_flow\", \"dataset_name\": \"heart\", \"num_workers\": 16, \"run_num\": 10, \"optimization_time\": 1553.387927055359, \"F1\": 0.7293668843078277, \"Equalized_Odds_TNR\": -0.000824446023119374}, {\"system_name\": \"virny_flow\", \"dataset_name\": \"heart\", \"num_workers\": 128, \"run_num\": 7, \"optimization_time\": 127.4673399925232, \"F1\": 0.7260101942823373, \"Equalized_Odds_TNR\": 0.01221366068467955}, {\"system_name\": \"alpine_meadow\", \"dataset_name\": \"heart\", \"num_workers\": 2, \"run_num\": 2, \"optimization_time\": 18000.612155914307, \"F1\": 0.7236471460340993, \"Equalized_Odds_TNR\": 0.015817335346563044}, {\"system_name\": \"alpine_meadow\", \"dataset_name\": \"heart\", \"num_workers\": 2, \"run_num\": 3, \"optimization_time\": 6159.97456407547, \"F1\": 0.722508398656215, \"Equalized_Odds_TNR\": 0.015158233122122056}, {\"system_name\": \"alpine_meadow\", \"dataset_name\": \"heart\", \"num_workers\": 2, \"run_num\": 5, \"optimization_time\": 2235.7059371471405, \"F1\": 0.726242826265186, \"Equalized_Odds_TNR\": -1.2926298554427618e-05}, {\"system_name\": \"alpine_meadow\", \"dataset_name\": \"heart\", \"num_workers\": 2, \"run_num\": 6, \"optimization_time\": 24694.260071754456, \"F1\": 0.7230827351718927, \"Equalized_Odds_TNR\": 0.005429451760035842}, {\"system_name\": \"alpine_meadow\", \"dataset_name\": \"heart\", \"num_workers\": 2, \"run_num\": 7, \"optimization_time\": 30834.899272203445, \"F1\": 0.7246612867402088, \"Equalized_Odds_TNR\": 0.007477845529998639}, {\"system_name\": \"alpine_meadow\", \"dataset_name\": \"heart\", \"num_workers\": 2, \"run_num\": 8, \"optimization_time\": 2478.1099140644073, \"F1\": 0.7189152946435223, \"Equalized_Odds_TNR\": 0.00400883637877858}, {\"system_name\": \"alpine_meadow\", \"dataset_name\": \"heart\", \"num_workers\": 2, \"run_num\": 9, \"optimization_time\": 2064.3486847877502, \"F1\": 0.7258721576179542, \"Equalized_Odds_TNR\": 0.0067583940916488006}, {\"system_name\": \"alpine_meadow\", \"dataset_name\": \"heart\", \"num_workers\": 2, \"run_num\": 10, \"optimization_time\": 2052.3002972602844, \"F1\": 0.7309337660421891, \"Equalized_Odds_TNR\": 0.0007296528900646582}, {\"system_name\": \"alpine_meadow\", \"dataset_name\": \"heart\", \"num_workers\": 2, \"run_num\": 11, \"optimization_time\": 12993.773899793625, \"F1\": 0.7269219352923716, \"Equalized_Odds_TNR\": 0.004680791331398315}, {\"system_name\": \"alpine_meadow\", \"dataset_name\": \"heart\", \"num_workers\": 2, \"run_num\": 15, \"optimization_time\": 6475.948210716248, \"F1\": 0.7325700865991487, \"Equalized_Odds_TNR\": 0.008306598213244754}, {\"system_name\": \"alpine_meadow\", \"dataset_name\": \"heart\", \"num_workers\": 4, \"run_num\": 2, \"optimization_time\": 7791.180566310883, \"F1\": 0.723103268557814, \"Equalized_Odds_TNR\": 0.0163216314351452}, {\"system_name\": \"alpine_meadow\", \"dataset_name\": \"heart\", \"num_workers\": 4, \"run_num\": 3, \"optimization_time\": 13737.036526918411, \"F1\": 0.7212035027318314, \"Equalized_Odds_TNR\": 0.0029063453501365633}, {\"system_name\": \"alpine_meadow\", \"dataset_name\": \"heart\", \"num_workers\": 4, \"run_num\": 6, \"optimization_time\": 1137.482209444046, \"F1\": 0.7256928838951311, \"Equalized_Odds_TNR\": 0.00736619640263847}, {\"system_name\": \"alpine_meadow\", \"dataset_name\": \"heart\", \"num_workers\": 4, \"run_num\": 12, \"optimization_time\": 5429.201986074448, \"F1\": 0.7273407679065939, \"Equalized_Odds_TNR\": 0.0208315299234878}, {\"system_name\": \"alpine_meadow\", \"dataset_name\": \"heart\", \"num_workers\": 4, \"run_num\": 14, \"optimization_time\": 931.2385611534119, \"F1\": 0.7181467181467182, \"Equalized_Odds_TNR\": 0.00395817982717217}, {\"system_name\": \"alpine_meadow\", \"dataset_name\": \"heart\", \"num_workers\": 4, \"run_num\": 15, \"optimization_time\": 2111.4016902446747, \"F1\": 0.728189163145801, \"Equalized_Odds_TNR\": 0.014211713364969292}, {\"system_name\": \"alpine_meadow\", \"dataset_name\": \"heart\", \"num_workers\": 4, \"run_num\": 16, \"optimization_time\": 2974.8282582759857, \"F1\": 0.7237243947858473, \"Equalized_Odds_TNR\": -0.008915643180348987}, {\"system_name\": \"alpine_meadow\", \"dataset_name\": \"heart\", \"num_workers\": 4, \"run_num\": 21, \"optimization_time\": 2295.6357097625732, \"F1\": 0.7242224036819835, \"Equalized_Odds_TNR\": 0.003629731627209254}, {\"system_name\": \"alpine_meadow\", \"dataset_name\": \"heart\", \"num_workers\": 4, \"run_num\": 22, \"optimization_time\": 1600.7223014831543, \"F1\": 0.725717685557043, \"Equalized_Odds_TNR\": -0.010512711940755759}, {\"system_name\": \"alpine_meadow\", \"dataset_name\": \"heart\", \"num_workers\": 4, \"run_num\": 23, \"optimization_time\": 1606.8821001052856, \"F1\": 0.7297277246086505, \"Equalized_Odds_TNR\": 0.013513149462054508}, {\"system_name\": \"alpine_meadow\", \"dataset_name\": \"heart\", \"num_workers\": 4, \"run_num\": 27, \"optimization_time\": 400.77883434295654, \"F1\": 0.7221026059841117, \"Equalized_Odds_TNR\": 0.014347888469080305}, {\"system_name\": \"alpine_meadow\", \"dataset_name\": \"heart\", \"num_workers\": 8, \"run_num\": 1, \"optimization_time\": 1950.5919163227081, \"F1\": 0.7234393757503002, \"Equalized_Odds_TNR\": 0.018215766987869086}, {\"system_name\": \"alpine_meadow\", \"dataset_name\": \"heart\", \"num_workers\": 8, \"run_num\": 2, \"optimization_time\": 1560.2191936969757, \"F1\": 0.719525026303923, \"Equalized_Odds_TNR\": 0.006520348001150422}, {\"system_name\": \"alpine_meadow\", \"dataset_name\": \"heart\", \"num_workers\": 8, \"run_num\": 6, \"optimization_time\": 2119.203453540802, \"F1\": 0.7263629574309186, \"Equalized_Odds_TNR\": 0.0009609060042862216}, {\"system_name\": \"alpine_meadow\", \"dataset_name\": \"heart\", \"num_workers\": 8, \"run_num\": 7, \"optimization_time\": 1999.8322043418884, \"F1\": 0.7228969194312796, \"Equalized_Odds_TNR\": 0.022305258167782727}, {\"system_name\": \"alpine_meadow\", \"dataset_name\": \"heart\", \"num_workers\": 8, \"run_num\": 8, \"optimization_time\": 1368.315999507904, \"F1\": 0.7181013317461499, \"Equalized_Odds_TNR\": 0.02099698631490543}, {\"system_name\": \"alpine_meadow\", \"dataset_name\": \"heart\", \"num_workers\": 8, \"run_num\": 9, \"optimization_time\": 9050.22598862648, \"F1\": 0.723293768545994, \"Equalized_Odds_TNR\": 0.014224272675559702}, {\"system_name\": \"alpine_meadow\", \"dataset_name\": \"heart\", \"num_workers\": 8, \"run_num\": 10, \"optimization_time\": 1539.6113789081573, \"F1\": 0.7301376923643326, \"Equalized_Odds_TNR\": 0.009104862270299163}, {\"system_name\": \"alpine_meadow\", \"dataset_name\": \"heart\", \"num_workers\": 8, \"run_num\": 11, \"optimization_time\": 939.3066966533661, \"F1\": 0.7286168403932874, \"Equalized_Odds_TNR\": 0.015142340939038212}, {\"system_name\": \"alpine_meadow\", \"dataset_name\": \"heart\", \"num_workers\": 8, \"run_num\": 12, \"optimization_time\": 3062.899641752243, \"F1\": 0.7290332191270669, \"Equalized_Odds_TNR\": 0.012401498052317383}, {\"system_name\": \"alpine_meadow\", \"dataset_name\": \"heart\", \"num_workers\": 8, \"run_num\": 13, \"optimization_time\": 2441.4291355609894, \"F1\": 0.7236015554890817, \"Equalized_Odds_TNR\": 0.005202183625771073}, {\"system_name\": \"alpine_meadow\", \"dataset_name\": \"heart\", \"num_workers\": 8, \"run_num\": 14, \"optimization_time\": 1383.9996948242188, \"F1\": 0.7128993729471484, \"Equalized_Odds_TNR\": 0.017027609479611017}, {\"system_name\": \"alpine_meadow\", \"dataset_name\": \"heart\", \"num_workers\": 16, \"run_num\": 1, \"optimization_time\": 1829.86203622818, \"F1\": 0.7206787805976873, \"Equalized_Odds_TNR\": 0.01809280001814384}, {\"system_name\": \"alpine_meadow\", \"dataset_name\": \"heart\", \"num_workers\": 16, \"run_num\": 2, \"optimization_time\": 1173.0430080890656, \"F1\": 0.7249463797056431, \"Equalized_Odds_TNR\": 0.01719154443485771}, {\"system_name\": \"alpine_meadow\", \"dataset_name\": \"heart\", \"num_workers\": 16, \"run_num\": 6, \"optimization_time\": 2361.522015094757, \"F1\": 0.7247891318952004, \"Equalized_Odds_TNR\": 0.009154604216832007}, {\"system_name\": \"alpine_meadow\", \"dataset_name\": \"heart\", \"num_workers\": 16, \"run_num\": 7, \"optimization_time\": 2382.405012369156, \"F1\": 0.724833209785026, \"Equalized_Odds_TNR\": 0.008858985582554046}, {\"system_name\": \"alpine_meadow\", \"dataset_name\": \"heart\", \"num_workers\": 16, \"run_num\": 8, \"optimization_time\": 3777.633237838745, \"F1\": 0.7182435964453737, \"Equalized_Odds_TNR\": -0.006279098764647828}, {\"system_name\": \"alpine_meadow\", \"dataset_name\": \"heart\", \"num_workers\": 16, \"run_num\": 11, \"optimization_time\": 996.7355086803436, \"F1\": 0.7264137014616862, \"Equalized_Odds_TNR\": 0.01482202288503598}, {\"system_name\": \"alpine_meadow\", \"dataset_name\": \"heart\", \"num_workers\": 16, \"run_num\": 13, \"optimization_time\": 1366.6319873332977, \"F1\": 0.7235377605139314, \"Equalized_Odds_TNR\": 0.00110867271458992}, {\"system_name\": \"alpine_meadow\", \"dataset_name\": \"heart\", \"num_workers\": 16, \"run_num\": 16, \"optimization_time\": 1811.8784472942352, \"F1\": 0.7245254931149981, \"Equalized_Odds_TNR\": -0.01039538892480063}, {\"system_name\": \"alpine_meadow\", \"dataset_name\": \"heart\", \"num_workers\": 16, \"run_num\": 17, \"optimization_time\": 1875.9939694404602, \"F1\": 0.7256440627776133, \"Equalized_Odds_TNR\": -0.010947423803976064}, {\"system_name\": \"alpine_meadow\", \"dataset_name\": \"heart\", \"num_workers\": 16, \"run_num\": 18, \"optimization_time\": 450.8682041168213, \"F1\": 0.7185485080221923, \"Equalized_Odds_TNR\": 0.0080669802834481}, {\"system_name\": \"alpine_meadow\", \"dataset_name\": \"heart\", \"num_workers\": 16, \"run_num\": 19, \"optimization_time\": 1706.5276420116425, \"F1\": 0.7215972584370111, \"Equalized_Odds_TNR\": -0.01693551172516128}, {\"system_name\": \"alpine_meadow\", \"dataset_name\": \"heart\", \"num_workers\": 16, \"run_num\": 20, \"optimization_time\": 1852.3645570278168, \"F1\": 0.7266900201237236, \"Equalized_Odds_TNR\": -0.012165665344124554}, {\"system_name\": \"alpine_meadow\", \"dataset_name\": \"heart\", \"num_workers\": 32, \"run_num\": 1, \"optimization_time\": 624.2650544643402, \"F1\": 0.7234393757503002, \"Equalized_Odds_TNR\": 0.018215766987869086}, {\"system_name\": \"alpine_meadow\", \"dataset_name\": \"heart\", \"num_workers\": 32, \"run_num\": 2, \"optimization_time\": 2353.9567012786865, \"F1\": 0.7236218138707765, \"Equalized_Odds_TNR\": 0.014313254961173416}, {\"system_name\": \"alpine_meadow\", \"dataset_name\": \"heart\", \"num_workers\": 32, \"run_num\": 3, \"optimization_time\": 2560.1696577072144, \"F1\": 0.7245513441060392, \"Equalized_Odds_TNR\": 0.005268134672264946}, {\"system_name\": \"alpine_meadow\", \"dataset_name\": \"heart\", \"num_workers\": 32, \"run_num\": 4, \"optimization_time\": 481.02128553390503, \"F1\": 0.7175856929955291, \"Equalized_Odds_TNR\": -0.008070445445750196}, {\"system_name\": \"alpine_meadow\", \"dataset_name\": \"heart\", \"num_workers\": 32, \"run_num\": 5, \"optimization_time\": 1376.2399005889893, \"F1\": 0.7265281810736356, \"Equalized_Odds_TNR\": 0.0003378790816582766}, {\"system_name\": \"alpine_meadow\", \"dataset_name\": \"heart\", \"num_workers\": 32, \"run_num\": 7, \"optimization_time\": 1950.6966474056244, \"F1\": 0.7237573153566931, \"Equalized_Odds_TNR\": 0.009149804246585291}, {\"system_name\": \"alpine_meadow\", \"dataset_name\": \"heart\", \"num_workers\": 32, \"run_num\": 8, \"optimization_time\": 603.7521452903748, \"F1\": 0.7179678744863653, \"Equalized_Odds_TNR\": -0.0001705637543787386}, {\"system_name\": \"alpine_meadow\", \"dataset_name\": \"heart\", \"num_workers\": 32, \"run_num\": 9, \"optimization_time\": 2018.8186066150665, \"F1\": 0.7230381249072838, \"Equalized_Odds_TNR\": 0.020624303130978072}, {\"system_name\": \"alpine_meadow\", \"dataset_name\": \"heart\", \"num_workers\": 32, \"run_num\": 12, \"optimization_time\": 534.5098447799683, \"F1\": 0.7279756151958963, \"Equalized_Odds_TNR\": 0.019943626302479256}, {\"system_name\": \"alpine_meadow\", \"dataset_name\": \"heart\", \"num_workers\": 32, \"run_num\": 15, \"optimization_time\": 1361.028962135315, \"F1\": 0.728189163145801, \"Equalized_Odds_TNR\": 0.014211713364969292}, {\"system_name\": \"autosklearn\", \"dataset_name\": \"heart\", \"num_workers\": 2, \"run_num\": 1, \"optimization_time\": 5647.041894435883, \"F1\": 0.7212669683257918, \"Equalized_Odds_TNR\": 0.017680754358062822}, {\"system_name\": \"autosklearn\", \"dataset_name\": \"heart\", \"num_workers\": 2, \"run_num\": 2, \"optimization_time\": 5280.034581422806, \"F1\": 0.7251001929642275, \"Equalized_Odds_TNR\": 0.013891285591026703}, {\"system_name\": \"autosklearn\", \"dataset_name\": \"heart\", \"num_workers\": 4, \"run_num\": 1, \"optimization_time\": 13900.910217523575, \"F1\": 0.7205316016008457, \"Equalized_Odds_TNR\": 0.01774223784292539}, {\"system_name\": \"autosklearn\", \"dataset_name\": \"heart\", \"num_workers\": 4, \"run_num\": 4, \"optimization_time\": 4610.716601371765, \"F1\": 0.7191562058976454, \"Equalized_Odds_TNR\": -0.0017025266415645612}, {\"system_name\": \"autosklearn\", \"dataset_name\": \"heart\", \"num_workers\": 4, \"run_num\": 5, \"optimization_time\": 5659.654049873352, \"F1\": 0.7255281166319548, \"Equalized_Odds_TNR\": 0.005220608828661932}, {\"system_name\": \"autosklearn\", \"dataset_name\": \"heart\", \"num_workers\": 4, \"run_num\": 8, \"optimization_time\": 11147.693958759308, \"F1\": 0.7190511489992587, \"Equalized_Odds_TNR\": -0.005957968385714052}, {\"system_name\": \"autosklearn\", \"dataset_name\": \"heart\", \"num_workers\": 4, \"run_num\": 9, \"optimization_time\": 9433.047634124756, \"F1\": 0.723020779027333, \"Equalized_Odds_TNR\": 0.012141993263202866}, {\"system_name\": \"autosklearn\", \"dataset_name\": \"heart\", \"num_workers\": 4, \"run_num\": 10, \"optimization_time\": 4618.900497436523, \"F1\": 0.7298054245283019, \"Equalized_Odds_TNR\": -0.001034734237826962}, {\"system_name\": \"autosklearn\", \"dataset_name\": \"heart\", \"num_workers\": 8, \"run_num\": 1, \"optimization_time\": 5598.892421245575, \"F1\": 0.7200484371452357, \"Equalized_Odds_TNR\": 0.018114239504219865}, {\"system_name\": \"autosklearn\", \"dataset_name\": \"heart\", \"num_workers\": 8, \"run_num\": 4, \"optimization_time\": 6981.551402568817, \"F1\": 0.7193476649369903, \"Equalized_Odds_TNR\": 0.0004686233903702375}, {\"system_name\": \"autosklearn\", \"dataset_name\": \"heart\", \"num_workers\": 8, \"run_num\": 5, \"optimization_time\": 9259.444535255432, \"F1\": 0.725491651205937, \"Equalized_Odds_TNR\": 0.0077495852812546895}, {\"system_name\": \"autosklearn\", \"dataset_name\": \"heart\", \"num_workers\": 8, \"run_num\": 8, \"optimization_time\": 10261.43126130104, \"F1\": 0.7169359664871334, \"Equalized_Odds_TNR\": 0.0013480418104695469}, {\"system_name\": \"autosklearn\", \"dataset_name\": \"heart\", \"num_workers\": 8, \"run_num\": 9, \"optimization_time\": 7031.632682085037, \"F1\": 0.7229524021682632, \"Equalized_Odds_TNR\": 0.011672167188532923}, {\"system_name\": \"autosklearn\", \"dataset_name\": \"heart\", \"num_workers\": 8, \"run_num\": 10, \"optimization_time\": 5022.684451818466, \"F1\": 0.7323466607760842, \"Equalized_Odds_TNR\": -0.0016256477530758318}, {\"system_name\": \"autosklearn\", \"dataset_name\": \"heart\", \"num_workers\": 16, \"run_num\": 3, \"optimization_time\": 4415.117898225784, \"F1\": 0.721259842519685, \"Equalized_Odds_TNR\": 0.010349589843424933}, {\"system_name\": \"autosklearn\", \"dataset_name\": \"heart\", \"num_workers\": 16, \"run_num\": 4, \"optimization_time\": 7004.030730247498, \"F1\": 0.7172207695181173, \"Equalized_Odds_TNR\": 9.771257831558966e-05}, {\"system_name\": \"autosklearn\", \"dataset_name\": \"heart\", \"num_workers\": 16, \"run_num\": 7, \"optimization_time\": 7142.7427299022675, \"F1\": 0.7255090707145502, \"Equalized_Odds_TNR\": 0.009019356210465568}, {\"system_name\": \"autosklearn\", \"dataset_name\": \"heart\", \"num_workers\": 16, \"run_num\": 8, \"optimization_time\": 5449.1564474105835, \"F1\": 0.7184422891833864, \"Equalized_Odds_TNR\": -0.008663462420687829}, {\"system_name\": \"autosklearn\", \"dataset_name\": \"heart\", \"num_workers\": 32, \"run_num\": 1, \"optimization_time\": 7980.868844985962, \"F1\": 0.7201208003020008, \"Equalized_Odds_TNR\": 0.0206138886762659}, {\"system_name\": \"autosklearn\", \"dataset_name\": \"heart\", \"num_workers\": 32, \"run_num\": 2, \"optimization_time\": 9091.674411535263, \"F1\": 0.7265584463716552, \"Equalized_Odds_TNR\": 0.01052388912855906}, {\"system_name\": \"autosklearn\", \"dataset_name\": \"heart\", \"num_workers\": 32, \"run_num\": 3, \"optimization_time\": 10285.907322883606, \"F1\": 0.720421210981572, \"Equalized_Odds_TNR\": 0.008399153873826504}, {\"system_name\": \"autosklearn\", \"dataset_name\": \"heart\", \"num_workers\": 32, \"run_num\": 4, \"optimization_time\": 11324.933742523193, \"F1\": 0.719875500222321, \"Equalized_Odds_TNR\": -0.0024664531425782066}, {\"system_name\": \"autosklearn\", \"dataset_name\": \"heart\", \"num_workers\": 32, \"run_num\": 5, \"optimization_time\": 9228.285507202148, \"F1\": 0.725703229647269, \"Equalized_Odds_TNR\": 0.005059837990391447}, {\"system_name\": \"autosklearn\", \"dataset_name\": \"heart\", \"num_workers\": 32, \"run_num\": 6, \"optimization_time\": 9899.94599723816, \"F1\": 0.7263354501307434, \"Equalized_Odds_TNR\": -0.0015653178600060214}, {\"system_name\": \"autosklearn\", \"dataset_name\": \"heart\", \"num_workers\": 32, \"run_num\": 7, \"optimization_time\": 10176.888583183289, \"F1\": 0.7233438014057125, \"Equalized_Odds_TNR\": 0.011599750349759796}, {\"system_name\": \"autosklearn\", \"dataset_name\": \"heart\", \"num_workers\": 32, \"run_num\": 8, \"optimization_time\": 7681.737118721008, \"F1\": 0.719892952720785, \"Equalized_Odds_TNR\": 0.00197030543851362}, {\"system_name\": \"autosklearn\", \"dataset_name\": \"heart\", \"num_workers\": 32, \"run_num\": 9, \"optimization_time\": 10566.51888680458, \"F1\": 0.7225239973212293, \"Equalized_Odds_TNR\": 0.016180356108763894}, {\"system_name\": \"autosklearn\", \"dataset_name\": \"heart\", \"num_workers\": 32, \"run_num\": 10, \"optimization_time\": 9261.874760866165, \"F1\": 0.7296378418329638, \"Equalized_Odds_TNR\": -0.005581535895726075}]}}, {\"mode\": \"vega-lite\"});\n",
       "</script>"
      ],
      "text/plain": [
       "alt.Chart(...)"
      ]
     },
     "execution_count": 13,
     "metadata": {},
     "output_type": "execute_result"
    }
   ],
   "execution_count": 13
  },
  {
   "metadata": {
    "ExecuteTime": {
     "end_time": "2025-04-28T16:11:00.986237Z",
     "start_time": "2025-04-28T16:11:00.926257Z"
    }
   },
   "cell_type": "code",
   "source": "create_performance_plot_v2(final_metrics_df, metric_name=\"Equalized_Odds_TNR\")",
   "id": "1c5d1a8000e4f091",
   "outputs": [
    {
     "data": {
      "text/html": [
       "\n",
       "<div id=\"altair-viz-15044b174a6741ff9e190ec93163e12b\"></div>\n",
       "<script type=\"text/javascript\">\n",
       "  var VEGA_DEBUG = (typeof VEGA_DEBUG == \"undefined\") ? {} : VEGA_DEBUG;\n",
       "  (function(spec, embedOpt){\n",
       "    let outputDiv = document.currentScript.previousElementSibling;\n",
       "    if (outputDiv.id !== \"altair-viz-15044b174a6741ff9e190ec93163e12b\") {\n",
       "      outputDiv = document.getElementById(\"altair-viz-15044b174a6741ff9e190ec93163e12b\");\n",
       "    }\n",
       "    const paths = {\n",
       "      \"vega\": \"https://cdn.jsdelivr.net/npm//vega@5?noext\",\n",
       "      \"vega-lib\": \"https://cdn.jsdelivr.net/npm//vega-lib?noext\",\n",
       "      \"vega-lite\": \"https://cdn.jsdelivr.net/npm//vega-lite@4.17.0?noext\",\n",
       "      \"vega-embed\": \"https://cdn.jsdelivr.net/npm//vega-embed@6?noext\",\n",
       "    };\n",
       "\n",
       "    function maybeLoadScript(lib, version) {\n",
       "      var key = `${lib.replace(\"-\", \"\")}_version`;\n",
       "      return (VEGA_DEBUG[key] == version) ?\n",
       "        Promise.resolve(paths[lib]) :\n",
       "        new Promise(function(resolve, reject) {\n",
       "          var s = document.createElement('script');\n",
       "          document.getElementsByTagName(\"head\")[0].appendChild(s);\n",
       "          s.async = true;\n",
       "          s.onload = () => {\n",
       "            VEGA_DEBUG[key] = version;\n",
       "            return resolve(paths[lib]);\n",
       "          };\n",
       "          s.onerror = () => reject(`Error loading script: ${paths[lib]}`);\n",
       "          s.src = paths[lib];\n",
       "        });\n",
       "    }\n",
       "\n",
       "    function showError(err) {\n",
       "      outputDiv.innerHTML = `<div class=\"error\" style=\"color:red;\">${err}</div>`;\n",
       "      throw err;\n",
       "    }\n",
       "\n",
       "    function displayChart(vegaEmbed) {\n",
       "      vegaEmbed(outputDiv, spec, embedOpt)\n",
       "        .catch(err => showError(`Javascript Error: ${err.message}<br>This usually means there's a typo in your chart specification. See the javascript console for the full traceback.`));\n",
       "    }\n",
       "\n",
       "    if(typeof define === \"function\" && define.amd) {\n",
       "      requirejs.config({paths});\n",
       "      require([\"vega-embed\"], displayChart, err => showError(`Error loading script: ${err.message}`));\n",
       "    } else {\n",
       "      maybeLoadScript(\"vega\", \"5\")\n",
       "        .then(() => maybeLoadScript(\"vega-lite\", \"4.17.0\"))\n",
       "        .then(() => maybeLoadScript(\"vega-embed\", \"6\"))\n",
       "        .catch(showError)\n",
       "        .then(() => displayChart(vegaEmbed));\n",
       "    }\n",
       "  })({\"config\": {\"view\": {\"continuousWidth\": 400, \"continuousHeight\": 300, \"stroke\": null}, \"axis\": {\"labelFontSize\": 26, \"labelFontWeight\": \"normal\", \"titleFontSize\": 28, \"titleFontWeight\": \"normal\"}, \"facet\": {\"spacing\": 20}, \"header\": {\"labelFontSize\": 24, \"labelFontWeight\": \"normal\", \"labelOrient\": \"bottom\", \"labelPadding\": 5, \"titleFontSize\": 24, \"titleFontWeight\": \"normal\", \"titleOrient\": \"bottom\", \"titlePadding\": 5}, \"legend\": {\"columns\": 3, \"direction\": \"horizontal\", \"labelFontSize\": 24, \"labelLimit\": 400, \"orient\": \"top\", \"symbolOffset\": 10, \"symbolStrokeWidth\": 10, \"titleAnchor\": \"middle\", \"titleFontSize\": 26, \"titleLimit\": 300}, \"title\": {\"fontSize\": 24}}, \"data\": {\"name\": \"data-5e38df17d8ee3955b7d8f6176d2b1a8a\"}, \"facet\": {\"column\": {\"field\": \"num_workers\", \"title\": \"# of Workers\", \"type\": \"ordinal\"}}, \"spec\": {\"layer\": [{\"mark\": {\"type\": \"boxplot\", \"median\": {\"stroke\": \"white\", \"strokeWidth\": 0.7}, \"ticks\": true}, \"encoding\": {\"color\": {\"field\": \"system_name\", \"legend\": {\"title\": null}, \"sort\": [\"virny_flow\", \"alpine_meadow\", \"autosklearn\"], \"type\": \"nominal\"}, \"x\": {\"axis\": {\"labelAngle\": -45, \"labels\": false}, \"field\": \"system_name\", \"sort\": [\"virny_flow\", \"alpine_meadow\", \"autosklearn\"], \"title\": null, \"type\": \"nominal\"}, \"y\": {\"field\": \"Equalized_Odds_TNR\", \"scale\": {\"zero\": false}, \"title\": \"TNRD\", \"type\": \"quantitative\"}}}, {\"mark\": {\"type\": \"rule\", \"color\": \"red\", \"strokeDash\": [4, 4], \"strokeWidth\": 1.5}, \"encoding\": {\"y\": {\"datum\": 0}}}]}, \"$schema\": \"https://vega.github.io/schema/vega-lite/v4.17.0.json\", \"datasets\": {\"data-5e38df17d8ee3955b7d8f6176d2b1a8a\": [{\"system_name\": \"virny_flow\", \"dataset_name\": \"heart\", \"num_workers\": 8, \"run_num\": 16, \"optimization_time\": 9642.671578645706, \"F1\": 0.7236233398000298, \"Equalized_Odds_TNR\": 0.0010544602456367125}, {\"system_name\": \"virny_flow\", \"dataset_name\": \"heart\", \"num_workers\": 32, \"run_num\": 8, \"optimization_time\": 1053.2106947898865, \"F1\": 0.7202500558160304, \"Equalized_Odds_TNR\": 0.000862229185928598}, {\"system_name\": \"virny_flow\", \"dataset_name\": \"heart\", \"num_workers\": 32, \"run_num\": 12, \"optimization_time\": 1483.4162709712982, \"F1\": 0.7295339820030726, \"Equalized_Odds_TNR\": 0.014623537449519386}, {\"system_name\": \"virny_flow\", \"dataset_name\": \"heart\", \"num_workers\": 32, \"run_num\": 13, \"optimization_time\": 629.6818895339966, \"F1\": 0.7269614411195474, \"Equalized_Odds_TNR\": 0.013788375796325858}, {\"system_name\": \"virny_flow\", \"dataset_name\": \"heart\", \"num_workers\": 32, \"run_num\": 26, \"optimization_time\": 278.28211998939514, \"F1\": 0.7304142361367496, \"Equalized_Odds_TNR\": 0.00012626143518612576}, {\"system_name\": \"virny_flow\", \"dataset_name\": \"heart\", \"num_workers\": 128, \"run_num\": 4, \"optimization_time\": 179.60909032821655, \"F1\": 0.7196143863552095, \"Equalized_Odds_TNR\": 0.0028260859562123652}, {\"system_name\": \"virny_flow\", \"dataset_name\": \"heart\", \"num_workers\": 64, \"run_num\": 9, \"optimization_time\": 340.29055643081665, \"F1\": 0.7262627758850541, \"Equalized_Odds_TNR\": 0.024482111468295265}, {\"system_name\": \"virny_flow\", \"dataset_name\": \"heart\", \"num_workers\": 128, \"run_num\": 2, \"optimization_time\": 290.30528497695923, \"F1\": 0.7230949933930406, \"Equalized_Odds_TNR\": 0.014215739142939277}, {\"system_name\": \"virny_flow\", \"dataset_name\": \"heart\", \"num_workers\": 128, \"run_num\": 3, \"optimization_time\": 176.47548508644104, \"F1\": 0.7242431004984007, \"Equalized_Odds_TNR\": 0.01795264195539026}, {\"system_name\": \"virny_flow\", \"dataset_name\": \"heart\", \"num_workers\": 32, \"run_num\": 2, \"optimization_time\": 1906.3902740478516, \"F1\": 0.7237084530916059, \"Equalized_Odds_TNR\": 0.01181577149841817}, {\"system_name\": \"virny_flow\", \"dataset_name\": \"heart\", \"num_workers\": 32, \"run_num\": 11, \"optimization_time\": 3575.730427980423, \"F1\": 0.7206944343132249, \"Equalized_Odds_TNR\": 0.0064050932110142345}, {\"system_name\": \"virny_flow\", \"dataset_name\": \"heart\", \"num_workers\": 64, \"run_num\": 10, \"optimization_time\": 333.01617455482483, \"F1\": 0.7294342114918911, \"Equalized_Odds_TNR\": -0.00017396900664057302}, {\"system_name\": \"virny_flow\", \"dataset_name\": \"heart\", \"num_workers\": 64, \"run_num\": 12, \"optimization_time\": 428.31307220458984, \"F1\": 0.727086083003373, \"Equalized_Odds_TNR\": 0.012765995500119809}, {\"system_name\": \"virny_flow\", \"dataset_name\": \"heart\", \"num_workers\": 128, \"run_num\": 9, \"optimization_time\": 376.01394963264465, \"F1\": 0.7262627758850541, \"Equalized_Odds_TNR\": 0.024482111468295265}, {\"system_name\": \"virny_flow\", \"dataset_name\": \"heart\", \"num_workers\": 128, \"run_num\": 6, \"optimization_time\": 172.90873074531555, \"F1\": 0.7252714339198802, \"Equalized_Odds_TNR\": 0.0035438019133920973}, {\"system_name\": \"virny_flow\", \"dataset_name\": \"heart\", \"num_workers\": 2, \"run_num\": 9, \"optimization_time\": 3538.817573785782, \"F1\": 0.7227941176470588, \"Equalized_Odds_TNR\": 0.016867982350499355}, {\"system_name\": \"virny_flow\", \"dataset_name\": \"heart\", \"num_workers\": 2, \"run_num\": 13, \"optimization_time\": 4306.88667678833, \"F1\": 0.7255487531730626, \"Equalized_Odds_TNR\": 0.008856505253874825}, {\"system_name\": \"virny_flow\", \"dataset_name\": \"heart\", \"num_workers\": 16, \"run_num\": 2, \"optimization_time\": 11259.365856647491, \"F1\": 0.7230949933930406, \"Equalized_Odds_TNR\": 0.014215739142939277}, {\"system_name\": \"virny_flow\", \"dataset_name\": \"heart\", \"num_workers\": 16, \"run_num\": 12, \"optimization_time\": 1401.192190170288, \"F1\": 0.726605504587156, \"Equalized_Odds_TNR\": 0.012600916430285825}, {\"system_name\": \"virny_flow\", \"dataset_name\": \"heart\", \"num_workers\": 32, \"run_num\": 29, \"optimization_time\": 878.8747208118439, \"F1\": 0.7357520673470909, \"Equalized_Odds_TNR\": 1.544401544406604e-05}, {\"system_name\": \"virny_flow\", \"dataset_name\": \"heart\", \"num_workers\": 128, \"run_num\": 8, \"optimization_time\": 146.8178539276123, \"F1\": 0.7193740685543965, \"Equalized_Odds_TNR\": 8.587002806648147e-05}, {\"system_name\": \"virny_flow\", \"dataset_name\": \"heart\", \"num_workers\": 128, \"run_num\": 11, \"optimization_time\": 139.7276725769043, \"F1\": 0.7189141856392294, \"Equalized_Odds_TNR\": 0.0044081994901356}, {\"system_name\": \"virny_flow\", \"dataset_name\": \"heart\", \"num_workers\": 2, \"run_num\": 23, \"optimization_time\": 7556.16384100914, \"F1\": 0.7281762219090707, \"Equalized_Odds_TNR\": 0.007552008008212319}, {\"system_name\": \"virny_flow\", \"dataset_name\": \"heart\", \"num_workers\": 4, \"run_num\": 12, \"optimization_time\": 3902.3696336746216, \"F1\": 0.7247616903099903, \"Equalized_Odds_TNR\": 0.012938407443044975}, {\"system_name\": \"virny_flow\", \"dataset_name\": \"heart\", \"num_workers\": 16, \"run_num\": 8, \"optimization_time\": 2620.8176579475403, \"F1\": 0.72053671263511, \"Equalized_Odds_TNR\": 0.0006434370596219985}, {\"system_name\": \"virny_flow\", \"dataset_name\": \"heart\", \"num_workers\": 16, \"run_num\": 22, \"optimization_time\": 2006.5813019275665, \"F1\": 0.7277061759666245, \"Equalized_Odds_TNR\": -3.063118254376107e-06}, {\"system_name\": \"virny_flow\", \"dataset_name\": \"heart\", \"num_workers\": 32, \"run_num\": 15, \"optimization_time\": 545.212593793869, \"F1\": 0.7295914584414621, \"Equalized_Odds_TNR\": 0.008000025907518804}, {\"system_name\": \"virny_flow\", \"dataset_name\": \"heart\", \"num_workers\": 32, \"run_num\": 22, \"optimization_time\": 2711.7718238830566, \"F1\": 0.7277061759666245, \"Equalized_Odds_TNR\": -3.063118254376107e-06}, {\"system_name\": \"virny_flow\", \"dataset_name\": \"heart\", \"num_workers\": 32, \"run_num\": 24, \"optimization_time\": 644.0496153831482, \"F1\": 0.7313911247239832, \"Equalized_Odds_TNR\": 0.0014347221010936329}, {\"system_name\": \"virny_flow\", \"dataset_name\": \"heart\", \"num_workers\": 32, \"run_num\": 21, \"optimization_time\": 2361.600043773651, \"F1\": 0.7269225070380797, \"Equalized_Odds_TNR\": 0.008239372829274672}, {\"system_name\": \"virny_flow\", \"dataset_name\": \"heart\", \"num_workers\": 128, \"run_num\": 1, \"optimization_time\": 227.1408290863037, \"F1\": 0.7222264009025949, \"Equalized_Odds_TNR\": 0.024174260851569374}, {\"system_name\": \"virny_flow\", \"dataset_name\": \"heart\", \"num_workers\": 32, \"run_num\": 1, \"optimization_time\": 5410.069730520248, \"F1\": 0.7245322245322245, \"Equalized_Odds_TNR\": 0.02840191488275967}, {\"system_name\": \"virny_flow\", \"dataset_name\": \"heart\", \"num_workers\": 32, \"run_num\": 3, \"optimization_time\": 743.6785924434662, \"F1\": 0.7218056388722256, \"Equalized_Odds_TNR\": 0.015392160866833482}, {\"system_name\": \"virny_flow\", \"dataset_name\": \"heart\", \"num_workers\": 32, \"run_num\": 5, \"optimization_time\": 3787.1559357643127, \"F1\": 0.7151005703992795, \"Equalized_Odds_TNR\": -0.0026737689495945904}, {\"system_name\": \"virny_flow\", \"dataset_name\": \"heart\", \"num_workers\": 32, \"run_num\": 25, \"optimization_time\": 703.6378221511841, \"F1\": 0.7235585818962327, \"Equalized_Odds_TNR\": 0.0021474334888881286}, {\"system_name\": \"virny_flow\", \"dataset_name\": \"heart\", \"num_workers\": 16, \"run_num\": 4, \"optimization_time\": 739.4439566135406, \"F1\": 0.7204619484749778, \"Equalized_Odds_TNR\": 0.002115391607743655}, {\"system_name\": \"virny_flow\", \"dataset_name\": \"heart\", \"num_workers\": 16, \"run_num\": 9, \"optimization_time\": 9206.299271583557, \"F1\": 0.7242859257066746, \"Equalized_Odds_TNR\": 0.019323541965150515}, {\"system_name\": \"virny_flow\", \"dataset_name\": \"heart\", \"num_workers\": 16, \"run_num\": 24, \"optimization_time\": 11288.725455284119, \"F1\": 0.7315958586219208, \"Equalized_Odds_TNR\": 0.0026730294607204552}, {\"system_name\": \"virny_flow\", \"dataset_name\": \"heart\", \"num_workers\": 64, \"run_num\": 3, \"optimization_time\": 315.60211992263794, \"F1\": 0.7183899446356427, \"Equalized_Odds_TNR\": 0.009445466673393521}, {\"system_name\": \"virny_flow\", \"dataset_name\": \"heart\", \"num_workers\": 64, \"run_num\": 8, \"optimization_time\": 552.0983617305756, \"F1\": 0.7199403652627656, \"Equalized_Odds_TNR\": -0.00024584706665631284}, {\"system_name\": \"virny_flow\", \"dataset_name\": \"heart\", \"num_workers\": 2, \"run_num\": 24, \"optimization_time\": 4263.546166181564, \"F1\": 0.7315958586219208, \"Equalized_Odds_TNR\": 0.0026730294607204552}, {\"system_name\": \"virny_flow\", \"dataset_name\": \"heart\", \"num_workers\": 2, \"run_num\": 27, \"optimization_time\": 16631.491505622864, \"F1\": 0.7229325253122459, \"Equalized_Odds_TNR\": 0.024518222542996515}, {\"system_name\": \"virny_flow\", \"dataset_name\": \"heart\", \"num_workers\": 4, \"run_num\": 14, \"optimization_time\": 1761.7850942611694, \"F1\": 0.7196833930704899, \"Equalized_Odds_TNR\": 0.0024676282989748444}, {\"system_name\": \"virny_flow\", \"dataset_name\": \"heart\", \"num_workers\": 4, \"run_num\": 22, \"optimization_time\": 13323.756148338318, \"F1\": 0.7277061759666245, \"Equalized_Odds_TNR\": -3.063118254376107e-06}, {\"system_name\": \"virny_flow\", \"dataset_name\": \"heart\", \"num_workers\": 8, \"run_num\": 3, \"optimization_time\": 6050.416503667831, \"F1\": 0.7216602981943507, \"Equalized_Odds_TNR\": 0.014917009038473372}, {\"system_name\": \"virny_flow\", \"dataset_name\": \"heart\", \"num_workers\": 8, \"run_num\": 10, \"optimization_time\": 4027.120198249817, \"F1\": 0.7297674077335095, \"Equalized_Odds_TNR\": 0.0006784428066903825}, {\"system_name\": \"virny_flow\", \"dataset_name\": \"heart\", \"num_workers\": 32, \"run_num\": 23, \"optimization_time\": 2596.2834260463715, \"F1\": 0.7284807764091079, \"Equalized_Odds_TNR\": 0.009618043149065003}, {\"system_name\": \"virny_flow\", \"dataset_name\": \"heart\", \"num_workers\": 32, \"run_num\": 28, \"optimization_time\": 693.5880441665649, \"F1\": 0.7229941730165845, \"Equalized_Odds_TNR\": -0.00010363798901091847}, {\"system_name\": \"virny_flow\", \"dataset_name\": \"heart\", \"num_workers\": 64, \"run_num\": 11, \"optimization_time\": 339.2920660972595, \"F1\": 0.7189141856392294, \"Equalized_Odds_TNR\": 0.0044081994901356}, {\"system_name\": \"virny_flow\", \"dataset_name\": \"heart\", \"num_workers\": 128, \"run_num\": 5, \"optimization_time\": 167.18950366973877, \"F1\": 0.7251025736665423, \"Equalized_Odds_TNR\": 0.010045170232170664}, {\"system_name\": \"virny_flow\", \"dataset_name\": \"heart\", \"num_workers\": 64, \"run_num\": 5, \"optimization_time\": 386.41573452949524, \"F1\": 0.726242826265186, \"Equalized_Odds_TNR\": 0.007530646099489391}, {\"system_name\": \"virny_flow\", \"dataset_name\": \"heart\", \"num_workers\": 4, \"run_num\": 8, \"optimization_time\": 1781.8124856948853, \"F1\": 0.7198269431597792, \"Equalized_Odds_TNR\": 0.0014950795297616892}, {\"system_name\": \"virny_flow\", \"dataset_name\": \"heart\", \"num_workers\": 4, \"run_num\": 25, \"optimization_time\": 7801.927932500839, \"F1\": 0.7282188522152839, \"Equalized_Odds_TNR\": 0.0029537322915389463}, {\"system_name\": \"virny_flow\", \"dataset_name\": \"heart\", \"num_workers\": 32, \"run_num\": 27, \"optimization_time\": 1245.5308630466461, \"F1\": 0.7220860262981947, \"Equalized_Odds_TNR\": 0.021131613615711364}, {\"system_name\": \"virny_flow\", \"dataset_name\": \"heart\", \"num_workers\": 32, \"run_num\": 30, \"optimization_time\": 411.57442474365234, \"F1\": 0.7268532301280143, \"Equalized_Odds_TNR\": -0.00015490874878720806}, {\"system_name\": \"virny_flow\", \"dataset_name\": \"heart\", \"num_workers\": 64, \"run_num\": 1, \"optimization_time\": 742.7617564201355, \"F1\": 0.7237614201886652, \"Equalized_Odds_TNR\": 0.025468780564556592}, {\"system_name\": \"virny_flow\", \"dataset_name\": \"heart\", \"num_workers\": 64, \"run_num\": 2, \"optimization_time\": 1800.2845571041107, \"F1\": 0.7228986790642757, \"Equalized_Odds_TNR\": 0.012497483462755254}, {\"system_name\": \"virny_flow\", \"dataset_name\": \"heart\", \"num_workers\": 8, \"run_num\": 7, \"optimization_time\": 13112.786299943924, \"F1\": 0.726750184229919, \"Equalized_Odds_TNR\": 0.01373600644230688}, {\"system_name\": \"virny_flow\", \"dataset_name\": \"heart\", \"num_workers\": 32, \"run_num\": 4, \"optimization_time\": 2002.9090840816498, \"F1\": 0.7175572519083969, \"Equalized_Odds_TNR\": -0.00019055306131343652}, {\"system_name\": \"virny_flow\", \"dataset_name\": \"heart\", \"num_workers\": 128, \"run_num\": 12, \"optimization_time\": 152.7480821609497, \"F1\": 0.714696533979113, \"Equalized_Odds_TNR\": 0.0004042916981145117}, {\"system_name\": \"virny_flow\", \"dataset_name\": \"heart\", \"num_workers\": 64, \"run_num\": 4, \"optimization_time\": 390.84602093696594, \"F1\": 0.7196143863552095, \"Equalized_Odds_TNR\": 0.0028260859562123652}, {\"system_name\": \"virny_flow\", \"dataset_name\": \"heart\", \"num_workers\": 16, \"run_num\": 10, \"optimization_time\": 1553.387927055359, \"F1\": 0.7293668843078277, \"Equalized_Odds_TNR\": -0.000824446023119374}, {\"system_name\": \"virny_flow\", \"dataset_name\": \"heart\", \"num_workers\": 128, \"run_num\": 7, \"optimization_time\": 127.4673399925232, \"F1\": 0.7260101942823373, \"Equalized_Odds_TNR\": 0.01221366068467955}, {\"system_name\": \"alpine_meadow\", \"dataset_name\": \"heart\", \"num_workers\": 2, \"run_num\": 2, \"optimization_time\": 18000.612155914307, \"F1\": 0.7236471460340993, \"Equalized_Odds_TNR\": 0.015817335346563044}, {\"system_name\": \"alpine_meadow\", \"dataset_name\": \"heart\", \"num_workers\": 2, \"run_num\": 3, \"optimization_time\": 6159.97456407547, \"F1\": 0.722508398656215, \"Equalized_Odds_TNR\": 0.015158233122122056}, {\"system_name\": \"alpine_meadow\", \"dataset_name\": \"heart\", \"num_workers\": 2, \"run_num\": 5, \"optimization_time\": 2235.7059371471405, \"F1\": 0.726242826265186, \"Equalized_Odds_TNR\": -1.2926298554427618e-05}, {\"system_name\": \"alpine_meadow\", \"dataset_name\": \"heart\", \"num_workers\": 2, \"run_num\": 6, \"optimization_time\": 24694.260071754456, \"F1\": 0.7230827351718927, \"Equalized_Odds_TNR\": 0.005429451760035842}, {\"system_name\": \"alpine_meadow\", \"dataset_name\": \"heart\", \"num_workers\": 2, \"run_num\": 7, \"optimization_time\": 30834.899272203445, \"F1\": 0.7246612867402088, \"Equalized_Odds_TNR\": 0.007477845529998639}, {\"system_name\": \"alpine_meadow\", \"dataset_name\": \"heart\", \"num_workers\": 2, \"run_num\": 8, \"optimization_time\": 2478.1099140644073, \"F1\": 0.7189152946435223, \"Equalized_Odds_TNR\": 0.00400883637877858}, {\"system_name\": \"alpine_meadow\", \"dataset_name\": \"heart\", \"num_workers\": 2, \"run_num\": 9, \"optimization_time\": 2064.3486847877502, \"F1\": 0.7258721576179542, \"Equalized_Odds_TNR\": 0.0067583940916488006}, {\"system_name\": \"alpine_meadow\", \"dataset_name\": \"heart\", \"num_workers\": 2, \"run_num\": 10, \"optimization_time\": 2052.3002972602844, \"F1\": 0.7309337660421891, \"Equalized_Odds_TNR\": 0.0007296528900646582}, {\"system_name\": \"alpine_meadow\", \"dataset_name\": \"heart\", \"num_workers\": 2, \"run_num\": 11, \"optimization_time\": 12993.773899793625, \"F1\": 0.7269219352923716, \"Equalized_Odds_TNR\": 0.004680791331398315}, {\"system_name\": \"alpine_meadow\", \"dataset_name\": \"heart\", \"num_workers\": 2, \"run_num\": 15, \"optimization_time\": 6475.948210716248, \"F1\": 0.7325700865991487, \"Equalized_Odds_TNR\": 0.008306598213244754}, {\"system_name\": \"alpine_meadow\", \"dataset_name\": \"heart\", \"num_workers\": 4, \"run_num\": 2, \"optimization_time\": 7791.180566310883, \"F1\": 0.723103268557814, \"Equalized_Odds_TNR\": 0.0163216314351452}, {\"system_name\": \"alpine_meadow\", \"dataset_name\": \"heart\", \"num_workers\": 4, \"run_num\": 3, \"optimization_time\": 13737.036526918411, \"F1\": 0.7212035027318314, \"Equalized_Odds_TNR\": 0.0029063453501365633}, {\"system_name\": \"alpine_meadow\", \"dataset_name\": \"heart\", \"num_workers\": 4, \"run_num\": 6, \"optimization_time\": 1137.482209444046, \"F1\": 0.7256928838951311, \"Equalized_Odds_TNR\": 0.00736619640263847}, {\"system_name\": \"alpine_meadow\", \"dataset_name\": \"heart\", \"num_workers\": 4, \"run_num\": 12, \"optimization_time\": 5429.201986074448, \"F1\": 0.7273407679065939, \"Equalized_Odds_TNR\": 0.0208315299234878}, {\"system_name\": \"alpine_meadow\", \"dataset_name\": \"heart\", \"num_workers\": 4, \"run_num\": 14, \"optimization_time\": 931.2385611534119, \"F1\": 0.7181467181467182, \"Equalized_Odds_TNR\": 0.00395817982717217}, {\"system_name\": \"alpine_meadow\", \"dataset_name\": \"heart\", \"num_workers\": 4, \"run_num\": 15, \"optimization_time\": 2111.4016902446747, \"F1\": 0.728189163145801, \"Equalized_Odds_TNR\": 0.014211713364969292}, {\"system_name\": \"alpine_meadow\", \"dataset_name\": \"heart\", \"num_workers\": 4, \"run_num\": 16, \"optimization_time\": 2974.8282582759857, \"F1\": 0.7237243947858473, \"Equalized_Odds_TNR\": -0.008915643180348987}, {\"system_name\": \"alpine_meadow\", \"dataset_name\": \"heart\", \"num_workers\": 4, \"run_num\": 21, \"optimization_time\": 2295.6357097625732, \"F1\": 0.7242224036819835, \"Equalized_Odds_TNR\": 0.003629731627209254}, {\"system_name\": \"alpine_meadow\", \"dataset_name\": \"heart\", \"num_workers\": 4, \"run_num\": 22, \"optimization_time\": 1600.7223014831543, \"F1\": 0.725717685557043, \"Equalized_Odds_TNR\": -0.010512711940755759}, {\"system_name\": \"alpine_meadow\", \"dataset_name\": \"heart\", \"num_workers\": 4, \"run_num\": 23, \"optimization_time\": 1606.8821001052856, \"F1\": 0.7297277246086505, \"Equalized_Odds_TNR\": 0.013513149462054508}, {\"system_name\": \"alpine_meadow\", \"dataset_name\": \"heart\", \"num_workers\": 4, \"run_num\": 27, \"optimization_time\": 400.77883434295654, \"F1\": 0.7221026059841117, \"Equalized_Odds_TNR\": 0.014347888469080305}, {\"system_name\": \"alpine_meadow\", \"dataset_name\": \"heart\", \"num_workers\": 8, \"run_num\": 1, \"optimization_time\": 1950.5919163227081, \"F1\": 0.7234393757503002, \"Equalized_Odds_TNR\": 0.018215766987869086}, {\"system_name\": \"alpine_meadow\", \"dataset_name\": \"heart\", \"num_workers\": 8, \"run_num\": 2, \"optimization_time\": 1560.2191936969757, \"F1\": 0.719525026303923, \"Equalized_Odds_TNR\": 0.006520348001150422}, {\"system_name\": \"alpine_meadow\", \"dataset_name\": \"heart\", \"num_workers\": 8, \"run_num\": 6, \"optimization_time\": 2119.203453540802, \"F1\": 0.7263629574309186, \"Equalized_Odds_TNR\": 0.0009609060042862216}, {\"system_name\": \"alpine_meadow\", \"dataset_name\": \"heart\", \"num_workers\": 8, \"run_num\": 7, \"optimization_time\": 1999.8322043418884, \"F1\": 0.7228969194312796, \"Equalized_Odds_TNR\": 0.022305258167782727}, {\"system_name\": \"alpine_meadow\", \"dataset_name\": \"heart\", \"num_workers\": 8, \"run_num\": 8, \"optimization_time\": 1368.315999507904, \"F1\": 0.7181013317461499, \"Equalized_Odds_TNR\": 0.02099698631490543}, {\"system_name\": \"alpine_meadow\", \"dataset_name\": \"heart\", \"num_workers\": 8, \"run_num\": 9, \"optimization_time\": 9050.22598862648, \"F1\": 0.723293768545994, \"Equalized_Odds_TNR\": 0.014224272675559702}, {\"system_name\": \"alpine_meadow\", \"dataset_name\": \"heart\", \"num_workers\": 8, \"run_num\": 10, \"optimization_time\": 1539.6113789081573, \"F1\": 0.7301376923643326, \"Equalized_Odds_TNR\": 0.009104862270299163}, {\"system_name\": \"alpine_meadow\", \"dataset_name\": \"heart\", \"num_workers\": 8, \"run_num\": 11, \"optimization_time\": 939.3066966533661, \"F1\": 0.7286168403932874, \"Equalized_Odds_TNR\": 0.015142340939038212}, {\"system_name\": \"alpine_meadow\", \"dataset_name\": \"heart\", \"num_workers\": 8, \"run_num\": 12, \"optimization_time\": 3062.899641752243, \"F1\": 0.7290332191270669, \"Equalized_Odds_TNR\": 0.012401498052317383}, {\"system_name\": \"alpine_meadow\", \"dataset_name\": \"heart\", \"num_workers\": 8, \"run_num\": 13, \"optimization_time\": 2441.4291355609894, \"F1\": 0.7236015554890817, \"Equalized_Odds_TNR\": 0.005202183625771073}, {\"system_name\": \"alpine_meadow\", \"dataset_name\": \"heart\", \"num_workers\": 8, \"run_num\": 14, \"optimization_time\": 1383.9996948242188, \"F1\": 0.7128993729471484, \"Equalized_Odds_TNR\": 0.017027609479611017}, {\"system_name\": \"alpine_meadow\", \"dataset_name\": \"heart\", \"num_workers\": 16, \"run_num\": 1, \"optimization_time\": 1829.86203622818, \"F1\": 0.7206787805976873, \"Equalized_Odds_TNR\": 0.01809280001814384}, {\"system_name\": \"alpine_meadow\", \"dataset_name\": \"heart\", \"num_workers\": 16, \"run_num\": 2, \"optimization_time\": 1173.0430080890656, \"F1\": 0.7249463797056431, \"Equalized_Odds_TNR\": 0.01719154443485771}, {\"system_name\": \"alpine_meadow\", \"dataset_name\": \"heart\", \"num_workers\": 16, \"run_num\": 6, \"optimization_time\": 2361.522015094757, \"F1\": 0.7247891318952004, \"Equalized_Odds_TNR\": 0.009154604216832007}, {\"system_name\": \"alpine_meadow\", \"dataset_name\": \"heart\", \"num_workers\": 16, \"run_num\": 7, \"optimization_time\": 2382.405012369156, \"F1\": 0.724833209785026, \"Equalized_Odds_TNR\": 0.008858985582554046}, {\"system_name\": \"alpine_meadow\", \"dataset_name\": \"heart\", \"num_workers\": 16, \"run_num\": 8, \"optimization_time\": 3777.633237838745, \"F1\": 0.7182435964453737, \"Equalized_Odds_TNR\": -0.006279098764647828}, {\"system_name\": \"alpine_meadow\", \"dataset_name\": \"heart\", \"num_workers\": 16, \"run_num\": 11, \"optimization_time\": 996.7355086803436, \"F1\": 0.7264137014616862, \"Equalized_Odds_TNR\": 0.01482202288503598}, {\"system_name\": \"alpine_meadow\", \"dataset_name\": \"heart\", \"num_workers\": 16, \"run_num\": 13, \"optimization_time\": 1366.6319873332977, \"F1\": 0.7235377605139314, \"Equalized_Odds_TNR\": 0.00110867271458992}, {\"system_name\": \"alpine_meadow\", \"dataset_name\": \"heart\", \"num_workers\": 16, \"run_num\": 16, \"optimization_time\": 1811.8784472942352, \"F1\": 0.7245254931149981, \"Equalized_Odds_TNR\": -0.01039538892480063}, {\"system_name\": \"alpine_meadow\", \"dataset_name\": \"heart\", \"num_workers\": 16, \"run_num\": 17, \"optimization_time\": 1875.9939694404602, \"F1\": 0.7256440627776133, \"Equalized_Odds_TNR\": -0.010947423803976064}, {\"system_name\": \"alpine_meadow\", \"dataset_name\": \"heart\", \"num_workers\": 16, \"run_num\": 18, \"optimization_time\": 450.8682041168213, \"F1\": 0.7185485080221923, \"Equalized_Odds_TNR\": 0.0080669802834481}, {\"system_name\": \"alpine_meadow\", \"dataset_name\": \"heart\", \"num_workers\": 16, \"run_num\": 19, \"optimization_time\": 1706.5276420116425, \"F1\": 0.7215972584370111, \"Equalized_Odds_TNR\": -0.01693551172516128}, {\"system_name\": \"alpine_meadow\", \"dataset_name\": \"heart\", \"num_workers\": 16, \"run_num\": 20, \"optimization_time\": 1852.3645570278168, \"F1\": 0.7266900201237236, \"Equalized_Odds_TNR\": -0.012165665344124554}, {\"system_name\": \"alpine_meadow\", \"dataset_name\": \"heart\", \"num_workers\": 32, \"run_num\": 1, \"optimization_time\": 624.2650544643402, \"F1\": 0.7234393757503002, \"Equalized_Odds_TNR\": 0.018215766987869086}, {\"system_name\": \"alpine_meadow\", \"dataset_name\": \"heart\", \"num_workers\": 32, \"run_num\": 2, \"optimization_time\": 2353.9567012786865, \"F1\": 0.7236218138707765, \"Equalized_Odds_TNR\": 0.014313254961173416}, {\"system_name\": \"alpine_meadow\", \"dataset_name\": \"heart\", \"num_workers\": 32, \"run_num\": 3, \"optimization_time\": 2560.1696577072144, \"F1\": 0.7245513441060392, \"Equalized_Odds_TNR\": 0.005268134672264946}, {\"system_name\": \"alpine_meadow\", \"dataset_name\": \"heart\", \"num_workers\": 32, \"run_num\": 4, \"optimization_time\": 481.02128553390503, \"F1\": 0.7175856929955291, \"Equalized_Odds_TNR\": -0.008070445445750196}, {\"system_name\": \"alpine_meadow\", \"dataset_name\": \"heart\", \"num_workers\": 32, \"run_num\": 5, \"optimization_time\": 1376.2399005889893, \"F1\": 0.7265281810736356, \"Equalized_Odds_TNR\": 0.0003378790816582766}, {\"system_name\": \"alpine_meadow\", \"dataset_name\": \"heart\", \"num_workers\": 32, \"run_num\": 7, \"optimization_time\": 1950.6966474056244, \"F1\": 0.7237573153566931, \"Equalized_Odds_TNR\": 0.009149804246585291}, {\"system_name\": \"alpine_meadow\", \"dataset_name\": \"heart\", \"num_workers\": 32, \"run_num\": 8, \"optimization_time\": 603.7521452903748, \"F1\": 0.7179678744863653, \"Equalized_Odds_TNR\": -0.0001705637543787386}, {\"system_name\": \"alpine_meadow\", \"dataset_name\": \"heart\", \"num_workers\": 32, \"run_num\": 9, \"optimization_time\": 2018.8186066150665, \"F1\": 0.7230381249072838, \"Equalized_Odds_TNR\": 0.020624303130978072}, {\"system_name\": \"alpine_meadow\", \"dataset_name\": \"heart\", \"num_workers\": 32, \"run_num\": 12, \"optimization_time\": 534.5098447799683, \"F1\": 0.7279756151958963, \"Equalized_Odds_TNR\": 0.019943626302479256}, {\"system_name\": \"alpine_meadow\", \"dataset_name\": \"heart\", \"num_workers\": 32, \"run_num\": 15, \"optimization_time\": 1361.028962135315, \"F1\": 0.728189163145801, \"Equalized_Odds_TNR\": 0.014211713364969292}, {\"system_name\": \"autosklearn\", \"dataset_name\": \"heart\", \"num_workers\": 2, \"run_num\": 1, \"optimization_time\": 5647.041894435883, \"F1\": 0.7212669683257918, \"Equalized_Odds_TNR\": 0.017680754358062822}, {\"system_name\": \"autosklearn\", \"dataset_name\": \"heart\", \"num_workers\": 2, \"run_num\": 2, \"optimization_time\": 5280.034581422806, \"F1\": 0.7251001929642275, \"Equalized_Odds_TNR\": 0.013891285591026703}, {\"system_name\": \"autosklearn\", \"dataset_name\": \"heart\", \"num_workers\": 4, \"run_num\": 1, \"optimization_time\": 13900.910217523575, \"F1\": 0.7205316016008457, \"Equalized_Odds_TNR\": 0.01774223784292539}, {\"system_name\": \"autosklearn\", \"dataset_name\": \"heart\", \"num_workers\": 4, \"run_num\": 4, \"optimization_time\": 4610.716601371765, \"F1\": 0.7191562058976454, \"Equalized_Odds_TNR\": -0.0017025266415645612}, {\"system_name\": \"autosklearn\", \"dataset_name\": \"heart\", \"num_workers\": 4, \"run_num\": 5, \"optimization_time\": 5659.654049873352, \"F1\": 0.7255281166319548, \"Equalized_Odds_TNR\": 0.005220608828661932}, {\"system_name\": \"autosklearn\", \"dataset_name\": \"heart\", \"num_workers\": 4, \"run_num\": 8, \"optimization_time\": 11147.693958759308, \"F1\": 0.7190511489992587, \"Equalized_Odds_TNR\": -0.005957968385714052}, {\"system_name\": \"autosklearn\", \"dataset_name\": \"heart\", \"num_workers\": 4, \"run_num\": 9, \"optimization_time\": 9433.047634124756, \"F1\": 0.723020779027333, \"Equalized_Odds_TNR\": 0.012141993263202866}, {\"system_name\": \"autosklearn\", \"dataset_name\": \"heart\", \"num_workers\": 4, \"run_num\": 10, \"optimization_time\": 4618.900497436523, \"F1\": 0.7298054245283019, \"Equalized_Odds_TNR\": -0.001034734237826962}, {\"system_name\": \"autosklearn\", \"dataset_name\": \"heart\", \"num_workers\": 8, \"run_num\": 1, \"optimization_time\": 5598.892421245575, \"F1\": 0.7200484371452357, \"Equalized_Odds_TNR\": 0.018114239504219865}, {\"system_name\": \"autosklearn\", \"dataset_name\": \"heart\", \"num_workers\": 8, \"run_num\": 4, \"optimization_time\": 6981.551402568817, \"F1\": 0.7193476649369903, \"Equalized_Odds_TNR\": 0.0004686233903702375}, {\"system_name\": \"autosklearn\", \"dataset_name\": \"heart\", \"num_workers\": 8, \"run_num\": 5, \"optimization_time\": 9259.444535255432, \"F1\": 0.725491651205937, \"Equalized_Odds_TNR\": 0.0077495852812546895}, {\"system_name\": \"autosklearn\", \"dataset_name\": \"heart\", \"num_workers\": 8, \"run_num\": 8, \"optimization_time\": 10261.43126130104, \"F1\": 0.7169359664871334, \"Equalized_Odds_TNR\": 0.0013480418104695469}, {\"system_name\": \"autosklearn\", \"dataset_name\": \"heart\", \"num_workers\": 8, \"run_num\": 9, \"optimization_time\": 7031.632682085037, \"F1\": 0.7229524021682632, \"Equalized_Odds_TNR\": 0.011672167188532923}, {\"system_name\": \"autosklearn\", \"dataset_name\": \"heart\", \"num_workers\": 8, \"run_num\": 10, \"optimization_time\": 5022.684451818466, \"F1\": 0.7323466607760842, \"Equalized_Odds_TNR\": -0.0016256477530758318}, {\"system_name\": \"autosklearn\", \"dataset_name\": \"heart\", \"num_workers\": 16, \"run_num\": 3, \"optimization_time\": 4415.117898225784, \"F1\": 0.721259842519685, \"Equalized_Odds_TNR\": 0.010349589843424933}, {\"system_name\": \"autosklearn\", \"dataset_name\": \"heart\", \"num_workers\": 16, \"run_num\": 4, \"optimization_time\": 7004.030730247498, \"F1\": 0.7172207695181173, \"Equalized_Odds_TNR\": 9.771257831558966e-05}, {\"system_name\": \"autosklearn\", \"dataset_name\": \"heart\", \"num_workers\": 16, \"run_num\": 7, \"optimization_time\": 7142.7427299022675, \"F1\": 0.7255090707145502, \"Equalized_Odds_TNR\": 0.009019356210465568}, {\"system_name\": \"autosklearn\", \"dataset_name\": \"heart\", \"num_workers\": 16, \"run_num\": 8, \"optimization_time\": 5449.1564474105835, \"F1\": 0.7184422891833864, \"Equalized_Odds_TNR\": -0.008663462420687829}, {\"system_name\": \"autosklearn\", \"dataset_name\": \"heart\", \"num_workers\": 32, \"run_num\": 1, \"optimization_time\": 7980.868844985962, \"F1\": 0.7201208003020008, \"Equalized_Odds_TNR\": 0.0206138886762659}, {\"system_name\": \"autosklearn\", \"dataset_name\": \"heart\", \"num_workers\": 32, \"run_num\": 2, \"optimization_time\": 9091.674411535263, \"F1\": 0.7265584463716552, \"Equalized_Odds_TNR\": 0.01052388912855906}, {\"system_name\": \"autosklearn\", \"dataset_name\": \"heart\", \"num_workers\": 32, \"run_num\": 3, \"optimization_time\": 10285.907322883606, \"F1\": 0.720421210981572, \"Equalized_Odds_TNR\": 0.008399153873826504}, {\"system_name\": \"autosklearn\", \"dataset_name\": \"heart\", \"num_workers\": 32, \"run_num\": 4, \"optimization_time\": 11324.933742523193, \"F1\": 0.719875500222321, \"Equalized_Odds_TNR\": -0.0024664531425782066}, {\"system_name\": \"autosklearn\", \"dataset_name\": \"heart\", \"num_workers\": 32, \"run_num\": 5, \"optimization_time\": 9228.285507202148, \"F1\": 0.725703229647269, \"Equalized_Odds_TNR\": 0.005059837990391447}, {\"system_name\": \"autosklearn\", \"dataset_name\": \"heart\", \"num_workers\": 32, \"run_num\": 6, \"optimization_time\": 9899.94599723816, \"F1\": 0.7263354501307434, \"Equalized_Odds_TNR\": -0.0015653178600060214}, {\"system_name\": \"autosklearn\", \"dataset_name\": \"heart\", \"num_workers\": 32, \"run_num\": 7, \"optimization_time\": 10176.888583183289, \"F1\": 0.7233438014057125, \"Equalized_Odds_TNR\": 0.011599750349759796}, {\"system_name\": \"autosklearn\", \"dataset_name\": \"heart\", \"num_workers\": 32, \"run_num\": 8, \"optimization_time\": 7681.737118721008, \"F1\": 0.719892952720785, \"Equalized_Odds_TNR\": 0.00197030543851362}, {\"system_name\": \"autosklearn\", \"dataset_name\": \"heart\", \"num_workers\": 32, \"run_num\": 9, \"optimization_time\": 10566.51888680458, \"F1\": 0.7225239973212293, \"Equalized_Odds_TNR\": 0.016180356108763894}, {\"system_name\": \"autosklearn\", \"dataset_name\": \"heart\", \"num_workers\": 32, \"run_num\": 10, \"optimization_time\": 9261.874760866165, \"F1\": 0.7296378418329638, \"Equalized_Odds_TNR\": -0.005581535895726075}]}}, {\"mode\": \"vega-lite\"});\n",
       "</script>"
      ],
      "text/plain": [
       "alt.FacetChart(...)"
      ]
     },
     "execution_count": 14,
     "metadata": {},
     "output_type": "execute_result"
    }
   ],
   "execution_count": 14
  },
  {
   "metadata": {
    "ExecuteTime": {
     "end_time": "2025-04-28T16:11:01.008870Z",
     "start_time": "2025-04-28T16:11:01.007136Z"
    }
   },
   "cell_type": "code",
   "source": "",
   "id": "f463c10dbe3c81b5",
   "outputs": [],
   "execution_count": null
  }
 ],
 "metadata": {
  "kernelspec": {
   "display_name": "Python 3 (ipykernel)",
   "language": "python",
   "name": "python3"
  },
  "language_info": {
   "codemirror_mode": {
    "name": "ipython",
    "version": 3
   },
   "file_extension": ".py",
   "mimetype": "text/x-python",
   "name": "python",
   "nbconvert_exporter": "python",
   "pygments_lexer": "ipython3",
   "version": "3.9.6"
  }
 },
 "nbformat": 4,
 "nbformat_minor": 5
}
