{
 "cells": [
  {
   "cell_type": "code",
   "execution_count": 1,
   "id": "initial_id",
   "metadata": {
    "collapsed": true,
    "ExecuteTime": {
     "end_time": "2024-08-06T20:07:39.336567Z",
     "start_time": "2024-08-06T20:07:39.030177Z"
    }
   },
   "outputs": [],
   "source": [
    "%matplotlib inline\n",
    "%load_ext autoreload\n",
    "%autoreload 2"
   ]
  },
  {
   "cell_type": "code",
   "execution_count": 2,
   "outputs": [],
   "source": [
    "import os\n",
    "import warnings\n",
    "warnings.filterwarnings('ignore')\n",
    "os.environ[\"PYTHONWARNINGS\"] = \"ignore\""
   ],
   "metadata": {
    "collapsed": false,
    "ExecuteTime": {
     "end_time": "2024-08-06T20:07:40.169091Z",
     "start_time": "2024-08-06T20:07:40.150548Z"
    }
   },
   "id": "c0a40eadca4a2a1d"
  },
  {
   "cell_type": "code",
   "execution_count": 6,
   "outputs": [
    {
     "name": "stderr",
     "output_type": "stream",
     "text": [
      "2024-08-06 23:17:05 worker_interface.py INFO    : Task median-mode&DIR&lr_clf was executed\n",
      "2024-08-06 23:17:05 worker_interface.py INFO    : Task median-mode&DIR&rf_clf was executed\n"
     ]
    },
    {
     "name": "stdout",
     "output_type": "stream",
     "text": [
      "New task name: median-mode&DIR&lr_clf\n",
      "Response: Modified 1 document(s)\n",
      "New task name: median-mode&DIR&rf_clf\n",
      "Response: Modified 1 document(s)\n"
     ]
    },
    {
     "name": "stderr",
     "output_type": "stream",
     "text": [
      "2024-08-06 23:17:06 worker_interface.py INFO    : Task median-dummy&DIR&lr_clf was executed\n",
      "2024-08-06 23:17:06 worker_interface.py INFO    : Task median-dummy&DIR&rf_clf was executed\n"
     ]
    },
    {
     "name": "stdout",
     "output_type": "stream",
     "text": [
      "New task name: median-dummy&DIR&lr_clf\n",
      "Response: Modified 1 document(s)\n",
      "New task name: median-dummy&DIR&rf_clf\n",
      "Response: Modified 1 document(s)\n",
      "New task name: NO_TASKS\n"
     ]
    }
   ],
   "source": [
    "from virny_flow.user_interfaces.worker_interface import worker_interface\n",
    "\n",
    "worker_interface(exp_config_name=\"german_experiments\", virny_flow_address=\"http://127.0.0.1:8080\")"
   ],
   "metadata": {
    "collapsed": false,
    "ExecuteTime": {
     "end_time": "2024-08-06T20:17:06.257292Z",
     "start_time": "2024-08-06T20:17:05.637999Z"
    }
   },
   "id": "bce2e1d300b8367d"
  },
  {
   "cell_type": "code",
   "execution_count": null,
   "outputs": [],
   "source": [],
   "metadata": {
    "collapsed": false
   },
   "id": "82b6d4d65d1bd6dd"
  }
 ],
 "metadata": {
  "kernelspec": {
   "display_name": "Python 3",
   "language": "python",
   "name": "python3"
  },
  "language_info": {
   "codemirror_mode": {
    "name": "ipython",
    "version": 2
   },
   "file_extension": ".py",
   "mimetype": "text/x-python",
   "name": "python",
   "nbconvert_exporter": "python",
   "pygments_lexer": "ipython2",
   "version": "2.7.6"
  }
 },
 "nbformat": 4,
 "nbformat_minor": 5
}
