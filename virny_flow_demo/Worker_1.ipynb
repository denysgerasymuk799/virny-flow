{
 "cells": [
  {
   "cell_type": "code",
   "execution_count": 1,
   "id": "initial_id",
   "metadata": {
    "collapsed": true,
    "ExecuteTime": {
     "end_time": "2024-08-11T22:05:34.913921Z",
     "start_time": "2024-08-11T22:05:34.612258Z"
    }
   },
   "outputs": [],
   "source": [
    "%matplotlib inline\n",
    "%load_ext autoreload\n",
    "%autoreload 2"
   ]
  },
  {
   "cell_type": "code",
   "execution_count": 2,
   "outputs": [],
   "source": [
    "import os\n",
    "import warnings\n",
    "warnings.filterwarnings('ignore')\n",
    "os.environ[\"PYTHONWARNINGS\"] = \"ignore\""
   ],
   "metadata": {
    "collapsed": false,
    "ExecuteTime": {
     "end_time": "2024-08-11T22:05:35.359140Z",
     "start_time": "2024-08-11T22:05:35.342613Z"
    }
   },
   "id": "c0a40eadca4a2a1d"
  },
  {
   "cell_type": "code",
   "execution_count": 3,
   "outputs": [
    {
     "name": "stderr",
     "output_type": "stream",
     "text": [
      "WARNING:root:No module named 'tempeh': LawSchoolGPADataset will be unavailable. To install, run:\n",
      "pip install 'aif360[LawSchoolGPA]'\n",
      "2024-08-12 01:05:38 _client.py         INFO    : HTTP Request: GET https://api.gradio.app/gradio-messaging/en \"HTTP/1.1 200 OK\"\n",
      "2024-08-12 01:05:38 web_server_client.py INFO    : New task name: median-mode\n"
     ]
    },
    {
     "name": "stdout",
     "output_type": "stream",
     "text": [
      "Session UUID for all results of experiments in the current session: d7625a5e-582d-11ef-a159-ae7d8bf09115\n"
     ]
    },
    {
     "name": "stderr",
     "output_type": "stream",
     "text": [
      "2024-08-12 01:05:38 ml_lifecycle.py    INFO    : Nulls are successfully imputed\n"
     ]
    },
    {
     "name": "stdout",
     "output_type": "stream",
     "text": [
      "X_tests_imputed_wo_sensitive_attrs_lst[0].columns --  Index(['duration', 'credit-amount', 'installment-rate', 'residence-since',\n",
      "       'existing-credits', 'number-people-provide-maintenance-for',\n",
      "       'checking-account', 'credit-history', 'purpose', 'savings-account',\n",
      "       'employment-since', 'other-debtors', 'property', 'other-installment',\n",
      "       'housing', 'job', 'telephone', 'foreign-worker', 'marital-status'],\n",
      "      dtype='object')\n",
      "CSV written to virny-flow-demo/german_experiments/null_imputation_stage/german/median-mode/imputed_german_experiments_german_median-mode_X_train_val.csv\n"
     ]
    },
    {
     "name": "stderr",
     "output_type": "stream",
     "text": [
      "2024-08-12 01:05:39 ml_lifecycle.py    INFO    : Imputed train and test sets are saved to S3\n",
      "2024-08-12 01:05:39 pipeline_evaluator.py INFO    : Task median-mode was executed!\n",
      "2024-08-12 01:05:39 worker_interface.py INFO    : Task median-mode was executed\n",
      "2024-08-12 01:05:39 web_server_client.py INFO    : Response: Modified None document(s)\n"
     ]
    },
    {
     "name": "stdout",
     "output_type": "stream",
     "text": [
      "CSV written to virny-flow-demo/german_experiments/null_imputation_stage/german/median-mode/imputed_german_experiments_german_median-mode_X_test.csv\n"
     ]
    },
    {
     "name": "stderr",
     "output_type": "stream",
     "text": [
      "2024-08-12 01:05:39 web_server_client.py INFO    : New task name: median-dummy\n",
      "2024-08-12 01:05:39 ml_lifecycle.py    INFO    : Nulls are successfully imputed\n"
     ]
    },
    {
     "name": "stdout",
     "output_type": "stream",
     "text": [
      "X_tests_imputed_wo_sensitive_attrs_lst[0].columns --  Index(['duration', 'credit-amount', 'installment-rate', 'residence-since',\n",
      "       'existing-credits', 'number-people-provide-maintenance-for',\n",
      "       'checking-account', 'credit-history', 'purpose', 'savings-account',\n",
      "       'employment-since', 'other-debtors', 'property', 'other-installment',\n",
      "       'housing', 'job', 'telephone', 'foreign-worker', 'marital-status'],\n",
      "      dtype='object')\n"
     ]
    },
    {
     "name": "stderr",
     "output_type": "stream",
     "text": [
      "2024-08-12 01:05:40 ml_lifecycle.py    INFO    : Imputed train and test sets are saved to S3\n",
      "2024-08-12 01:05:40 pipeline_evaluator.py INFO    : Task median-dummy was executed!\n",
      "2024-08-12 01:05:40 worker_interface.py INFO    : Task median-dummy was executed\n"
     ]
    },
    {
     "name": "stdout",
     "output_type": "stream",
     "text": [
      "CSV written to virny-flow-demo/german_experiments/null_imputation_stage/german/median-dummy/imputed_german_experiments_german_median-dummy_X_train_val.csv\n",
      "CSV written to virny-flow-demo/german_experiments/null_imputation_stage/german/median-dummy/imputed_german_experiments_german_median-dummy_X_test.csv\n"
     ]
    },
    {
     "name": "stderr",
     "output_type": "stream",
     "text": [
      "2024-08-12 01:05:40 web_server_client.py INFO    : Response: Modified None document(s)\n",
      "2024-08-12 01:05:40 web_server_client.py INFO    : New task name: median-mode&DIR\n",
      "2024-08-12 01:05:40 pipeline_evaluator.py INFO    : Task median-mode&DIR has an incorrect format\n",
      "2024-08-12 01:05:40 pipeline_evaluator.py INFO    : Task median-mode&DIR was executed!\n",
      "2024-08-12 01:05:40 worker_interface.py INFO    : Task median-mode&DIR was executed\n",
      "2024-08-12 01:05:40 web_server_client.py INFO    : New task name: median-dummy&DIR\n",
      "2024-08-12 01:05:40 pipeline_evaluator.py INFO    : Task median-dummy&DIR has an incorrect format\n",
      "2024-08-12 01:05:40 pipeline_evaluator.py INFO    : Task median-dummy&DIR was executed!\n",
      "2024-08-12 01:05:40 worker_interface.py INFO    : Task median-dummy&DIR was executed\n",
      "2024-08-12 01:05:40 web_server_client.py INFO    : New task name: NO_READY_TASK\n",
      "2024-08-12 01:05:50 web_server_client.py INFO    : New task name: NO_READY_TASK\n",
      "2024-08-12 01:06:01 web_server_client.py INFO    : New task name: NO_READY_TASK\n",
      "2024-08-12 01:06:11 web_server_client.py INFO    : New task name: NO_READY_TASK\n",
      "2024-08-12 01:06:21 web_server_client.py INFO    : New task name: NO_READY_TASK\n",
      "2024-08-12 01:06:31 web_server_client.py INFO    : New task name: NO_READY_TASK\n"
     ]
    },
    {
     "ename": "KeyboardInterrupt",
     "evalue": "",
     "output_type": "error",
     "traceback": [
      "\u001B[0;31m---------------------------------------------------------------------------\u001B[0m",
      "\u001B[0;31mKeyboardInterrupt\u001B[0m                         Traceback (most recent call last)",
      "Cell \u001B[0;32mIn[3], line 10\u001B[0m\n\u001B[1;32m      8\u001B[0m exp_config_yaml_path \u001B[38;5;241m=\u001B[39m os\u001B[38;5;241m.\u001B[39mpath\u001B[38;5;241m.\u001B[39mjoin(\u001B[38;5;124m'\u001B[39m\u001B[38;5;124m.\u001B[39m\u001B[38;5;124m'\u001B[39m, \u001B[38;5;124m'\u001B[39m\u001B[38;5;124mconfigs\u001B[39m\u001B[38;5;124m'\u001B[39m, \u001B[38;5;124m'\u001B[39m\u001B[38;5;124mexp_config.yaml\u001B[39m\u001B[38;5;124m'\u001B[39m)\n\u001B[1;32m      9\u001B[0m exp_config \u001B[38;5;241m=\u001B[39m create_config_obj(exp_config_yaml_path\u001B[38;5;241m=\u001B[39mexp_config_yaml_path)\n\u001B[0;32m---> 10\u001B[0m \u001B[43mworker_interface\u001B[49m\u001B[43m(\u001B[49m\u001B[43mexp_config\u001B[49m\u001B[38;5;241;43m=\u001B[39;49m\u001B[43mexp_config\u001B[49m\u001B[43m,\u001B[49m\n\u001B[1;32m     11\u001B[0m \u001B[43m                 \u001B[49m\u001B[43mvirny_flow_address\u001B[49m\u001B[38;5;241;43m=\u001B[39;49m\u001B[38;5;124;43m\"\u001B[39;49m\u001B[38;5;124;43mhttp://127.0.0.1:8080\u001B[39;49m\u001B[38;5;124;43m\"\u001B[39;49m\u001B[43m,\u001B[49m\n\u001B[1;32m     12\u001B[0m \u001B[43m                 \u001B[49m\u001B[43mdataset_config\u001B[49m\u001B[38;5;241;43m=\u001B[39;49m\u001B[43mDATASET_CONFIG\u001B[49m\u001B[43m,\u001B[49m\n\u001B[1;32m     13\u001B[0m \u001B[43m                 \u001B[49m\u001B[43mmodels_config\u001B[49m\u001B[38;5;241;43m=\u001B[39;49m\u001B[43mget_models_params_for_tuning\u001B[49m\u001B[43m(\u001B[49m\u001B[43mexp_config\u001B[49m\u001B[38;5;241;43m.\u001B[39;49m\u001B[43mrandom_state\u001B[49m\u001B[43m)\u001B[49m\u001B[43m)\u001B[49m\n",
      "File \u001B[0;32m~/Research/NYU/SIGMOD_Demo_2025/Code/virny-flow/virny_flow/user_interfaces/worker_interface.py:23\u001B[0m, in \u001B[0;36mworker_interface\u001B[0;34m(exp_config, virny_flow_address, dataset_config, models_config)\u001B[0m\n\u001B[1;32m     21\u001B[0m \u001B[38;5;28;01mwhile\u001B[39;00m task[\u001B[38;5;124m\"\u001B[39m\u001B[38;5;124mtask_name\u001B[39m\u001B[38;5;124m\"\u001B[39m] \u001B[38;5;241m!=\u001B[39m FINISH_EXECUTION \u001B[38;5;129;01mand\u001B[39;00m task \u001B[38;5;129;01mis\u001B[39;00m \u001B[38;5;129;01mnot\u001B[39;00m \u001B[38;5;28;01mNone\u001B[39;00m:\n\u001B[1;32m     22\u001B[0m     \u001B[38;5;28;01mif\u001B[39;00m task[\u001B[38;5;124m\"\u001B[39m\u001B[38;5;124mtask_name\u001B[39m\u001B[38;5;124m\"\u001B[39m] \u001B[38;5;241m==\u001B[39m NO_READY_TASK:\n\u001B[0;32m---> 23\u001B[0m         \u001B[43mtime\u001B[49m\u001B[38;5;241;43m.\u001B[39;49m\u001B[43msleep\u001B[49m\u001B[43m(\u001B[49m\u001B[38;5;241;43m10\u001B[39;49m\u001B[43m)\u001B[49m  \u001B[38;5;66;03m# Sleep for 10 seconds to wait for tasks to be unblocked\u001B[39;00m\n\u001B[1;32m     24\u001B[0m     \u001B[38;5;28;01melse\u001B[39;00m:\n\u001B[1;32m     25\u001B[0m         \u001B[38;5;66;03m# Use PipelineEvaluator to execute the task\u001B[39;00m\n\u001B[1;32m     26\u001B[0m         execution_status \u001B[38;5;241m=\u001B[39m pipeline_evaluator\u001B[38;5;241m.\u001B[39mexecute_task(task_name\u001B[38;5;241m=\u001B[39mtask[\u001B[38;5;124m\"\u001B[39m\u001B[38;5;124mtask_name\u001B[39m\u001B[38;5;124m\"\u001B[39m], seed\u001B[38;5;241m=\u001B[39mexp_config\u001B[38;5;241m.\u001B[39mrandom_state)\n",
      "\u001B[0;31mKeyboardInterrupt\u001B[0m: "
     ]
    }
   ],
   "source": [
    "from virny_flow.utils.common_helpers import create_config_obj\n",
    "from virny_flow.user_interfaces.worker_interface import worker_interface\n",
    "\n",
    "from virny_flow_demo.configs.datasets_config import DATASET_CONFIG\n",
    "from virny_flow_demo.configs.models_config_for_tuning import get_models_params_for_tuning\n",
    "\n",
    "# Read an experimental config\n",
    "exp_config_yaml_path = os.path.join('.', 'configs', 'exp_config.yaml')\n",
    "exp_config = create_config_obj(exp_config_yaml_path=exp_config_yaml_path)\n",
    "worker_interface(exp_config=exp_config,\n",
    "                 virny_flow_address=\"http://127.0.0.1:8080\",\n",
    "                 dataset_config=DATASET_CONFIG,\n",
    "                 models_config=get_models_params_for_tuning(exp_config.random_state))"
   ],
   "metadata": {
    "collapsed": false,
    "ExecuteTime": {
     "end_time": "2024-08-11T22:06:38.883633Z",
     "start_time": "2024-08-11T22:05:35.953277Z"
    }
   },
   "id": "bce2e1d300b8367d"
  },
  {
   "cell_type": "code",
   "execution_count": null,
   "outputs": [],
   "source": [],
   "metadata": {
    "collapsed": false
   },
   "id": "82b6d4d65d1bd6dd"
  }
 ],
 "metadata": {
  "kernelspec": {
   "display_name": "Python 3",
   "language": "python",
   "name": "python3"
  },
  "language_info": {
   "codemirror_mode": {
    "name": "ipython",
    "version": 2
   },
   "file_extension": ".py",
   "mimetype": "text/x-python",
   "name": "python",
   "nbconvert_exporter": "python",
   "pygments_lexer": "ipython2",
   "version": "2.7.6"
  }
 },
 "nbformat": 4,
 "nbformat_minor": 5
}
