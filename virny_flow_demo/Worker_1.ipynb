{
 "cells": [
  {
   "cell_type": "code",
   "execution_count": 1,
   "id": "initial_id",
   "metadata": {
    "collapsed": true,
    "ExecuteTime": {
     "end_time": "2024-08-11T20:44:42.265873Z",
     "start_time": "2024-08-11T20:44:41.900124Z"
    }
   },
   "outputs": [],
   "source": [
    "%matplotlib inline\n",
    "%load_ext autoreload\n",
    "%autoreload 2"
   ]
  },
  {
   "cell_type": "code",
   "execution_count": 2,
   "outputs": [],
   "source": [
    "import os\n",
    "import warnings\n",
    "warnings.filterwarnings('ignore')\n",
    "os.environ[\"PYTHONWARNINGS\"] = \"ignore\""
   ],
   "metadata": {
    "collapsed": false,
    "ExecuteTime": {
     "end_time": "2024-08-11T20:44:42.673409Z",
     "start_time": "2024-08-11T20:44:42.662691Z"
    }
   },
   "id": "c0a40eadca4a2a1d"
  },
  {
   "cell_type": "code",
   "execution_count": 3,
   "outputs": [
    {
     "name": "stderr",
     "output_type": "stream",
     "text": [
      "WARNING:root:No module named 'tempeh': LawSchoolGPADataset will be unavailable. To install, run:\n",
      "pip install 'aif360[LawSchoolGPA]'\n",
      "2024-08-11 23:45:18 web_server_client.py INFO    : New task name: median-mode\n"
     ]
    },
    {
     "name": "stdout",
     "output_type": "stream",
     "text": [
      "Session UUID for all results of experiments in the current session: 9e4cf3d8-5822-11ef-92bb-ae7d8bf09115\n"
     ]
    },
    {
     "name": "stderr",
     "output_type": "stream",
     "text": [
      "2024-08-11 23:45:18 ml_lifecycle.py    INFO    : Nulls are successfully imputed\n"
     ]
    },
    {
     "name": "stdout",
     "output_type": "stream",
     "text": [
      "X_tests_imputed_wo_sensitive_attrs_lst[0].columns --  Index(['duration', 'credit-amount', 'installment-rate', 'residence-since',\n",
      "       'existing-credits', 'number-people-provide-maintenance-for',\n",
      "       'checking-account', 'credit-history', 'purpose', 'savings-account',\n",
      "       'employment-since', 'other-debtors', 'property', 'other-installment',\n",
      "       'housing', 'job', 'telephone', 'foreign-worker', 'marital-status'],\n",
      "      dtype='object')\n",
      "CSV written to virny-flow-demo/german_experiments/null_imputation_stage/german/median-mode/imputed_german_experiments_german_median-mode_X_train_val.csv\n"
     ]
    },
    {
     "name": "stderr",
     "output_type": "stream",
     "text": [
      "2024-08-11 23:45:19 ml_lifecycle.py    INFO    : Imputed train and test sets are saved to S3\n",
      "2024-08-11 23:45:19 pipeline_evaluator.py INFO    : Task median-mode was executed!\n",
      "2024-08-11 23:45:19 worker_interface.py INFO    : Task median-mode was executed\n",
      "2024-08-11 23:45:19 web_server_client.py INFO    : Response: Modified 1 document(s)\n"
     ]
    },
    {
     "name": "stdout",
     "output_type": "stream",
     "text": [
      "CSV written to virny-flow-demo/german_experiments/null_imputation_stage/german/median-mode/imputed_german_experiments_german_median-mode_X_test.csv\n"
     ]
    },
    {
     "name": "stderr",
     "output_type": "stream",
     "text": [
      "2024-08-11 23:45:19 web_server_client.py INFO    : New task name: median-dummy\n",
      "2024-08-11 23:45:19 ml_lifecycle.py    INFO    : Nulls are successfully imputed\n"
     ]
    },
    {
     "name": "stdout",
     "output_type": "stream",
     "text": [
      "X_tests_imputed_wo_sensitive_attrs_lst[0].columns --  Index(['duration', 'credit-amount', 'installment-rate', 'residence-since',\n",
      "       'existing-credits', 'number-people-provide-maintenance-for',\n",
      "       'checking-account', 'credit-history', 'purpose', 'savings-account',\n",
      "       'employment-since', 'other-debtors', 'property', 'other-installment',\n",
      "       'housing', 'job', 'telephone', 'foreign-worker', 'marital-status'],\n",
      "      dtype='object')\n"
     ]
    },
    {
     "name": "stderr",
     "output_type": "stream",
     "text": [
      "2024-08-11 23:45:20 ml_lifecycle.py    INFO    : Imputed train and test sets are saved to S3\n",
      "2024-08-11 23:45:20 pipeline_evaluator.py INFO    : Task median-dummy was executed!\n",
      "2024-08-11 23:45:20 worker_interface.py INFO    : Task median-dummy was executed\n"
     ]
    },
    {
     "name": "stdout",
     "output_type": "stream",
     "text": [
      "CSV written to virny-flow-demo/german_experiments/null_imputation_stage/german/median-dummy/imputed_german_experiments_german_median-dummy_X_train_val.csv\n",
      "CSV written to virny-flow-demo/german_experiments/null_imputation_stage/german/median-dummy/imputed_german_experiments_german_median-dummy_X_test.csv\n"
     ]
    },
    {
     "name": "stderr",
     "output_type": "stream",
     "text": [
      "2024-08-11 23:45:20 web_server_client.py INFO    : Response: Modified 1 document(s)\n",
      "2024-08-11 23:45:20 web_server_client.py INFO    : New task name: median-mode&DIR\n",
      "2024-08-11 23:45:20 pipeline_evaluator.py INFO    : Task median-mode&DIR has an incorrect format\n",
      "2024-08-11 23:45:20 pipeline_evaluator.py INFO    : Task median-mode&DIR was executed!\n",
      "2024-08-11 23:45:20 worker_interface.py INFO    : Task median-mode&DIR was executed\n",
      "2024-08-11 23:45:20 web_server_client.py INFO    : New task name: median-dummy&DIR\n",
      "2024-08-11 23:45:20 pipeline_evaluator.py INFO    : Task median-dummy&DIR has an incorrect format\n",
      "2024-08-11 23:45:20 pipeline_evaluator.py INFO    : Task median-dummy&DIR was executed!\n",
      "2024-08-11 23:45:20 worker_interface.py INFO    : Task median-dummy&DIR was executed\n",
      "2024-08-11 23:45:20 web_server_client.py INFO    : New task name: median-mode&DIR&lr_clf\n",
      "2024-08-11 23:45:20 pipeline_evaluator.py INFO    : Task median-mode&DIR&lr_clf has an incorrect format\n",
      "2024-08-11 23:45:20 pipeline_evaluator.py INFO    : Task median-mode&DIR&lr_clf was executed!\n",
      "2024-08-11 23:45:20 worker_interface.py INFO    : Task median-mode&DIR&lr_clf was executed\n",
      "2024-08-11 23:45:20 web_server_client.py INFO    : New task name: median-mode&DIR&rf_clf\n",
      "2024-08-11 23:45:23 pipeline_evaluator.py INFO    : Task median-mode&DIR&rf_clf has an incorrect format\n",
      "2024-08-11 23:45:23 pipeline_evaluator.py INFO    : Task median-mode&DIR&rf_clf was executed!\n",
      "2024-08-11 23:45:23 worker_interface.py INFO    : Task median-mode&DIR&rf_clf was executed\n",
      "2024-08-11 23:45:23 web_server_client.py INFO    : New task name: median-dummy&DIR&lr_clf\n",
      "2024-08-11 23:45:23 pipeline_evaluator.py INFO    : Task median-dummy&DIR&lr_clf has an incorrect format\n",
      "2024-08-11 23:45:23 pipeline_evaluator.py INFO    : Task median-dummy&DIR&lr_clf was executed!\n",
      "2024-08-11 23:45:23 worker_interface.py INFO    : Task median-dummy&DIR&lr_clf was executed\n",
      "2024-08-11 23:45:23 web_server_client.py INFO    : New task name: median-dummy&DIR&rf_clf\n",
      "2024-08-11 23:45:23 pipeline_evaluator.py INFO    : Task median-dummy&DIR&rf_clf has an incorrect format\n",
      "2024-08-11 23:45:23 pipeline_evaluator.py INFO    : Task median-dummy&DIR&rf_clf was executed!\n",
      "2024-08-11 23:45:23 worker_interface.py INFO    : Task median-dummy&DIR&rf_clf was executed\n",
      "2024-08-11 23:45:23 web_server_client.py INFO    : New task name: NO_TASKS\n"
     ]
    }
   ],
   "source": [
    "from virny_flow.utils.common_helpers import create_config_obj\n",
    "from virny_flow.user_interfaces.worker_interface import worker_interface\n",
    "\n",
    "from virny_flow_demo.configs.datasets_config import DATASET_CONFIG\n",
    "from virny_flow_demo.configs.models_config_for_tuning import get_models_params_for_tuning\n",
    "\n",
    "# Read an experimental config\n",
    "exp_config_yaml_path = os.path.join('.', 'configs', 'exp_config.yaml')\n",
    "exp_config = create_config_obj(exp_config_yaml_path=exp_config_yaml_path)\n",
    "worker_interface(exp_config=exp_config,\n",
    "                 virny_flow_address=\"http://127.0.0.1:8080\",\n",
    "                 dataset_config=DATASET_CONFIG,\n",
    "                 models_config=get_models_params_for_tuning(exp_config.random_state))"
   ],
   "metadata": {
    "collapsed": false,
    "ExecuteTime": {
     "end_time": "2024-08-11T20:45:23.727784Z",
     "start_time": "2024-08-11T20:45:13.667354Z"
    }
   },
   "id": "bce2e1d300b8367d"
  },
  {
   "cell_type": "code",
   "execution_count": null,
   "outputs": [],
   "source": [],
   "metadata": {
    "collapsed": false
   },
   "id": "82b6d4d65d1bd6dd"
  }
 ],
 "metadata": {
  "kernelspec": {
   "display_name": "Python 3",
   "language": "python",
   "name": "python3"
  },
  "language_info": {
   "codemirror_mode": {
    "name": "ipython",
    "version": 2
   },
   "file_extension": ".py",
   "mimetype": "text/x-python",
   "name": "python",
   "nbconvert_exporter": "python",
   "pygments_lexer": "ipython2",
   "version": "2.7.6"
  }
 },
 "nbformat": 4,
 "nbformat_minor": 5
}
